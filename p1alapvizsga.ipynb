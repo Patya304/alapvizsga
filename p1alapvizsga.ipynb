{
  "cells": [
    {
      "cell_type": "markdown",
      "metadata": {
        "dotnet_interactive": {
          "language": "csharp"
        },
        "polyglot_notebook": {
          "kernelName": "csharp"
        }
      },
      "source": [
        "<a href=\"https://colab.research.google.com/github/feladatbank/python1/blob/main/p1alapvizsga.ipynb\" target=\"_parent\"><img src=\"https://colab.research.google.com/assets/colab-badge.svg\" alt=\"Open In Colab\"/></a>"
      ]
    },
    {
      "cell_type": "markdown",
      "metadata": {
        "dotnet_interactive": {
          "language": "csharp"
        },
        "polyglot_notebook": {
          "kernelName": "csharp"
        }
      },
      "source": [
        "---\n",
        "**30 darab véletlenszám**\n",
        "*   Írj egy programot, amely [1;12] intervallumon állít elő 30 darab véletlenszámot! \n",
        "* A képernyőre kizárólag csak az 5-el oszthatóakat írja ki,\n",
        "* jelenítse meg az összes véletlen generált számot \n",
        "* informálja a felhasználót arról is, hány darab ilyen szám volt."
      ]
    },
    {
      "cell_type": "code",
      "execution_count": 1,
      "metadata": {
        "id": "UOQcHogjDf6U"
      },
      "outputs": [
        {
          "name": "stdout",
          "output_type": "stream",
          "text": [
            "[7, 7, 2, 1, 4, 8, 1, 10, 11, 12, 8, 9, 12, 5, 9, 11, 12, 3, 6, 2, 11, 2, 8, 6, 4, 5, 9, 10, 7, 7]\n",
            "Öttel osztható számok száma: 4\n",
            "[5, 7, 4, 6, 9, 4, 1, 11, 2, 11, 4, 4, 11, 9, 8, 5, 2, 12, 7, 7, 9, 9, 1, 4, 12, 9, 7, 6, 11, 12]\n",
            "Öttel osztható számok száma: 2\n"
          ]
        }
      ],
      "source": [
        "# ZamArtem  30random.py\n",
        "\"\"\"\n",
        "Írj egy programot, amely [1;12] intervallumon állít elő 30 darab véletlenszámot! \n",
        "A képernyőre kizárólag csak az 5-el oszthatóakat írja ki, majd jelenítse meg az összes véletlen\n",
        "generált számot és a végén informálja a felhasználót arról is, hány darab ilyen szám volt.\n",
        "\"\"\"\n",
        "from random import randint\n",
        "\n",
        "\n",
        "szamlista = [randint(1, 12)for szam in range(30)]\n",
        "otteloszthato = len([szam for szam in szamlista if szam %5 == 0])\n",
        "print(szamlista)\n",
        "print(f'Öttel osztható számok száma: {otteloszthato}')\n",
        "\n",
        "################################################################\n",
        "#masik modszer\n",
        "\n",
        "lista  = []\n",
        "osszeg = []\n",
        "for i in range(30):\n",
        "    y = randint(1, 12)\n",
        "    if y % 5 == 0:\n",
        "        osszeg.append(y)        \n",
        "    lista.append(y)\n",
        "print(lista)\n",
        "print(f'Öttel osztható számok száma: {len(osszeg)}')"
      ]
    },
    {
      "cell_type": "markdown",
      "metadata": {
        "dotnet_interactive": {
          "language": "csharp"
        },
        "polyglot_notebook": {
          "kernelName": "csharp"
        }
      },
      "source": [
        "---\n",
        "**Páros - páratlan**\n",
        "\n",
        "* A program a felhasználótól bekér egy egész számot, \n",
        "* majd megvizsgálja, hogy a megadott szám:\n",
        "\n",
        "> pozitív páros vagy\n",
        "\n",
        "> negatív páratlan.\n",
        "\n",
        "* Az eredményről tájékoztatja a felhasználót.\n",
        "Pld:\n",
        "\n",
        "```\n",
        "Kérek egy számot: 2\n",
        "Pozitív páros.\n",
        "------------------------\n",
        "Kérek egy számot: -1\n",
        "Negatív páratlan.\n",
        "```"
      ]
    },
    {
      "cell_type": "code",
      "execution_count": 6,
      "metadata": {
        "id": "hY90sdZ3DzYG"
      },
      "outputs": [],
      "source": [
        "# ZamArtem Pozitív_páros.py  Update and rename p1adam_001 to Pozitív_páros.py\n",
        "'''1. Feladat\n",
        "Készíts egy programot, amely a felhasználótól bekér egy egész számot, majd megvizsgálja, hogy a megadott szám\n",
        "- pozitív páros vagy\n",
        "- negatív páratlan.\n",
        "Az eredményről tájékoztatja a felhasználót.\n",
        "Pld:\n",
        "------------------------\n",
        "Kérek egy számot: 2\n",
        "Pozitív páros.\n",
        "------------------------\n",
        "Kérek egy számot: -1\n",
        "Negatív páratlan.\n",
        "'''\n",
        "\n",
        "#megoldás:\n",
        "beker = int(input('Kérek egy számot: '))\n",
        "if beker > 0 and beker %2 == 0:\n",
        "    print('Pozitív páros.')\n",
        "if beker < 0 and beker %2 != 0:\n",
        "    print('Negatív páratlan.')"
      ]
    },
    {
      "cell_type": "markdown",
      "metadata": {
        "dotnet_interactive": {
          "language": "csharp"
        },
        "polyglot_notebook": {
          "kernelName": "csharp"
        }
      },
      "source": [
        "---\n",
        "**Abszolút érték függvény**\n",
        "\n",
        "Hozzon létre egy olyan függvényt, amely visszatér az abszolút értékkel!"
      ]
    },
    {
      "cell_type": "code",
      "execution_count": 3,
      "metadata": {
        "id": "S3Kcn6E7EKPK"
      },
      "outputs": [],
      "source": [
        "#loczylevi abszolut.py Rename p1noel_003 to abszolut.py\n",
        "'''Hozzon létre egy olyan függvényt, amely visszatér az abszolút értékkel!\n",
        "'''\n",
        "\n",
        "def abszolut(x):\n",
        "  if x > 0:\n",
        "    return x\n",
        "  else:\n",
        "    return -x"
      ]
    },
    {
      "cell_type": "markdown",
      "metadata": {
        "dotnet_interactive": {
          "language": "csharp"
        },
        "polyglot_notebook": {
          "kernelName": "csharp"
        }
      },
      "source": [
        "---\n",
        "**Betű a szóban**\n",
        "* A program tároljon el egy szót egy változóban. \n",
        "* A felhasználó adjon meg egy betűt, amiről a program döntse el, hogy előfordul-e a szóban! \n",
        "* Az eredményről tájékoztassa a felhasználót, és írja ki a tárolt szót is!\n",
        "   \n",
        "* A felhasználónak többször is legyen lehetősége újabb tippet megadnia. \n",
        "* A bekérés addig folytatódjon, amíg a felhasználó nem ad meg betűt, csupán egy ENTER-t üt!   \n",
        "\n",
        "* Igyekezz minél felhasználóbarátabbá tenni a programot! \n",
        "* A programnak lehetnek egyéb hasznos funkciói, például gyűjtheti és kiírhatja a jó és a rossz tippeket (betűket)."
      ]
    },
    {
      "cell_type": "code",
      "execution_count": 4,
      "metadata": {
        "id": "UemJ-LE2E6cU"
      },
      "outputs": [
        {
          "name": "stdout",
          "output_type": "stream",
          "text": [
            "python \n",
            "\n",
            "Jó tippek: []\n",
            "Rossz tippek: ['asadasd', 'asdasd', 'asdasdsa', 'adasd', 'asdasd', 'asd', 'asd']\n"
          ]
        }
      ],
      "source": [
        "# ZamArtem betu_a_szoban.py\n",
        "'''A program tároljon el egy szót egy változóban. \n",
        "A felhasználó adjon meg egy betűt, \n",
        "amiről a program döntse el, hogy előfordul-e a szóban! \n",
        "Az eredményről tájékoztassa a felhasználót, és írja ki a tárolt szót is!\n",
        "   \n",
        "A felhasználónak többször is legyen lehetősége újabb tippet megadnia. A bekérés addig folytatódjon, \n",
        "amíg a felhasználó nem ad meg betűt, csupán egy ENTER-t üt!   \n",
        "\n",
        "Igyekezz minél felhasználóbarátabbá tenni a programot! A programnak lehetnek egyéb hasznos funkciói, \n",
        "például gyűjtheti és kiírhatja a jó és a rossz tippeket (betűket).\n",
        "\n",
        "'''\n",
        "\n",
        "#megoldas\n",
        "\n",
        "szo = \"python\"\n",
        "print(szo, \"\\n\")\n",
        "\n",
        "jo_lista = []\n",
        "rossz_lista = []\n",
        "\n",
        "while True:\n",
        "  betu = input(\"Kérek egy betűt:\")\n",
        "  if betu == \"\":\n",
        "    break\n",
        "  else:\n",
        "    if betu in szo:\n",
        "      jo_lista.append(betu)\n",
        "    else:\n",
        "      rossz_lista.append(betu)\n",
        "\n",
        "print(f'Jó tippek: {jo_lista}')\n",
        "print(f'Rossz tippek: {rossz_lista}')"
      ]
    },
    {
      "cell_type": "markdown",
      "metadata": {
        "dotnet_interactive": {
          "language": "csharp"
        },
        "polyglot_notebook": {
          "kernelName": "csharp"
        }
      },
      "source": [
        "---\n",
        "**Enter**\n",
        "* A program számokat kér be mindaddig, amíg az csupán ENTER-t üt! \n",
        "* A számokat tárolja el a program egy listában! \n",
        "* Az adatbekérés befejezte után írja ki a program a lista elemeit, \n",
        "* a legkisebb és \n",
        "*a legnagyobb számot!"
      ]
    },
    {
      "cell_type": "code",
      "execution_count": 5,
      "metadata": {
        "id": "BQJMkOiNFqf3"
      },
      "outputs": [
        {
          "name": "stdout",
          "output_type": "stream",
          "text": [
            "lista elemei: []\n"
          ]
        },
        {
          "ename": "ValueError",
          "evalue": "min() arg is an empty sequence",
          "output_type": "error",
          "traceback": [
            "\u001b[1;31m---------------------------------------------------------------------------\u001b[0m",
            "\u001b[1;31mValueError\u001b[0m                                Traceback (most recent call last)",
            "Cell \u001b[1;32mIn[5], line 17\u001b[0m\n\u001b[0;32m     14\u001b[0m         folytatja \u001b[39m=\u001b[39m \u001b[39mFalse\u001b[39;00m\n\u001b[0;32m     16\u001b[0m \u001b[39mprint\u001b[39m(\u001b[39mf\u001b[39m\u001b[39m\"\u001b[39m\u001b[39mlista elemei: \u001b[39m\u001b[39m{\u001b[39;00mlista\u001b[39m}\u001b[39;00m\u001b[39m\"\u001b[39m)\n\u001b[1;32m---> 17\u001b[0m \u001b[39mprint\u001b[39m(\u001b[39mf\u001b[39m\u001b[39m\"\u001b[39m\u001b[39mlegkisebb: \u001b[39m\u001b[39m{\u001b[39;00m\u001b[39mmin\u001b[39;49m(lista)\u001b[39m}\u001b[39;00m\u001b[39m legnagyobb: \u001b[39m\u001b[39m{\u001b[39;00m\u001b[39mmax\u001b[39m(lista)\u001b[39m}\u001b[39;00m\u001b[39m\"\u001b[39m)\n",
            "\u001b[1;31mValueError\u001b[0m: min() arg is an empty sequence"
          ]
        }
      ],
      "source": [
        "# ZamArtem enter.py\n",
        "'''Készíts egy programot, amely a felhasználótól számokat kér be mindaddig, amíg az csupán ENTER-t nem üt! \n",
        "A számokat tárolja el a program egy listában! \n",
        "Az adatbekérés befejezte után írja ki a program a lista elemeit, a legkisebb és a legnagyobb számot!\n",
        "'''\n",
        "\n",
        "lista = []\n",
        "folytatja = True\n",
        "while folytatja:\n",
        "    bekeres = input(\"Kérek egy számot\\t\")\n",
        "    if bekeres != \"\":\n",
        "        lista.append(int(bekeres))\n",
        "    elif bekeres == \"\":\n",
        "        folytatja = False\n",
        "\n",
        "print(f\"lista elemei: {lista}\")\n",
        "print(f\"legkisebb: {min(lista)} legnagyobb: {max(lista)}\")"
      ]
    },
    {
      "cell_type": "markdown",
      "metadata": {
        "dotnet_interactive": {
          "language": "csharp"
        },
        "polyglot_notebook": {
          "kernelName": "csharp"
        }
      },
      "source": [
        "---\n",
        "**Fej vagy írás**\n",
        "\n",
        "A program a pénzfeldobást modellezi.\n",
        "* Kérdezze meg a felhasználótól a választását (fej vagy írás), \n",
        "* majd adjon tájékoztatást, hogy eltalálta-e!"
      ]
    },
    {
      "cell_type": "code",
      "execution_count": null,
      "metadata": {
        "id": "5a5MVHCNGwe7"
      },
      "outputs": [
        {
          "ename": "Error",
          "evalue": "(1,3): error CS1024: Preprocessor directive expected\r\n(2,1): error CS1011: Empty character literal\r\n(2,3): error CS1002: ; expected\r\n(2,3): error CS1010: Newline in constant\r\n(2,3): error CS1011: Empty character literal\r\n(2,4): error CS1002: ; expected\r\n(3,11): error CS1002: ; expected\r\n(3,27): error CS1002: ; expected\r\n(3,37): error CS1001: Identifier expected\r\n(3,37): error CS1002: ; expected\r\n(4,14): error CS1002: ; expected\r\n(4,31): error CS1002: ; expected\r\n(4,55): error CS1003: Syntax error, ',' expected\r\n(4,59): error CS1001: Identifier expected\r\n(4,60): error CS1002: ; expected\r\n(4,60): error CS7017: Member definition, statement, or end-of-file expected\r\n(4,73): error CS1002: ; expected\r\n(4,86): error CS1002: ; expected\r\n(4,86): error CS7017: Member definition, statement, or end-of-file expected\r\n(4,102): error CS1002: ; expected\r\n(4,105): error CS1002: ; expected\r\n(5,1): error CS1011: Empty character literal\r\n(5,3): error CS1002: ; expected\r\n(5,3): error CS1010: Newline in constant\r\n(5,3): error CS1011: Empty character literal\r\n(5,4): error CS1002: ; expected\r\n(7,14): error CS1002: ; expected\r\n(8,9): error CS1525: Invalid expression term '['\r\n(8,24): error CS1002: ; expected\r\n(9,33): error CS1002: ; expected\r\n(11,33): error CS1002: ; expected\r\n(13,4): error CS1003: Syntax error, '(' expected\r\n(13,22): error CS1026: ) expected\r\n(13,22): error CS1525: Invalid expression term ':'\r\n(13,22): error CS1002: ; expected\r\n(13,22): error CS7017: Member definition, statement, or end-of-file expected\r\n(14,21): error CS1002: ; expected\r\n(14,21): error CS8641: 'else' cannot start a statement.\r\n(14,21): error CS1003: Syntax error, '(' expected\r\n(14,21): error CS1525: Invalid expression term 'else'\r\n(14,21): error CS1026: ) expected\r\n(14,21): error CS1525: Invalid expression term 'else'\r\n(14,21): error CS1002: ; expected\r\n(16,5): error CS1525: Invalid expression term ':'\r\n(16,5): error CS1002: ; expected\r\n(16,5): error CS7017: Member definition, statement, or end-of-file expected",
          "output_type": "error",
          "traceback": [
            "(1,3): error CS1024: Preprocessor directive expected\r\n",
            "(2,1): error CS1011: Empty character literal\r\n",
            "(2,3): error CS1002: ; expected\r\n",
            "(2,3): error CS1010: Newline in constant\r\n",
            "(2,3): error CS1011: Empty character literal\r\n",
            "(2,4): error CS1002: ; expected\r\n",
            "(3,11): error CS1002: ; expected\r\n",
            "(3,27): error CS1002: ; expected\r\n",
            "(3,37): error CS1001: Identifier expected\r\n",
            "(3,37): error CS1002: ; expected\r\n",
            "(4,14): error CS1002: ; expected\r\n",
            "(4,31): error CS1002: ; expected\r\n",
            "(4,55): error CS1003: Syntax error, ',' expected\r\n",
            "(4,59): error CS1001: Identifier expected\r\n",
            "(4,60): error CS1002: ; expected\r\n",
            "(4,60): error CS7017: Member definition, statement, or end-of-file expected\r\n",
            "(4,73): error CS1002: ; expected\r\n",
            "(4,86): error CS1002: ; expected\r\n",
            "(4,86): error CS7017: Member definition, statement, or end-of-file expected\r\n",
            "(4,102): error CS1002: ; expected\r\n",
            "(4,105): error CS1002: ; expected\r\n",
            "(5,1): error CS1011: Empty character literal\r\n",
            "(5,3): error CS1002: ; expected\r\n",
            "(5,3): error CS1010: Newline in constant\r\n",
            "(5,3): error CS1011: Empty character literal\r\n",
            "(5,4): error CS1002: ; expected\r\n",
            "(7,14): error CS1002: ; expected\r\n",
            "(8,9): error CS1525: Invalid expression term '['\r\n",
            "(8,24): error CS1002: ; expected\r\n",
            "(9,33): error CS1002: ; expected\r\n",
            "(11,33): error CS1002: ; expected\r\n",
            "(13,4): error CS1003: Syntax error, '(' expected\r\n",
            "(13,22): error CS1026: ) expected\r\n",
            "(13,22): error CS1525: Invalid expression term ':'\r\n",
            "(13,22): error CS1002: ; expected\r\n",
            "(13,22): error CS7017: Member definition, statement, or end-of-file expected\r\n",
            "(14,21): error CS1002: ; expected\r\n",
            "(14,21): error CS8641: 'else' cannot start a statement.\r\n",
            "(14,21): error CS1003: Syntax error, '(' expected\r\n",
            "(14,21): error CS1525: Invalid expression term 'else'\r\n",
            "(14,21): error CS1026: ) expected\r\n",
            "(14,21): error CS1525: Invalid expression term 'else'\r\n",
            "(14,21): error CS1002: ; expected\r\n",
            "(16,5): error CS1525: Invalid expression term ':'\r\n",
            "(16,5): error CS1002: ; expected\r\n",
            "(16,5): error CS7017: Member definition, statement, or end-of-file expected"
          ]
        }
      ],
      "source": [
        "# ZamArtem fej_vagy_iras.py\n",
        "'''\n",
        "A program a pénzfeldobást modellezi.\n",
        "Kérdezze meg a felhasználótól a választását (fej vagy írás), majd adjon tájékoztatást, hogy eltalálta-e!\n",
        "'''\n",
        "\n",
        "import random\n",
        "lista = [\"fej\", \"írás\"]\n",
        "valasztas = random.choice(lista)\n",
        "\n",
        "beker = input(\"Fej vagy írás? \")\n",
        "\n",
        "if valasztas == beker:\n",
        "  print(\"Nyertél!!\")\n",
        "\n",
        "else:\n",
        "  print(\"Nem nyertél!\")"
      ]
    },
    {
      "cell_type": "markdown",
      "metadata": {
        "dotnet_interactive": {
          "language": "csharp"
        },
        "polyglot_notebook": {
          "kernelName": "csharp"
        }
      },
      "source": [
        "---\n",
        "**Osztható hárommal, néggyel**\n",
        "\n",
        "Készíts egy programot, amely a felhasználó által megadott egész számról eldönti, hogy\n",
        "* A szám csak 3-mal osztható,\n",
        "* a szám csak 4-gyel osztható,\n",
        "* a szám 3-mal és 4-gyel is osztható,\n",
        "* a szám sem 3-mal, sem 4-gyel nem osztható!\"\"\""
      ]
    },
    {
      "cell_type": "code",
      "execution_count": null,
      "metadata": {
        "id": "US-8PY9eIXqs"
      },
      "outputs": [
        {
          "ename": "Error",
          "evalue": "(1,3): error CS1024: Preprocessor directive expected\r\n(2,89): error CS8997: Unterminated raw string literal.\r\n(2,89): error CS1002: ; expected\r\n(3,8): error CS1002: ; expected\r\n(3,13): error CS1002: ; expected\r\n(3,19): error CS1002: ; expected\r\n(3,27): error CS1002: ; expected\r\n(3,27): error CS7017: Member definition, statement, or end-of-file expected\r\n(4,8): error CS1002: ; expected\r\n(4,13): error CS1002: ; expected\r\n(4,20): error CS1002: ; expected\r\n(4,28): error CS1002: ; expected\r\n(4,28): error CS7017: Member definition, statement, or end-of-file expected\r\n(5,8): error CS1002: ; expected\r\n(5,14): error CS1002: ; expected\r\n(5,17): error CS1002: ; expected\r\n(5,35): error CS1002: ; expected\r\n(5,35): error CS7017: Member definition, statement, or end-of-file expected\r\n(6,8): error CS1002: ; expected\r\n(6,12): error CS1002: ; expected\r\n(6,17): error CS1002: ; expected\r\n(6,17): error CS7017: Member definition, statement, or end-of-file expected\r\n(6,23): error CS1002: ; expected\r\n(6,30): error CS1002: ; expected\r\n(6,42): error CS1002: ; expected\r\n(17,56): error CS8997: Unterminated raw string literal.",
          "output_type": "error",
          "traceback": [
            "(1,3): error CS1024: Preprocessor directive expected\r\n",
            "(2,89): error CS8997: Unterminated raw string literal.\r\n",
            "(2,89): error CS1002: ; expected\r\n",
            "(3,8): error CS1002: ; expected\r\n",
            "(3,13): error CS1002: ; expected\r\n",
            "(3,19): error CS1002: ; expected\r\n",
            "(3,27): error CS1002: ; expected\r\n",
            "(3,27): error CS7017: Member definition, statement, or end-of-file expected\r\n",
            "(4,8): error CS1002: ; expected\r\n",
            "(4,13): error CS1002: ; expected\r\n",
            "(4,20): error CS1002: ; expected\r\n",
            "(4,28): error CS1002: ; expected\r\n",
            "(4,28): error CS7017: Member definition, statement, or end-of-file expected\r\n",
            "(5,8): error CS1002: ; expected\r\n",
            "(5,14): error CS1002: ; expected\r\n",
            "(5,17): error CS1002: ; expected\r\n",
            "(5,35): error CS1002: ; expected\r\n",
            "(5,35): error CS7017: Member definition, statement, or end-of-file expected\r\n",
            "(6,8): error CS1002: ; expected\r\n",
            "(6,12): error CS1002: ; expected\r\n",
            "(6,17): error CS1002: ; expected\r\n",
            "(6,17): error CS7017: Member definition, statement, or end-of-file expected\r\n",
            "(6,23): error CS1002: ; expected\r\n",
            "(6,30): error CS1002: ; expected\r\n",
            "(6,42): error CS1002: ; expected\r\n",
            "(17,56): error CS8997: Unterminated raw string literal."
          ]
        }
      ],
      "source": [
        "# ZamArtem haromnegy.py\n",
        "\"\"\"Készíts egy programot, amely a felhasználó által megadott egész számról eldönti, hogy\n",
        "A szám csak 3-mal osztható,\n",
        "a szám csak 4-gyel osztható,\n",
        "a szám 3-mal és 4-gyel is osztható,\n",
        "a szám sem 3-mal, sem 4-gyel nem osztható!\"\"\"\n",
        "\n",
        "szam = int(input(\"Kérek egy pozitív egész számot: \"))\n",
        "\n",
        "if szam % 3 == 0 and szam % 4 ==0:\n",
        "    print(\"A szám 3-mal és 4-gyel is osztható.\")\n",
        "elif szam % 3 == 0:\n",
        "    print(\"A szám csak 3-mal osztható\")\n",
        "elif szam % 4 == 0:\n",
        "    print(\"A szám csak 4-gyel osztható\")\n",
        "else:\n",
        "    print(\"A szám sem 3-mal, sem 4-gyel nem osztható!\")"
      ]
    },
    {
      "cell_type": "markdown",
      "metadata": {
        "dotnet_interactive": {
          "language": "csharp"
        },
        "polyglot_notebook": {
          "kernelName": "csharp"
        }
      },
      "source": [
        "---\n",
        "**A hosszabb szó**\n",
        "\n",
        "* A program kérjen be két szót a felhasználótól, \n",
        "* majd írja ki, hogy melyik a hosszabb illetve azt is ha a két szó egyenlő! \n"
      ]
    },
    {
      "cell_type": "code",
      "execution_count": null,
      "metadata": {
        "id": "67yfTQmNF-Nu"
      },
      "outputs": [
        {
          "ename": "Error",
          "evalue": "(1,3): error CS1024: Preprocessor directive expected\r\n(2,1): error CS1011: Empty character literal\r\n(2,3): error CS1002: ; expected\r\n(2,3): error CS1010: Newline in constant\r\n(2,5): error CS1002: ; expected\r\n(3,11): error CS1002: ; expected\r\n(3,21): error CS1002: ; expected\r\n(3,30): error CS1002: ; expected\r\n(4,1): error CS1044: Cannot use more than one type in a for, using, fixed, or declaration statement\r\n(4,6): error CS1002: ; expected\r\n(4,15): error CS1044: Cannot use more than one type in a for, using, fixed, or declaration statement\r\n(4,20): error CS1002: ; expected\r\n(4,29): error CS1002: ; expected\r\n(4,46): error CS1002: ; expected\r\n(4,58): error CS1002: ; expected\r\n(4,66): error CS1002: ; expected\r\n(4,74): error CS1002: ; expected\r\n(5,1): error CS1011: Empty character literal\r\n(5,3): error CS1002: ; expected\r\n(5,3): error CS1010: Newline in constant\r\n(5,3): error CS1011: Empty character literal\r\n(5,4): error CS1002: ; expected\r\n(7,2): error CS1024: Preprocessor directive expected\r\n(9,34): error CS1002: ; expected\r\n(10,40): error CS1002: ; expected\r\n(12,4): error CS1003: Syntax error, '(' expected\r\n(12,25): error CS1026: ) expected\r\n(12,25): error CS1525: Invalid expression term ':'\r\n(12,25): error CS1002: ; expected\r\n(12,25): error CS7017: Member definition, statement, or end-of-file expected\r\n(13,10): error CS1003: Syntax error, ',' expected\r\n(13,10): error CS1012: Too many characters in character literal\r\n(13,34): error CS1002: ; expected\r\n(14,14): error CS1001: Identifier expected\r\n(14,16): error CS1002: ; expected\r\n(14,16): error CS1525: Invalid expression term '=='\r\n(14,28): error CS1002: ; expected\r\n(14,28): error CS7017: Member definition, statement, or end-of-file expected\r\n(15,10): error CS1003: Syntax error, ',' expected\r\n(15,10): error CS1012: Too many characters in character literal\r\n(15,39): error CS1002: ; expected\r\n(15,39): error CS8641: 'else' cannot start a statement.\r\n(15,39): error CS1003: Syntax error, '(' expected\r\n(15,39): error CS1525: Invalid expression term 'else'\r\n(15,39): error CS1026: ) expected\r\n(15,39): error CS1525: Invalid expression term 'else'\r\n(15,39): error CS1002: ; expected\r\n(16,5): error CS1525: Invalid expression term ':'\r\n(16,5): error CS1002: ; expected\r\n(16,5): error CS7017: Member definition, statement, or end-of-file expected\r\n(17,24): error CS1002: ; expected\r\n(18,10): error CS1003: Syntax error, ',' expected\r\n(18,10): error CS1012: Too many characters in character literal",
          "output_type": "error",
          "traceback": [
            "(1,3): error CS1024: Preprocessor directive expected\r\n",
            "(2,1): error CS1011: Empty character literal\r\n",
            "(2,3): error CS1002: ; expected\r\n",
            "(2,3): error CS1010: Newline in constant\r\n",
            "(2,5): error CS1002: ; expected\r\n",
            "(3,11): error CS1002: ; expected\r\n",
            "(3,21): error CS1002: ; expected\r\n",
            "(3,30): error CS1002: ; expected\r\n",
            "(4,1): error CS1044: Cannot use more than one type in a for, using, fixed, or declaration statement\r\n",
            "(4,6): error CS1002: ; expected\r\n",
            "(4,15): error CS1044: Cannot use more than one type in a for, using, fixed, or declaration statement\r\n",
            "(4,20): error CS1002: ; expected\r\n",
            "(4,29): error CS1002: ; expected\r\n",
            "(4,46): error CS1002: ; expected\r\n",
            "(4,58): error CS1002: ; expected\r\n",
            "(4,66): error CS1002: ; expected\r\n",
            "(4,74): error CS1002: ; expected\r\n",
            "(5,1): error CS1011: Empty character literal\r\n",
            "(5,3): error CS1002: ; expected\r\n",
            "(5,3): error CS1010: Newline in constant\r\n",
            "(5,3): error CS1011: Empty character literal\r\n",
            "(5,4): error CS1002: ; expected\r\n",
            "(7,2): error CS1024: Preprocessor directive expected\r\n",
            "(9,34): error CS1002: ; expected\r\n",
            "(10,40): error CS1002: ; expected\r\n",
            "(12,4): error CS1003: Syntax error, '(' expected\r\n",
            "(12,25): error CS1026: ) expected\r\n",
            "(12,25): error CS1525: Invalid expression term ':'\r\n",
            "(12,25): error CS1002: ; expected\r\n",
            "(12,25): error CS7017: Member definition, statement, or end-of-file expected\r\n",
            "(13,10): error CS1003: Syntax error, ',' expected\r\n",
            "(13,10): error CS1012: Too many characters in character literal\r\n",
            "(13,34): error CS1002: ; expected\r\n",
            "(14,14): error CS1001: Identifier expected\r\n",
            "(14,16): error CS1002: ; expected\r\n",
            "(14,16): error CS1525: Invalid expression term '=='\r\n",
            "(14,28): error CS1002: ; expected\r\n",
            "(14,28): error CS7017: Member definition, statement, or end-of-file expected\r\n",
            "(15,10): error CS1003: Syntax error, ',' expected\r\n",
            "(15,10): error CS1012: Too many characters in character literal\r\n",
            "(15,39): error CS1002: ; expected\r\n",
            "(15,39): error CS8641: 'else' cannot start a statement.\r\n",
            "(15,39): error CS1003: Syntax error, '(' expected\r\n",
            "(15,39): error CS1525: Invalid expression term 'else'\r\n",
            "(15,39): error CS1026: ) expected\r\n",
            "(15,39): error CS1525: Invalid expression term 'else'\r\n",
            "(15,39): error CS1002: ; expected\r\n",
            "(16,5): error CS1525: Invalid expression term ':'\r\n",
            "(16,5): error CS1002: ; expected\r\n",
            "(16,5): error CS7017: Member definition, statement, or end-of-file expected\r\n",
            "(17,24): error CS1002: ; expected\r\n",
            "(18,10): error CS1003: Syntax error, ',' expected\r\n",
            "(18,10): error CS1012: Too many characters in character literal"
          ]
        }
      ],
      "source": [
        "# violetta2413 hosszabb_szo.py\n",
        "''' \n",
        "A program kérjen be két szót a felhasználótól, \n",
        "majd írja ki, hogy melyik a hosszabb illetve azt is ha a két szó egyenlő! \n",
        "'''\n",
        "\n",
        "#megoldas\n",
        "\n",
        "szo1 = input(\"Adj meg egy szót!\")\n",
        "szo2 = input(\"Adj meg egy másik szót!\")\n",
        "\n",
        "if len(szo1) > len(szo2):\n",
        "  print(f'A hosszabb szó:{szo1}')\n",
        "elif len(szo1) == len(szo2):\n",
        "  print(f'A két szó egyforma hosszú.')\n",
        "else:\n",
        "  len(szo2) > len(szo1)\n",
        "  print(f'A hosszabb szó:{szo2}')"
      ]
    },
    {
      "cell_type": "markdown",
      "metadata": {
        "dotnet_interactive": {
          "language": "csharp"
        },
        "polyglot_notebook": {
          "kernelName": "csharp"
        }
      },
      "source": [
        "---\n",
        "**Szöveg többször**\n",
        "\n",
        "írj egy programot, ami: \n",
        "* bekér egy számot (int), \n",
        "* majd egy tetszőlesges karakterlácot (string). \n",
        "* Ezt követően kiírja a karakterláncot csupa nagybetüvel, egymás mellé, szóközökkel elválasztva annyiszor, amennyiv a bekért egész szám volt!\n",
        "\n",
        "```\n",
        "Minta:\n",
        "írj be egy egész számot: 12\n",
        "írj be egy tetszőleges szöveget: hörcsög\n",
        "HÖRCSÖG HÖRCSÖG HÖRCSÖG HÖRCSÖG HÖRCSÖG HÖRCSÖG HÖRCSÖG HÖRCSÖG HÖRCSÖG HÖRCSÖG HÖRCSÖG HÖRCSÖG \n",
        "```"
      ]
    },
    {
      "cell_type": "code",
      "execution_count": null,
      "metadata": {
        "id": "7xBVXErXI1PY"
      },
      "outputs": [
        {
          "ename": "Error",
          "evalue": "(1,3): error CS1024: Preprocessor directive expected\r\n(5,140): error CS9000: Raw string literal delimiter must be on its own line.\r\n(5,143): error CS1002: ; expected\r\n(13,4): error CS1002: ; expected\r\n(15,3): error CS1024: Preprocessor directive expected\r\n(17,20): error CS1002: ; expected\r\n(18,11): error CS1525: Invalid expression term 'int'\r\n(18,50): error CS1002: ; expected\r\n(19,54): error CS1002: ; expected\r\n(20,28): error CS1002: ; expected\r\n(21,5): error CS1003: Syntax error, '(' expected\r\n(21,7): error CS1003: Syntax error, ',' expected\r\n(21,10): error CS1003: Syntax error, ',' expected\r\n(21,24): error CS1003: Syntax error, ',' expected\r\n(21,25): error CS1003: Syntax error, ',' expected\r\n(22,27): error CS1002: ; expected\r\n(22,27): error CS1733: Expected expression\r\n(22,27): error CS1002: ; expected\r\n(22,27): error CS1026: ) expected\r\n(22,27): error CS1733: Expected expression\r\n(22,27): error CS1002: ; expected",
          "output_type": "error",
          "traceback": [
            "(1,3): error CS1024: Preprocessor directive expected\r\n",
            "(5,140): error CS9000: Raw string literal delimiter must be on its own line.\r\n",
            "(5,143): error CS1002: ; expected\r\n",
            "(13,4): error CS1002: ; expected\r\n",
            "(15,3): error CS1024: Preprocessor directive expected\r\n",
            "(17,20): error CS1002: ; expected\r\n",
            "(18,11): error CS1525: Invalid expression term 'int'\r\n",
            "(18,50): error CS1002: ; expected\r\n",
            "(19,54): error CS1002: ; expected\r\n",
            "(20,28): error CS1002: ; expected\r\n",
            "(21,5): error CS1003: Syntax error, '(' expected\r\n",
            "(21,7): error CS1003: Syntax error, ',' expected\r\n",
            "(21,10): error CS1003: Syntax error, ',' expected\r\n",
            "(21,24): error CS1003: Syntax error, ',' expected\r\n",
            "(21,25): error CS1003: Syntax error, ',' expected\r\n",
            "(22,27): error CS1002: ; expected\r\n",
            "(22,27): error CS1733: Expected expression\r\n",
            "(22,27): error CS1002: ; expected\r\n",
            "(22,27): error CS1026: ) expected\r\n",
            "(22,27): error CS1733: Expected expression\r\n",
            "(22,27): error CS1002: ; expected"
          ]
        }
      ],
      "source": [
        "# ZamArtem intszavak.py \n",
        "\"\"\"\n",
        "írj egy programot, ami: bekér egy számot (int), \n",
        "majd egy tetszőlesges karakterlácot (string). \n",
        "Ezt követően kiírja a karakterláncot csupa nagybetüvel, egymás mellé, szóközökkel elválasztva annyiszor, amennyiv a bekért egész szám volt!\"\"\"\n",
        "\n",
        "\"\"\"\n",
        "Minta: (output)\n",
        "1.feladat:\n",
        "írj be egy egész számot: 12\n",
        "írj be egy tetszőleges szöveget: hörcsög\n",
        "HÖRCSÖG HÖRCSÖG HÖRCSÖG HÖRCSÖG HÖRCSÖG HÖRCSÖG HÖRCSÖG HÖRCSÖG HÖRCSÖG HÖRCSÖG HÖRCSÖG HÖRCSÖG \n",
        "\"\"\"\n",
        "\n",
        "# lehetséges megoldás\n",
        "\n",
        "print(\"1.feladat:\")\n",
        "bekeres = int(input(\"írj be egy egész számot: \"))\n",
        "bekeres2 = input(\"írj be egy tetszőleges szöveget: \")\n",
        "bekeres2 = bekeres2.upper()\n",
        "for i in range(bekeres):\n",
        "  print(bekeres2, end=\" \")"
      ]
    },
    {
      "cell_type": "markdown",
      "metadata": {
        "dotnet_interactive": {
          "language": "csharp"
        },
        "polyglot_notebook": {
          "kernelName": "csharp"
        }
      },
      "source": [
        "---\n",
        "**Jelszó**\n",
        "\n",
        "Írjon programot jelszo.py néven, amely azt vizsgálja, hogy egy felhasználó helyesen adja-e meg a jelszavát! \n",
        "\n",
        "* A program addig kérdezi újra a felhasználónév-jelszó párost, amíg a felhasználó mindkettőt hibátlanul meg nem adja. \n",
        "* A program egyetlen felhasználó (sis) jelszavát (1234) ismeri, csak ezt a párost fogadja el helyesként. \n",
        "* Mind a sikertelen, mind a sikeres bejelentkezési kísérletekről üzenetet ír a képernyőre."
      ]
    },
    {
      "cell_type": "code",
      "execution_count": null,
      "metadata": {
        "id": "ytbE4yPEJK1m"
      },
      "outputs": [
        {
          "ename": "Error",
          "evalue": "(1,4): error CS1024: Preprocessor directive expected\r\n(2,2): error CS1011: Empty character literal\r\n(2,4): error CS1002: ; expected\r\n(2,4): error CS1010: Newline in constant\r\n(2,4): error CS1011: Empty character literal\r\n(2,5): error CS1002: ; expected\r\n(3,18): error CS1002: ; expected\r\n(3,35): error CS1044: Cannot use more than one type in a for, using, fixed, or declaration statement\r\n(3,41): error CS1002: ; expected\r\n(3,56): error CS1044: Cannot use more than one type in a for, using, fixed, or declaration statement\r\n(3,61): error CS1002: ; expected\r\n(3,77): error CS1002: ; expected\r\n(3,90): error CS1002: ; expected\r\n(3,93): error CS1002: ; expected\r\n(3,99): error CS1002: ; expected\r\n(3,109): error CS1002: ; expected\r\n(4,12): error CS1002: ; expected\r\n(4,26): error CS1002: ; expected\r\n(4,33): error CS1002: ; expected\r\n(4,55): error CS1002: ; expected\r\n(4,61): error CS1002: ; expected\r\n(4,61): error CS7017: Member definition, statement, or end-of-file expected\r\n(4,70): error CS1002: ; expected\r\n(4,93): error CS1002: ; expected\r\n(4,108): error CS1002: ; expected\r\n(5,4): error CS1003: Syntax error, '(' expected\r\n(5,21): error CS1003: Syntax error, ',' expected\r\n(5,33): error CS1001: Identifier expected\r\n(5,33): error CS1003: Syntax error, ',' expected\r\n(5,37): error CS8124: Tuple must contain at least two elements.\r\n(5,49): error CS1003: Syntax error, ',' expected\r\n(5,50): error CS1031: Type expected\r\n(5,50): error CS8124: Tuple must contain at least two elements.\r\n(5,50): error CS1026: ) expected\r\n(5,50): error CS1001: Identifier expected\r\n(5,50): error CS1003: Syntax error, ',' expected\r\n(5,56): error CS1002: ; expected\r\n(5,62): error CS1002: ; expected\r\n(5,62): error CS7017: Member definition, statement, or end-of-file expected\r\n(5,73): error CS1002: ; expected\r\n(5,82): error CS1002: ; expected\r\n(5,93): error CS1002: ; expected\r\n(5,104): error CS1001: Identifier expected\r\n(5,104): error CS1002: ; expected\r\n(6,9): error CS1002: ; expected\r\n(6,19): error CS1002: ; expected\r\n(6,19): error CS7017: Member definition, statement, or end-of-file expected\r\n(6,28): error CS1002: ; expected\r\n(6,51): error CS1002: ; expected\r\n(6,74): error CS1002: ; expected\r\n(6,79): error CS1002: ; expected\r\n(6,90): error CS1001: Identifier expected\r\n(6,90): error CS1002: ; expected\r\n(7,1): error CS1011: Empty character literal\r\n(7,3): error CS1002: ; expected\r\n(7,3): error CS1010: Newline in constant\r\n(7,3): error CS1011: Empty character literal\r\n(7,4): error CS1002: ; expected\r\n(9,24): error CS1012: Too many characters in character literal\r\n(9,54): error CS1002: ; expected\r\n(10,18): error CS1012: Too many characters in character literal\r\n(10,38): error CS1002: ; expected\r\n(11,4): error CS1003: Syntax error, '(' expected\r\n(11,28): error CS1026: ) expected\r\n(11,41): error CS1002: ; expected\r\n(11,41): error CS1525: Invalid expression term '=='\r\n(11,50): error CS1002: ; expected\r\n(11,50): error CS7017: Member definition, statement, or end-of-file expected\r\n(12,21): error CS1002: ; expected\r\n(12,21): error CS8641: 'else' cannot start a statement.\r\n(12,21): error CS1003: Syntax error, '(' expected\r\n(12,21): error CS1525: Invalid expression term 'else'\r\n(12,21): error CS1026: ) expected\r\n(12,21): error CS1525: Invalid expression term 'else'\r\n(12,21): error CS1002: ; expected\r\n(13,5): error CS1525: Invalid expression term ':'\r\n(13,5): error CS1002: ; expected\r\n(13,5): error CS7017: Member definition, statement, or end-of-file expected\r\n(14,9): error CS1012: Too many characters in character literal",
          "output_type": "error",
          "traceback": [
            "(1,4): error CS1024: Preprocessor directive expected\r\n",
            "(2,2): error CS1011: Empty character literal\r\n",
            "(2,4): error CS1002: ; expected\r\n",
            "(2,4): error CS1010: Newline in constant\r\n",
            "(2,4): error CS1011: Empty character literal\r\n",
            "(2,5): error CS1002: ; expected\r\n",
            "(3,18): error CS1002: ; expected\r\n",
            "(3,35): error CS1044: Cannot use more than one type in a for, using, fixed, or declaration statement\r\n",
            "(3,41): error CS1002: ; expected\r\n",
            "(3,56): error CS1044: Cannot use more than one type in a for, using, fixed, or declaration statement\r\n",
            "(3,61): error CS1002: ; expected\r\n",
            "(3,77): error CS1002: ; expected\r\n",
            "(3,90): error CS1002: ; expected\r\n",
            "(3,93): error CS1002: ; expected\r\n",
            "(3,99): error CS1002: ; expected\r\n",
            "(3,109): error CS1002: ; expected\r\n",
            "(4,12): error CS1002: ; expected\r\n",
            "(4,26): error CS1002: ; expected\r\n",
            "(4,33): error CS1002: ; expected\r\n",
            "(4,55): error CS1002: ; expected\r\n",
            "(4,61): error CS1002: ; expected\r\n",
            "(4,61): error CS7017: Member definition, statement, or end-of-file expected\r\n",
            "(4,70): error CS1002: ; expected\r\n",
            "(4,93): error CS1002: ; expected\r\n",
            "(4,108): error CS1002: ; expected\r\n",
            "(5,4): error CS1003: Syntax error, '(' expected\r\n",
            "(5,21): error CS1003: Syntax error, ',' expected\r\n",
            "(5,33): error CS1001: Identifier expected\r\n",
            "(5,33): error CS1003: Syntax error, ',' expected\r\n",
            "(5,37): error CS8124: Tuple must contain at least two elements.\r\n",
            "(5,49): error CS1003: Syntax error, ',' expected\r\n",
            "(5,50): error CS1031: Type expected\r\n",
            "(5,50): error CS8124: Tuple must contain at least two elements.\r\n",
            "(5,50): error CS1026: ) expected\r\n",
            "(5,50): error CS1001: Identifier expected\r\n",
            "(5,50): error CS1003: Syntax error, ',' expected\r\n",
            "(5,56): error CS1002: ; expected\r\n",
            "(5,62): error CS1002: ; expected\r\n",
            "(5,62): error CS7017: Member definition, statement, or end-of-file expected\r\n",
            "(5,73): error CS1002: ; expected\r\n",
            "(5,82): error CS1002: ; expected\r\n",
            "(5,93): error CS1002: ; expected\r\n",
            "(5,104): error CS1001: Identifier expected\r\n",
            "(5,104): error CS1002: ; expected\r\n",
            "(6,9): error CS1002: ; expected\r\n",
            "(6,19): error CS1002: ; expected\r\n",
            "(6,19): error CS7017: Member definition, statement, or end-of-file expected\r\n",
            "(6,28): error CS1002: ; expected\r\n",
            "(6,51): error CS1002: ; expected\r\n",
            "(6,74): error CS1002: ; expected\r\n",
            "(6,79): error CS1002: ; expected\r\n",
            "(6,90): error CS1001: Identifier expected\r\n",
            "(6,90): error CS1002: ; expected\r\n",
            "(7,1): error CS1011: Empty character literal\r\n",
            "(7,3): error CS1002: ; expected\r\n",
            "(7,3): error CS1010: Newline in constant\r\n",
            "(7,3): error CS1011: Empty character literal\r\n",
            "(7,4): error CS1002: ; expected\r\n",
            "(9,24): error CS1012: Too many characters in character literal\r\n",
            "(9,54): error CS1002: ; expected\r\n",
            "(10,18): error CS1012: Too many characters in character literal\r\n",
            "(10,38): error CS1002: ; expected\r\n",
            "(11,4): error CS1003: Syntax error, '(' expected\r\n",
            "(11,28): error CS1026: ) expected\r\n",
            "(11,41): error CS1002: ; expected\r\n",
            "(11,41): error CS1525: Invalid expression term '=='\r\n",
            "(11,50): error CS1002: ; expected\r\n",
            "(11,50): error CS7017: Member definition, statement, or end-of-file expected\r\n",
            "(12,21): error CS1002: ; expected\r\n",
            "(12,21): error CS8641: 'else' cannot start a statement.\r\n",
            "(12,21): error CS1003: Syntax error, '(' expected\r\n",
            "(12,21): error CS1525: Invalid expression term 'else'\r\n",
            "(12,21): error CS1026: ) expected\r\n",
            "(12,21): error CS1525: Invalid expression term 'else'\r\n",
            "(12,21): error CS1002: ; expected\r\n",
            "(13,5): error CS1525: Invalid expression term ':'\r\n",
            "(13,5): error CS1002: ; expected\r\n",
            "(13,5): error CS7017: Member definition, statement, or end-of-file expected\r\n",
            "(14,9): error CS1012: Too many characters in character literal"
          ]
        }
      ],
      "source": [
        "#  ZamArtem jelszo.py\n",
        " '''\n",
        " Írjon programot jelszo.py néven, amely azt vizsgálja, hogy egy felhasználó helyesen adja-e meg a jelszavát! \n",
        " A program addig kérdezi újra a felhasználónév-jelszó párost, amíg a felhasználó mindkettőt hibátlanul meg nem adja. \n",
        " A program egyetlen felhasználó (sis) jelszavát (1234) ismeri, csak ezt a párost fogadja el helyesként. \n",
        " Mind a sikertelen, mind a sikeres bejelentkezési kísérletekről üzenetet ír a képernyőre.\n",
        "'''\n",
        "\n",
        "felhasznalonev = input('Kérem a felhasználó nevét: ')\n",
        "password = input('Kérem a jelszót: ')\n",
        "if felhasznalonev == \"sis\" and password == \"1234\":\n",
        "  print(\"Üdvözlöm!\")\n",
        "else:\n",
        "  print('Sikertelen bejelentkezés')"
      ]
    },
    {
      "cell_type": "markdown",
      "metadata": {
        "dotnet_interactive": {
          "language": "csharp"
        },
        "polyglot_notebook": {
          "kernelName": "csharp"
        }
      },
      "source": [
        "---\n",
        "**Keresztnév**\n",
        "* Készíts egy programot, amely a felhasználótól keresztneveket kér be egészen addig, amíg az ENTER-t nem üt (nem ad meg újabb nevet a bekérésnél)! \n",
        "* A program a bekért neveket írja ki a képernyőre!"
      ]
    },
    {
      "cell_type": "code",
      "execution_count": null,
      "metadata": {
        "id": "1JhwwUb_JeiM"
      },
      "outputs": [
        {
          "ename": "Error",
          "evalue": "(1,3): error CS1024: Preprocessor directive expected\r\n(2,1): error CS1011: Empty character literal\r\n(2,3): error CS1002: ; expected\r\n(2,3): error CS1010: Newline in constant\r\n(2,3): error CS1011: Empty character literal\r\n(2,4): error CS1002: ; expected\r\n(3,13): error CS1002: ; expected\r\n(3,22): error CS1002: ; expected\r\n(3,22): error CS7017: Member definition, statement, or end-of-file expected\r\n(3,32): error CS1002: ; expected\r\n(3,62): error CS1002: ; expected\r\n(3,69): error CS1002: ; expected\r\n(3,84): error CS1044: Cannot use more than one type in a for, using, fixed, or declaration statement\r\n(3,89): error CS1002: ; expected\r\n(3,97): error CS1002: ; expected\r\n(3,100): error CS1002: ; expected\r\n(3,115): error CS1003: Syntax error, ',' expected\r\n(3,125): error CS1003: Syntax error, ',' expected\r\n(3,133): error CS1003: Syntax error, ',' expected\r\n(3,143): error CS1001: Identifier expected\r\n(3,144): error CS1002: ; expected\r\n(4,3): error CS1002: ; expected\r\n(4,13): error CS1002: ; expected\r\n(4,28): error CS1002: ; expected\r\n(4,36): error CS1002: ; expected\r\n(4,48): error CS1002: ; expected\r\n(5,1): error CS1011: Empty character literal\r\n(5,3): error CS1002: ; expected\r\n(5,3): error CS1010: Newline in constant\r\n(5,3): error CS1011: Empty character literal\r\n(5,4): error CS1002: ; expected\r\n(6,10): error CS1525: Invalid expression term '['\r\n(6,11): error CS0443: Syntax error; value expected\r\n(6,12): error CS1002: ; expected\r\n(7,11): error CS1002: ; expected\r\n(8,7): error CS1003: Syntax error, '(' expected\r\n(8,13): error CS1011: Empty character literal\r\n(8,15): error CS1026: ) expected\r\n(8,15): error CS1525: Invalid expression term ':'\r\n(8,15): error CS1002: ; expected\r\n(8,15): error CS7017: Member definition, statement, or end-of-file expected\r\n(9,18): error CS1012: Too many characters in character literal\r\n(9,45): error CS1002: ; expected\r\n(10,8): error CS1003: Syntax error, '(' expected\r\n(10,15): error CS1011: Empty character literal\r\n(10,17): error CS1026: ) expected\r\n(10,17): error CS1525: Invalid expression term ':'\r\n(10,17): error CS1002: ; expected\r\n(10,17): error CS7017: Member definition, statement, or end-of-file expected\r\n(11,27): error CS1002: ; expected",
          "output_type": "error",
          "traceback": [
            "(1,3): error CS1024: Preprocessor directive expected\r\n",
            "(2,1): error CS1011: Empty character literal\r\n",
            "(2,3): error CS1002: ; expected\r\n",
            "(2,3): error CS1010: Newline in constant\r\n",
            "(2,3): error CS1011: Empty character literal\r\n",
            "(2,4): error CS1002: ; expected\r\n",
            "(3,13): error CS1002: ; expected\r\n",
            "(3,22): error CS1002: ; expected\r\n",
            "(3,22): error CS7017: Member definition, statement, or end-of-file expected\r\n",
            "(3,32): error CS1002: ; expected\r\n",
            "(3,62): error CS1002: ; expected\r\n",
            "(3,69): error CS1002: ; expected\r\n",
            "(3,84): error CS1044: Cannot use more than one type in a for, using, fixed, or declaration statement\r\n",
            "(3,89): error CS1002: ; expected\r\n",
            "(3,97): error CS1002: ; expected\r\n",
            "(3,100): error CS1002: ; expected\r\n",
            "(3,115): error CS1003: Syntax error, ',' expected\r\n",
            "(3,125): error CS1003: Syntax error, ',' expected\r\n",
            "(3,133): error CS1003: Syntax error, ',' expected\r\n",
            "(3,143): error CS1001: Identifier expected\r\n",
            "(3,144): error CS1002: ; expected\r\n",
            "(4,3): error CS1002: ; expected\r\n",
            "(4,13): error CS1002: ; expected\r\n",
            "(4,28): error CS1002: ; expected\r\n",
            "(4,36): error CS1002: ; expected\r\n",
            "(4,48): error CS1002: ; expected\r\n",
            "(5,1): error CS1011: Empty character literal\r\n",
            "(5,3): error CS1002: ; expected\r\n",
            "(5,3): error CS1010: Newline in constant\r\n",
            "(5,3): error CS1011: Empty character literal\r\n",
            "(5,4): error CS1002: ; expected\r\n",
            "(6,10): error CS1525: Invalid expression term '['\r\n",
            "(6,11): error CS0443: Syntax error; value expected\r\n",
            "(6,12): error CS1002: ; expected\r\n",
            "(7,11): error CS1002: ; expected\r\n",
            "(8,7): error CS1003: Syntax error, '(' expected\r\n",
            "(8,13): error CS1011: Empty character literal\r\n",
            "(8,15): error CS1026: ) expected\r\n",
            "(8,15): error CS1525: Invalid expression term ':'\r\n",
            "(8,15): error CS1002: ; expected\r\n",
            "(8,15): error CS7017: Member definition, statement, or end-of-file expected\r\n",
            "(9,18): error CS1012: Too many characters in character literal\r\n",
            "(9,45): error CS1002: ; expected\r\n",
            "(10,8): error CS1003: Syntax error, '(' expected\r\n",
            "(10,15): error CS1011: Empty character literal\r\n",
            "(10,17): error CS1026: ) expected\r\n",
            "(10,17): error CS1525: Invalid expression term ':'\r\n",
            "(10,17): error CS1002: ; expected\r\n",
            "(10,17): error CS7017: Member definition, statement, or end-of-file expected\r\n",
            "(11,27): error CS1002: ; expected"
          ]
        }
      ],
      "source": [
        "# ZamArtem Rename p1.feladatk.attila to keresztnev.py\n",
        "'''\n",
        "Készíts egy programot, amely a felhasználótól keresztneveket kér be egészen addig, amíg az ENTER-t nem üt (nem ad meg újabb nevet a bekérésnél)! \n",
        "A program a bekért neveket írja ki a képernyőre!\n",
        "'''\n",
        "szavak = []\n",
        "szo = None\n",
        "while szo !='':\n",
        "    szo = input( 'Adj meg keresztneveket! ')\n",
        "    if szo != '':\n",
        "        szavak.append(szo)\n",
        "print(szavak)"
      ]
    },
    {
      "cell_type": "markdown",
      "metadata": {
        "dotnet_interactive": {
          "language": "csharp"
        },
        "polyglot_notebook": {
          "kernelName": "csharp"
        }
      },
      "source": [
        "---\n",
        "**Kisebb - nagyobb - egyenlő**\n",
        "\n",
        "* A program kérjen be két számot a felhasználótól, \n",
        "* majd írja ki, hogy melyik a nagyobb! \n",
        "\n",
        "```\n",
        "A program üzeneteinek megfogalmazásában kövesse az alábbi mintát:\n",
        "--------------\n",
        "Adj meg egy számot! 1\n",
        "Adj meg egy másik számot! 17\n",
        "A nagyobb érték 17\n",
        "--------------\n",
        "Adj meg egy számot! 28\n",
        "Adj meg egy másik számot! -2\n",
        "A nagyobb érték: 28\n",
        "---------------\n",
        "Adj meg egy számot! 999\n",
        "Adj meg egy másik számot! 999\n",
        "A két szám egyenlő\n",
        "------------------ \n",
        "```"
      ]
    },
    {
      "cell_type": "markdown",
      "metadata": {
        "dotnet_interactive": {
          "language": "csharp"
        },
        "polyglot_notebook": {
          "kernelName": "csharp"
        }
      },
      "source": [
        "---\n",
        "**Nagyobb - egyenlő**\n",
        "\n",
        "* A program kérjen be két számot a felhasználótól, \n",
        "* majd írja ki, hogy melyik a nagyobb! \n",
        "*A program üzeneteinek megfogalmazásában kövesse az alábbi mintát:\n",
        "```\n",
        "Adj meg egy számot! 1\n",
        "Adj meg egy másik számot! 17\n",
        "A nagyobb érték 17\n",
        "\n",
        "Adj meg egy számot! 28\n",
        "Adj meg egy másik számot! -2\n",
        "A nagyobb érték: 28\n",
        "\n",
        "Adj meg egy számot! 999\n",
        "Adj meg egy másik számot! 999\n",
        "A két szám egyenlő\n",
        "```"
      ]
    },
    {
      "cell_type": "code",
      "execution_count": null,
      "metadata": {
        "id": "rHTktzn8JsQ8"
      },
      "outputs": [
        {
          "ename": "Error",
          "evalue": "(1,3): error CS1024: Preprocessor directive expected\r\n(2,1): error CS1011: Empty character literal\r\n(2,3): error CS1002: ; expected\r\n(2,3): error CS1010: Newline in constant\r\n(2,3): error CS1011: Empty character literal\r\n(2,4): error CS1002: ; expected\r\n(4,3): error CS1003: Syntax error, '(' expected\r\n(4,18): error CS1003: Syntax error, ',' expected\r\n(4,25): error CS1003: Syntax error, ',' expected\r\n(4,34): error CS1003: Syntax error, ',' expected\r\n(4,48): error CS1001: Identifier expected\r\n(5,11): error CS1003: Syntax error, ',' expected\r\n(5,13): error CS1001: Identifier expected\r\n(5,27): error CS1003: Syntax error, ',' expected\r\n(5,36): error CS8989: The 'parameter null-checking' feature is not supported.\r\n(5,37): error CS1003: Syntax error, ',' expected\r\n(6,11): error CS1003: Syntax error, ',' expected\r\n(6,41): error CS1003: Syntax error, ',' expected\r\n(6,52): error CS1003: Syntax error, ',' expected\r\n(6,65): error CS1003: Syntax error, ',' expected\r\n(7,15): error CS1003: Syntax error, ',' expected\r\n(8,9): error CS1003: Syntax error, ',' expected\r\n(8,19): error CS8989: The 'parameter null-checking' feature is not supported.\r\n(8,21): error CS1003: Syntax error, ',' expected\r\n(8,22): error CS1003: Syntax error, ',' expected\r\n(9,9): error CS1003: Syntax error, ',' expected\r\n(9,19): error CS1003: Syntax error, ',' expected\r\n(9,25): error CS1001: Identifier expected\r\n(9,25): error CS8989: The 'parameter null-checking' feature is not supported.\r\n(9,27): error CS1003: Syntax error, ',' expected\r\n(9,29): error CS1003: Syntax error, ',' expected\r\n(10,11): error CS1003: Syntax error, ',' expected\r\n(10,17): error CS1001: Identifier expected\r\n(10,17): error CS1003: Syntax error, ',' expected\r\n(11,15): error CS1003: Syntax error, ',' expected\r\n(12,9): error CS1003: Syntax error, ',' expected\r\n(12,19): error CS8989: The 'parameter null-checking' feature is not supported.\r\n(12,21): error CS1003: Syntax error, ',' expected\r\n(12,23): error CS1003: Syntax error, ',' expected\r\n(13,9): error CS1003: Syntax error, ',' expected\r\n(13,19): error CS1003: Syntax error, ',' expected\r\n(13,25): error CS1001: Identifier expected\r\n(13,25): error CS8989: The 'parameter null-checking' feature is not supported.\r\n(13,27): error CS1003: Syntax error, ',' expected\r\n(13,29): error CS1003: Syntax error, ',' expected\r\n(14,11): error CS1003: Syntax error, ',' expected\r\n(14,16): error CS1001: Identifier expected\r\n(14,16): error CS1003: Syntax error, ',' expected\r\n(15,16): error CS1003: Syntax error, ',' expected\r\n(16,9): error CS1003: Syntax error, ',' expected\r\n(16,19): error CS8989: The 'parameter null-checking' feature is not supported.\r\n(16,21): error CS1003: Syntax error, ',' expected\r\n(16,24): error CS1003: Syntax error, ',' expected\r\n(17,9): error CS1003: Syntax error, ',' expected\r\n(17,19): error CS1003: Syntax error, ',' expected\r\n(17,25): error CS1001: Identifier expected\r\n(17,25): error CS8989: The 'parameter null-checking' feature is not supported.\r\n(17,27): error CS1003: Syntax error, ',' expected\r\n(17,30): error CS1003: Syntax error, ',' expected\r\n(18,7): error CS1003: Syntax error, ',' expected\r\n(18,19): error CS1003: Syntax error, ',' expected\r\n(20,1): error CS1011: Empty character literal\r\n(20,3): error CS1010: Newline in constant\r\n(20,3): error CS1011: Empty character literal\r\n(20,4): error CS1003: Syntax error, ',' expected\r\n(22,11): error CS1001: Identifier expected\r\n(22,13): error CS1525: Invalid expression term 'int'\r\n(22,47): error CS1003: Syntax error, ',' expected\r\n(23,14): error CS1001: Identifier expected\r\n(23,16): error CS1525: Invalid expression term 'int'\r\n(23,56): error CS1003: Syntax error, ',' expected\r\n(25,7): error CS1003: Syntax error, ',' expected\r\n(25,11): error CS1001: Identifier expected\r\n(25,11): error CS1003: Syntax error, ',' expected\r\n(26,6): error CS1003: Syntax error, ',' expected\r\n(26,16): error CS1001: Identifier expected\r\n(26,16): error CS1003: Syntax error, ',' expected\r\n(26,18): error CS1003: Syntax error, ',' expected\r\n(26,30): error CS1001: Identifier expected\r\n(26,30): error CS1003: Syntax error, ',' expected\r\n(26,31): error CS1003: Syntax error, ',' expected\r\n(27,10): error CS1001: Identifier expected\r\n(27,10): error CS1003: Syntax error, ',' expected\r\n(27,12): error CS8124: Tuple must contain at least two elements.\r\n(27,12): error CS1026: ) expected\r\n(27,12): error CS1001: Identifier expected\r\n(27,12): error CS1003: Syntax error, ',' expected\r\n(27,43): error CS1002: ; expected\r\n(28,10): error CS1002: ; expected\r\n(29,32): error CS1003: Syntax error, '>' expected\r\n(29,32): error CS1003: Syntax error, '(' expected\r\n(29,32): error CS1001: Identifier expected\r\n(30,10): error CS1001: Identifier expected\r\n(30,10): error CS1003: Syntax error, ',' expected\r\n(30,12): error CS8124: Tuple must contain at least two elements.\r\n(30,12): error CS1026: ) expected\r\n(30,12): error CS1001: Identifier expected\r\n(30,12): error CS1003: Syntax error, ',' expected\r\n(30,46): error CS1002: ; expected\r\n(31,10): error CS1002: ; expected\r\n(32,18): error CS1002: ; expected\r\n(32,18): error CS1525: Invalid expression term '=='\r\n(32,33): error CS1002: ; expected\r\n(32,33): error CS7017: Member definition, statement, or end-of-file expected\r\n(33,33): error CS1002: ; expected\r\n(34,10): error CS1002: ; expected",
          "output_type": "error",
          "traceback": [
            "(1,3): error CS1024: Preprocessor directive expected\r\n",
            "(2,1): error CS1011: Empty character literal\r\n",
            "(2,3): error CS1002: ; expected\r\n",
            "(2,3): error CS1010: Newline in constant\r\n",
            "(2,3): error CS1011: Empty character literal\r\n",
            "(2,4): error CS1002: ; expected\r\n",
            "(4,3): error CS1003: Syntax error, '(' expected\r\n",
            "(4,18): error CS1003: Syntax error, ',' expected\r\n",
            "(4,25): error CS1003: Syntax error, ',' expected\r\n",
            "(4,34): error CS1003: Syntax error, ',' expected\r\n",
            "(4,48): error CS1001: Identifier expected\r\n",
            "(5,11): error CS1003: Syntax error, ',' expected\r\n",
            "(5,13): error CS1001: Identifier expected\r\n",
            "(5,27): error CS1003: Syntax error, ',' expected\r\n",
            "(5,36): error CS8989: The 'parameter null-checking' feature is not supported.\r\n",
            "(5,37): error CS1003: Syntax error, ',' expected\r\n",
            "(6,11): error CS1003: Syntax error, ',' expected\r\n",
            "(6,41): error CS1003: Syntax error, ',' expected\r\n",
            "(6,52): error CS1003: Syntax error, ',' expected\r\n",
            "(6,65): error CS1003: Syntax error, ',' expected\r\n",
            "(7,15): error CS1003: Syntax error, ',' expected\r\n",
            "(8,9): error CS1003: Syntax error, ',' expected\r\n",
            "(8,19): error CS8989: The 'parameter null-checking' feature is not supported.\r\n",
            "(8,21): error CS1003: Syntax error, ',' expected\r\n",
            "(8,22): error CS1003: Syntax error, ',' expected\r\n",
            "(9,9): error CS1003: Syntax error, ',' expected\r\n",
            "(9,19): error CS1003: Syntax error, ',' expected\r\n",
            "(9,25): error CS1001: Identifier expected\r\n",
            "(9,25): error CS8989: The 'parameter null-checking' feature is not supported.\r\n",
            "(9,27): error CS1003: Syntax error, ',' expected\r\n",
            "(9,29): error CS1003: Syntax error, ',' expected\r\n",
            "(10,11): error CS1003: Syntax error, ',' expected\r\n",
            "(10,17): error CS1001: Identifier expected\r\n",
            "(10,17): error CS1003: Syntax error, ',' expected\r\n",
            "(11,15): error CS1003: Syntax error, ',' expected\r\n",
            "(12,9): error CS1003: Syntax error, ',' expected\r\n",
            "(12,19): error CS8989: The 'parameter null-checking' feature is not supported.\r\n",
            "(12,21): error CS1003: Syntax error, ',' expected\r\n",
            "(12,23): error CS1003: Syntax error, ',' expected\r\n",
            "(13,9): error CS1003: Syntax error, ',' expected\r\n",
            "(13,19): error CS1003: Syntax error, ',' expected\r\n",
            "(13,25): error CS1001: Identifier expected\r\n",
            "(13,25): error CS8989: The 'parameter null-checking' feature is not supported.\r\n",
            "(13,27): error CS1003: Syntax error, ',' expected\r\n",
            "(13,29): error CS1003: Syntax error, ',' expected\r\n",
            "(14,11): error CS1003: Syntax error, ',' expected\r\n",
            "(14,16): error CS1001: Identifier expected\r\n",
            "(14,16): error CS1003: Syntax error, ',' expected\r\n",
            "(15,16): error CS1003: Syntax error, ',' expected\r\n",
            "(16,9): error CS1003: Syntax error, ',' expected\r\n",
            "(16,19): error CS8989: The 'parameter null-checking' feature is not supported.\r\n",
            "(16,21): error CS1003: Syntax error, ',' expected\r\n",
            "(16,24): error CS1003: Syntax error, ',' expected\r\n",
            "(17,9): error CS1003: Syntax error, ',' expected\r\n",
            "(17,19): error CS1003: Syntax error, ',' expected\r\n",
            "(17,25): error CS1001: Identifier expected\r\n",
            "(17,25): error CS8989: The 'parameter null-checking' feature is not supported.\r\n",
            "(17,27): error CS1003: Syntax error, ',' expected\r\n",
            "(17,30): error CS1003: Syntax error, ',' expected\r\n",
            "(18,7): error CS1003: Syntax error, ',' expected\r\n",
            "(18,19): error CS1003: Syntax error, ',' expected\r\n",
            "(20,1): error CS1011: Empty character literal\r\n",
            "(20,3): error CS1010: Newline in constant\r\n",
            "(20,3): error CS1011: Empty character literal\r\n",
            "(20,4): error CS1003: Syntax error, ',' expected\r\n",
            "(22,11): error CS1001: Identifier expected\r\n",
            "(22,13): error CS1525: Invalid expression term 'int'\r\n",
            "(22,47): error CS1003: Syntax error, ',' expected\r\n",
            "(23,14): error CS1001: Identifier expected\r\n",
            "(23,16): error CS1525: Invalid expression term 'int'\r\n",
            "(23,56): error CS1003: Syntax error, ',' expected\r\n",
            "(25,7): error CS1003: Syntax error, ',' expected\r\n",
            "(25,11): error CS1001: Identifier expected\r\n",
            "(25,11): error CS1003: Syntax error, ',' expected\r\n",
            "(26,6): error CS1003: Syntax error, ',' expected\r\n",
            "(26,16): error CS1001: Identifier expected\r\n",
            "(26,16): error CS1003: Syntax error, ',' expected\r\n",
            "(26,18): error CS1003: Syntax error, ',' expected\r\n",
            "(26,30): error CS1001: Identifier expected\r\n",
            "(26,30): error CS1003: Syntax error, ',' expected\r\n",
            "(26,31): error CS1003: Syntax error, ',' expected\r\n",
            "(27,10): error CS1001: Identifier expected\r\n",
            "(27,10): error CS1003: Syntax error, ',' expected\r\n",
            "(27,12): error CS8124: Tuple must contain at least two elements.\r\n",
            "(27,12): error CS1026: ) expected\r\n",
            "(27,12): error CS1001: Identifier expected\r\n",
            "(27,12): error CS1003: Syntax error, ',' expected\r\n",
            "(27,43): error CS1002: ; expected\r\n",
            "(28,10): error CS1002: ; expected\r\n",
            "(29,32): error CS1003: Syntax error, '>' expected\r\n",
            "(29,32): error CS1003: Syntax error, '(' expected\r\n",
            "(29,32): error CS1001: Identifier expected\r\n",
            "(30,10): error CS1001: Identifier expected\r\n",
            "(30,10): error CS1003: Syntax error, ',' expected\r\n",
            "(30,12): error CS8124: Tuple must contain at least two elements.\r\n",
            "(30,12): error CS1026: ) expected\r\n",
            "(30,12): error CS1001: Identifier expected\r\n",
            "(30,12): error CS1003: Syntax error, ',' expected\r\n",
            "(30,46): error CS1002: ; expected\r\n",
            "(31,10): error CS1002: ; expected\r\n",
            "(32,18): error CS1002: ; expected\r\n",
            "(32,18): error CS1525: Invalid expression term '=='\r\n",
            "(32,33): error CS1002: ; expected\r\n",
            "(32,33): error CS7017: Member definition, statement, or end-of-file expected\r\n",
            "(33,33): error CS1002: ; expected\r\n",
            "(34,10): error CS1002: ; expected"
          ]
        }
      ],
      "source": [
        "# ZamArtem Rename main.py to kettoegyenlo.py\n",
        "'''\n",
        "Nagyobb szám.\n",
        "A program kérjen be két számot a felhasználótól, \n",
        "majd írja ki, hogy melyik a nagyobb! \n",
        "A program üzeneteinek megfogalmazásában kövesse az alábbi mintát:\n",
        "--------------\n",
        "Adj meg egy számot! 1\n",
        "Adj meg egy másik számot! 17\n",
        "A nagyobb érték 17\n",
        "--------------\n",
        "Adj meg egy számot! 28\n",
        "Adj meg egy másik számot! -2\n",
        "A nagyobb érték: 28\n",
        "---------------\n",
        "Adj meg egy számot! 999\n",
        "Adj meg egy másik számot! 999\n",
        "A két szám egyenlő\n",
        "------------------\n",
        "'''\n",
        "\n",
        "elso_szam = int(input(\"Adj meg egy számot! \"))\n",
        "masodik_szam = int(input(\"Adj meg egy másik számot! \"))\n",
        "\n",
        "while True:\n",
        "  if elso_szam > masodik_szam:\n",
        "    print(f\"A nagyobb érték: {elso_szam}\")\n",
        "    break\n",
        "  elif elso_szam < masodik_szam:\n",
        "    print(f\"A nagyobb érték: {masodik_szam}\")\n",
        "    break\n",
        "  elif elso_szam == masodik_szam:\n",
        "    print(\"A két szám egyenlő.\")\n",
        "    break"
      ]
    },
    {
      "cell_type": "markdown",
      "metadata": {
        "dotnet_interactive": {
          "language": "csharp"
        },
        "polyglot_notebook": {
          "kernelName": "csharp"
        }
      },
      "source": [
        "---\n",
        "**A legrövidebb szó**\n",
        "* Írj egy programot, amely a felhasználótól bekér 3 szót, \n",
        "* ezeket egy listában tárolja, \n",
        "* és egy eljárás segítségével meghatározza, és a képernyőre kiírja, melyik a legrövidebb szó!"
      ]
    },
    {
      "cell_type": "code",
      "execution_count": null,
      "metadata": {
        "id": "cNklGhELJ49A"
      },
      "outputs": [
        {
          "ename": "Error",
          "evalue": "(1,3): error CS1024: Preprocessor directive expected\r\n(7,4): error CS1002: ; expected\r\n(9,2): error CS1024: Preprocessor directive expected\r\n(11,8): error CS1525: Invalid expression term '['\r\n(11,9): error CS0443: Syntax error; value expected\r\n(11,10): error CS1002: ; expected\r\n(12,5): error CS1003: Syntax error, '(' expected\r\n(12,7): error CS1003: Syntax error, ',' expected\r\n(12,10): error CS1003: Syntax error, ',' expected\r\n(12,18): error CS1003: Syntax error, ',' expected\r\n(12,19): error CS1003: Syntax error, ',' expected\r\n(13,36): error CS1003: Syntax error, ',' expected\r\n(14,22): error CS1003: Syntax error, ',' expected\r\n(15,5): error CS1003: Syntax error, ',' expected\r\n(15,18): error CS1003: Syntax error, ',' expected\r\n(15,19): error CS1003: Syntax error, ',' expected\r\n(16,21): error CS1002: ; expected\r\n(16,21): error CS1525: Invalid expression term 'for'\r\n(16,21): error CS1002: ; expected\r\n(16,21): error CS1026: ) expected\r\n(17,9): error CS1003: Syntax error, '(' expected\r\n(17,11): error CS1003: Syntax error, ',' expected\r\n(17,14): error CS1003: Syntax error, ',' expected\r\n(17,19): error CS1003: Syntax error, ',' expected\r\n(17,20): error CS1002: ; expected\r\n(17,20): error CS1525: Invalid expression term 'if'\r\n(17,20): error CS1002: ; expected\r\n(17,20): error CS1026: ) expected\r\n(18,12): error CS1003: Syntax error, '(' expected\r\n(18,31): error CS1026: ) expected\r\n(18,31): error CS1525: Invalid expression term ':'\r\n(18,31): error CS1002: ; expected\r\n(18,31): error CS7017: Member definition, statement, or end-of-file expected\r\n(19,22): error CS1002: ; expected\r\n(20,19): error CS1003: Syntax error, ',' expected\r\n(20,44): error CS1002: ; expected",
          "output_type": "error",
          "traceback": [
            "(1,3): error CS1024: Preprocessor directive expected\r\n",
            "(7,4): error CS1002: ; expected\r\n",
            "(9,2): error CS1024: Preprocessor directive expected\r\n",
            "(11,8): error CS1525: Invalid expression term '['\r\n",
            "(11,9): error CS0443: Syntax error; value expected\r\n",
            "(11,10): error CS1002: ; expected\r\n",
            "(12,5): error CS1003: Syntax error, '(' expected\r\n",
            "(12,7): error CS1003: Syntax error, ',' expected\r\n",
            "(12,10): error CS1003: Syntax error, ',' expected\r\n",
            "(12,18): error CS1003: Syntax error, ',' expected\r\n",
            "(12,19): error CS1003: Syntax error, ',' expected\r\n",
            "(13,36): error CS1003: Syntax error, ',' expected\r\n",
            "(14,22): error CS1003: Syntax error, ',' expected\r\n",
            "(15,5): error CS1003: Syntax error, ',' expected\r\n",
            "(15,18): error CS1003: Syntax error, ',' expected\r\n",
            "(15,19): error CS1003: Syntax error, ',' expected\r\n",
            "(16,21): error CS1002: ; expected\r\n",
            "(16,21): error CS1525: Invalid expression term 'for'\r\n",
            "(16,21): error CS1002: ; expected\r\n",
            "(16,21): error CS1026: ) expected\r\n",
            "(17,9): error CS1003: Syntax error, '(' expected\r\n",
            "(17,11): error CS1003: Syntax error, ',' expected\r\n",
            "(17,14): error CS1003: Syntax error, ',' expected\r\n",
            "(17,19): error CS1003: Syntax error, ',' expected\r\n",
            "(17,20): error CS1002: ; expected\r\n",
            "(17,20): error CS1525: Invalid expression term 'if'\r\n",
            "(17,20): error CS1002: ; expected\r\n",
            "(17,20): error CS1026: ) expected\r\n",
            "(18,12): error CS1003: Syntax error, '(' expected\r\n",
            "(18,31): error CS1026: ) expected\r\n",
            "(18,31): error CS1525: Invalid expression term ':'\r\n",
            "(18,31): error CS1002: ; expected\r\n",
            "(18,31): error CS7017: Member definition, statement, or end-of-file expected\r\n",
            "(19,22): error CS1002: ; expected\r\n",
            "(20,19): error CS1003: Syntax error, ',' expected\r\n",
            "(20,44): error CS1002: ; expected"
          ]
        }
      ],
      "source": [
        "# loczylevi Rename p1szendro_002 to legrovidebb_szo.py\n",
        "\n",
        "\"\"\"\n",
        "Írj egy programot, amely a felhasználótól bekér 3 szót, \n",
        "ezeket egy listában tárolja, \n",
        "és egy eljárás segítségével meghatározza, és a képernyőre kiírja, melyik a legrövidebb szó!\n",
        "\"\"\"\n",
        "\n",
        "#megtoldás:\n",
        "\n",
        "lista= []\n",
        "for i in range(3):\n",
        "    nev = input(\"Kérek egy szót: \")\n",
        "    lista.append(nev)\n",
        "def legrovidebb():\n",
        "    kicsi = lista[0]\n",
        "    for i in lista:\n",
        "        if len(i) > len(kicsi):\n",
        "            i = kicsi\n",
        "    return print(f\"A legrövidebb szó: {i}\")\n",
        "legrovidebb()"
      ]
    },
    {
      "cell_type": "markdown",
      "metadata": {
        "dotnet_interactive": {
          "language": "csharp"
        },
        "polyglot_notebook": {
          "kernelName": "csharp"
        }
      },
      "source": [
        "---\n",
        "**Lista összege**\n",
        "\n",
        "Készíts egy programot, \n",
        "* amely [1;10] intervallumon generál 5 darab véletlen egész számot, \n",
        "* és ezeket tárolja el egy listában! \n",
        "* A program adja össze a lista elemeit, írja ki a képernyőre az összegüket \n",
        "* és a lista elemeit!"
      ]
    },
    {
      "cell_type": "code",
      "execution_count": null,
      "metadata": {
        "id": "RwqEkp1xKBB_"
      },
      "outputs": [
        {
          "ename": "Error",
          "evalue": "(1,4): error CS1024: Preprocessor directive expected\r\n(2,2): error CS1011: Empty character literal\r\n(2,4): error CS1002: ; expected\r\n(2,4): error CS1010: Newline in constant\r\n(2,4): error CS1011: Empty character literal\r\n(2,5): error CS1002: ; expected\r\n(3,13): error CS1002: ; expected\r\n(3,22): error CS1002: ; expected\r\n(3,22): error CS7017: Member definition, statement, or end-of-file expected\r\n(3,32): error CS1003: Syntax error, ']' expected\r\n(3,35): error CS1002: ; expected\r\n(3,35): error CS7017: Member definition, statement, or end-of-file expected\r\n(3,59): error CS1002: ; expected\r\n(3,61): error CS1002: ; expected\r\n(3,76): error CS1002: ; expected\r\n(4,1): error CS1044: Cannot use more than one type in a for, using, fixed, or declaration statement\r\n(4,4): error CS1002: ; expected\r\n(4,19): error CS1002: ; expected\r\n(4,26): error CS1002: ; expected\r\n(4,35): error CS1002: ; expected\r\n(5,11): error CS1002: ; expected\r\n(5,22): error CS1002: ; expected\r\n(5,30): error CS1002: ; expected\r\n(5,37): error CS1002: ; expected\r\n(5,37): error CS7017: Member definition, statement, or end-of-file expected\r\n(6,9): error CS1002: ; expected\r\n(6,22): error CS1002: ; expected\r\n(6,36): error CS1002: ; expected\r\n(6,41): error CS1002: ; expected\r\n(6,54): error CS1002: ; expected\r\n(7,1): error CS1011: Empty character literal\r\n(7,3): error CS1002: ; expected\r\n(7,3): error CS1010: Newline in constant\r\n(7,3): error CS1011: Empty character literal\r\n(7,4): error CS1002: ; expected\r\n(8,14): error CS1002: ; expected\r\n(9,10): error CS1525: Invalid expression term '['\r\n(9,11): error CS0443: Syntax error; value expected\r\n(9,12): error CS1002: ; expected\r\n(10,5): error CS1003: Syntax error, '(' expected\r\n(10,7): error CS1003: Syntax error, ',' expected\r\n(10,10): error CS1003: Syntax error, ',' expected\r\n(10,18): error CS1003: Syntax error, ',' expected\r\n(10,19): error CS1003: Syntax error, ',' expected\r\n(11,41): error CS1003: Syntax error, ',' expected\r\n(12,8): error CS1003: Syntax error, ',' expected\r\n(12,35): error CS1003: Syntax error, ',' expected\r\n(13,8): error CS1003: Syntax error, ',' expected\r\n(13,41): error CS1002: ; expected\r\n(13,41): error CS1733: Expected expression\r\n(13,41): error CS1002: ; expected\r\n(13,41): error CS1026: ) expected\r\n(13,41): error CS1733: Expected expression\r\n(13,41): error CS1002: ; expected",
          "output_type": "error",
          "traceback": [
            "(1,4): error CS1024: Preprocessor directive expected\r\n",
            "(2,2): error CS1011: Empty character literal\r\n",
            "(2,4): error CS1002: ; expected\r\n",
            "(2,4): error CS1010: Newline in constant\r\n",
            "(2,4): error CS1011: Empty character literal\r\n",
            "(2,5): error CS1002: ; expected\r\n",
            "(3,13): error CS1002: ; expected\r\n",
            "(3,22): error CS1002: ; expected\r\n",
            "(3,22): error CS7017: Member definition, statement, or end-of-file expected\r\n",
            "(3,32): error CS1003: Syntax error, ']' expected\r\n",
            "(3,35): error CS1002: ; expected\r\n",
            "(3,35): error CS7017: Member definition, statement, or end-of-file expected\r\n",
            "(3,59): error CS1002: ; expected\r\n",
            "(3,61): error CS1002: ; expected\r\n",
            "(3,76): error CS1002: ; expected\r\n",
            "(4,1): error CS1044: Cannot use more than one type in a for, using, fixed, or declaration statement\r\n",
            "(4,4): error CS1002: ; expected\r\n",
            "(4,19): error CS1002: ; expected\r\n",
            "(4,26): error CS1002: ; expected\r\n",
            "(4,35): error CS1002: ; expected\r\n",
            "(5,11): error CS1002: ; expected\r\n",
            "(5,22): error CS1002: ; expected\r\n",
            "(5,30): error CS1002: ; expected\r\n",
            "(5,37): error CS1002: ; expected\r\n",
            "(5,37): error CS7017: Member definition, statement, or end-of-file expected\r\n",
            "(6,9): error CS1002: ; expected\r\n",
            "(6,22): error CS1002: ; expected\r\n",
            "(6,36): error CS1002: ; expected\r\n",
            "(6,41): error CS1002: ; expected\r\n",
            "(6,54): error CS1002: ; expected\r\n",
            "(7,1): error CS1011: Empty character literal\r\n",
            "(7,3): error CS1002: ; expected\r\n",
            "(7,3): error CS1010: Newline in constant\r\n",
            "(7,3): error CS1011: Empty character literal\r\n",
            "(7,4): error CS1002: ; expected\r\n",
            "(8,14): error CS1002: ; expected\r\n",
            "(9,10): error CS1525: Invalid expression term '['\r\n",
            "(9,11): error CS0443: Syntax error; value expected\r\n",
            "(9,12): error CS1002: ; expected\r\n",
            "(10,5): error CS1003: Syntax error, '(' expected\r\n",
            "(10,7): error CS1003: Syntax error, ',' expected\r\n",
            "(10,10): error CS1003: Syntax error, ',' expected\r\n",
            "(10,18): error CS1003: Syntax error, ',' expected\r\n",
            "(10,19): error CS1003: Syntax error, ',' expected\r\n",
            "(11,41): error CS1003: Syntax error, ',' expected\r\n",
            "(12,8): error CS1003: Syntax error, ',' expected\r\n",
            "(12,35): error CS1003: Syntax error, ',' expected\r\n",
            "(13,8): error CS1003: Syntax error, ',' expected\r\n",
            "(13,41): error CS1002: ; expected\r\n",
            "(13,41): error CS1733: Expected expression\r\n",
            "(13,41): error CS1002: ; expected\r\n",
            "(13,41): error CS1026: ) expected\r\n",
            "(13,41): error CS1733: Expected expression\r\n",
            "(13,41): error CS1002: ; expected"
          ]
        }
      ],
      "source": [
        " # ZamArtem Update and rename p1.feladatk.attila5 to lista_osszege.py\n",
        " '''\n",
        "Készíts egy programot, amely [1;10] intervallumon generál 5 darab véletlen egész számot, \n",
        "és ezeket tárolja el egy listában! \n",
        "A program adja össze a lista elemeit, \n",
        "írja ki a képernyőre az összegüket és a lista elemeit!\n",
        "'''\n",
        "import random\n",
        "szamok = []\n",
        "for i in range(5):\n",
        "    szamok.append(random.randint(1, 10))\n",
        "print(f\"A lista elemei: {szamok}\")\n",
        "print(f\"a lista összege: {sum(szamok)}\")"
      ]
    },
    {
      "cell_type": "markdown",
      "metadata": {
        "dotnet_interactive": {
          "language": "csharp"
        },
        "polyglot_notebook": {
          "kernelName": "csharp"
        }
      },
      "source": [
        "---\n",
        "**Kisebb függvény**\n",
        "\n",
        "* Hozzon létre egy olyan függvényt, amely két érték közül visszatér a kisebb értékkel!\n"
      ]
    },
    {
      "cell_type": "code",
      "execution_count": null,
      "metadata": {
        "id": "CkV5-OwgKPu8"
      },
      "outputs": [
        {
          "ename": "Error",
          "evalue": "(1,3): error CS1024: Preprocessor directive expected\r\n(2,2): error CS1024: Preprocessor directive expected\r\n(4,1): error CS1011: Empty character literal\r\n(4,3): error CS1002: ; expected\r\n(4,3): error CS1012: Too many characters in character literal\r\n(4,24): error CS1002: ; expected\r\n(4,24): error CS1011: Empty character literal\r\n(4,26): error CS1002: ; expected\r\n(6,14): error CS1001: Identifier expected\r\n(6,17): error CS1001: Identifier expected\r\n(6,19): error CS1018: Keyword 'this' or 'base' expected\r\n(6,19): error CS1002: ; expected\r\n(7,6): error CS1003: Syntax error, '(' expected\r\n(7,12): error CS1026: ) expected\r\n(7,12): error CS1525: Invalid expression term ':'\r\n(7,12): error CS1002: ; expected\r\n(7,12): error CS7017: Member definition, statement, or end-of-file expected\r\n(8,13): error CS1002: ; expected\r\n(8,13): error CS8641: 'else' cannot start a statement.\r\n(8,13): error CS1003: Syntax error, '(' expected\r\n(8,13): error CS1525: Invalid expression term 'else'\r\n(8,13): error CS1026: ) expected\r\n(8,13): error CS1525: Invalid expression term 'else'\r\n(8,13): error CS1002: ; expected\r\n(9,7): error CS1525: Invalid expression term ':'\r\n(9,7): error CS1002: ; expected\r\n(9,7): error CS7017: Member definition, statement, or end-of-file expected\r\n(10,13): error CS1002: ; expected",
          "output_type": "error",
          "traceback": [
            "(1,3): error CS1024: Preprocessor directive expected\r\n",
            "(2,2): error CS1024: Preprocessor directive expected\r\n",
            "(4,1): error CS1011: Empty character literal\r\n",
            "(4,3): error CS1002: ; expected\r\n",
            "(4,3): error CS1012: Too many characters in character literal\r\n",
            "(4,24): error CS1002: ; expected\r\n",
            "(4,24): error CS1011: Empty character literal\r\n",
            "(4,26): error CS1002: ; expected\r\n",
            "(6,14): error CS1001: Identifier expected\r\n",
            "(6,17): error CS1001: Identifier expected\r\n",
            "(6,19): error CS1018: Keyword 'this' or 'base' expected\r\n",
            "(6,19): error CS1002: ; expected\r\n",
            "(7,6): error CS1003: Syntax error, '(' expected\r\n",
            "(7,12): error CS1026: ) expected\r\n",
            "(7,12): error CS1525: Invalid expression term ':'\r\n",
            "(7,12): error CS1002: ; expected\r\n",
            "(7,12): error CS7017: Member definition, statement, or end-of-file expected\r\n",
            "(8,13): error CS1002: ; expected\r\n",
            "(8,13): error CS8641: 'else' cannot start a statement.\r\n",
            "(8,13): error CS1003: Syntax error, '(' expected\r\n",
            "(8,13): error CS1525: Invalid expression term 'else'\r\n",
            "(8,13): error CS1026: ) expected\r\n",
            "(8,13): error CS1525: Invalid expression term 'else'\r\n",
            "(8,13): error CS1002: ; expected\r\n",
            "(9,7): error CS1525: Invalid expression term ':'\r\n",
            "(9,7): error CS1002: ; expected\r\n",
            "(9,7): error CS7017: Member definition, statement, or end-of-file expected\r\n",
            "(10,13): error CS1002: ; expected"
          ]
        }
      ],
      "source": [
        "# loczylevi Rename p1noel_002 to melyik kisebb.py\n",
        "#Hozzon létre egy olyan függvényt, amely két érték közül visszatér a kisebb értékkel!\n",
        "    \n",
        "'''Lehetséges Megoldás'''\n",
        "\n",
        "def minimum(x, y):\n",
        "  if x <= y:\n",
        "    return x\n",
        "  else:\n",
        "    return y"
      ]
    },
    {
      "cell_type": "markdown",
      "metadata": {
        "dotnet_interactive": {
          "language": "csharp"
        },
        "polyglot_notebook": {
          "kernelName": "csharp"
        }
      },
      "source": [
        "---\n",
        "**Nagyobb függvény**\n",
        "\n",
        "* Hozzon létre egy olyan függvényt, amely két érték közül visszatér a nagyobb \n",
        "értékkel!"
      ]
    },
    {
      "cell_type": "code",
      "execution_count": null,
      "metadata": {
        "id": "E61oCakoKaq8"
      },
      "outputs": [
        {
          "ename": "Error",
          "evalue": "(1,3): error CS1024: Preprocessor directive expected\r\n(2,2): error CS1024: Preprocessor directive expected\r\n(4,1): error CS1011: Empty character literal\r\n(4,3): error CS1002: ; expected\r\n(4,3): error CS1012: Too many characters in character literal\r\n(4,24): error CS1002: ; expected\r\n(4,24): error CS1011: Empty character literal\r\n(4,26): error CS1002: ; expected\r\n(6,14): error CS1001: Identifier expected\r\n(6,17): error CS1001: Identifier expected\r\n(6,19): error CS1018: Keyword 'this' or 'base' expected\r\n(6,19): error CS1002: ; expected\r\n(7,6): error CS1003: Syntax error, '(' expected\r\n(7,12): error CS1026: ) expected\r\n(7,12): error CS1525: Invalid expression term ':'\r\n(7,12): error CS1002: ; expected\r\n(7,12): error CS7017: Member definition, statement, or end-of-file expected\r\n(8,13): error CS1002: ; expected\r\n(8,13): error CS8641: 'else' cannot start a statement.\r\n(8,13): error CS1003: Syntax error, '(' expected\r\n(8,13): error CS1525: Invalid expression term 'else'\r\n(8,13): error CS1026: ) expected\r\n(8,13): error CS1525: Invalid expression term 'else'\r\n(8,13): error CS1002: ; expected\r\n(9,7): error CS1525: Invalid expression term ':'\r\n(9,7): error CS1002: ; expected\r\n(9,7): error CS7017: Member definition, statement, or end-of-file expected\r\n(10,13): error CS1002: ; expected",
          "output_type": "error",
          "traceback": [
            "(1,3): error CS1024: Preprocessor directive expected\r\n",
            "(2,2): error CS1024: Preprocessor directive expected\r\n",
            "(4,1): error CS1011: Empty character literal\r\n",
            "(4,3): error CS1002: ; expected\r\n",
            "(4,3): error CS1012: Too many characters in character literal\r\n",
            "(4,24): error CS1002: ; expected\r\n",
            "(4,24): error CS1011: Empty character literal\r\n",
            "(4,26): error CS1002: ; expected\r\n",
            "(6,14): error CS1001: Identifier expected\r\n",
            "(6,17): error CS1001: Identifier expected\r\n",
            "(6,19): error CS1018: Keyword 'this' or 'base' expected\r\n",
            "(6,19): error CS1002: ; expected\r\n",
            "(7,6): error CS1003: Syntax error, '(' expected\r\n",
            "(7,12): error CS1026: ) expected\r\n",
            "(7,12): error CS1525: Invalid expression term ':'\r\n",
            "(7,12): error CS1002: ; expected\r\n",
            "(7,12): error CS7017: Member definition, statement, or end-of-file expected\r\n",
            "(8,13): error CS1002: ; expected\r\n",
            "(8,13): error CS8641: 'else' cannot start a statement.\r\n",
            "(8,13): error CS1003: Syntax error, '(' expected\r\n",
            "(8,13): error CS1525: Invalid expression term 'else'\r\n",
            "(8,13): error CS1026: ) expected\r\n",
            "(8,13): error CS1525: Invalid expression term 'else'\r\n",
            "(8,13): error CS1002: ; expected\r\n",
            "(9,7): error CS1525: Invalid expression term ':'\r\n",
            "(9,7): error CS1002: ; expected\r\n",
            "(9,7): error CS7017: Member definition, statement, or end-of-file expected\r\n",
            "(10,13): error CS1002: ; expected"
          ]
        }
      ],
      "source": [
        "# loczylevi Rename p1noel_001 to melyik_nagyobb.py\n",
        "#Hozzon létre egy olyan függvényt, amely két érték közül visszatér a nagyobb értékkel!\n",
        "\n",
        "'''Lehetséges Megoldás'''\n",
        "\n",
        "def maximum(x, y):\n",
        "  if x >= y:\n",
        "    return x\n",
        "  else:\n",
        "    return y"
      ]
    },
    {
      "cell_type": "markdown",
      "metadata": {
        "dotnet_interactive": {
          "language": "csharp"
        },
        "polyglot_notebook": {
          "kernelName": "csharp"
        }
      },
      "source": [
        "---\n",
        "**Lista feltöltés, kisebb, nagyobb**\n",
        "\n",
        "* Készíts egy programot, amely a felhasználótól számokat kér be mindaddig, amíg az 'X'-et vagy 'x'-et nem üt! \n",
        "* A számokat tárolja el a program egy listában! \n",
        "* Az adatbekérés befejezte után írja ki a program a lista elemeit, \n",
        "* a legkisebb és a \n",
        "* legnagyobb számot!\n",
        "'''\n"
      ]
    },
    {
      "cell_type": "code",
      "execution_count": null,
      "metadata": {
        "id": "B8zViS09Khr7"
      },
      "outputs": [
        {
          "ename": "Error",
          "evalue": "(1,3): error CS1024: Preprocessor directive expected\r\n(2,1): error CS1011: Empty character literal\r\n(2,3): error CS1002: ; expected\r\n(2,3): error CS1010: Newline in constant\r\n(2,3): error CS1011: Empty character literal\r\n(2,4): error CS1002: ; expected\r\n(3,13): error CS1002: ; expected\r\n(3,22): error CS1002: ; expected\r\n(3,22): error CS7017: Member definition, statement, or end-of-file expected\r\n(3,32): error CS1002: ; expected\r\n(3,56): error CS1002: ; expected\r\n(3,63): error CS1002: ; expected\r\n(3,72): error CS1002: ; expected\r\n(3,72): error CS7017: Member definition, statement, or end-of-file expected\r\n(3,82): error CS1002: ; expected\r\n(3,89): error CS1002: ; expected\r\n(3,94): error CS1002: ; expected\r\n(3,101): error CS1002: ; expected\r\n(3,107): error CS1002: ; expected\r\n(3,111): error CS1002: ; expected\r\n(3,128): error CS1002: ; expected\r\n(3,133): error CS1002: ; expected\r\n(3,145): error CS1002: ; expected\r\n(3,154): error CS1002: ; expected\r\n(4,16): error CS1002: ; expected\r\n(4,31): error CS1002: ; expected\r\n(4,39): error CS1002: ; expected\r\n(4,49): error CS1002: ; expected\r\n(4,57): error CS1002: ; expected\r\n(4,64): error CS1002: ; expected\r\n(4,64): error CS7017: Member definition, statement, or end-of-file expected\r\n(4,78): error CS1002: ; expected\r\n(4,83): error CS1002: ; expected\r\n(4,100): error CS1002: ; expected\r\n(5,1): error CS1011: Empty character literal\r\n(5,3): error CS1002: ; expected\r\n(5,3): error CS1010: Newline in constant\r\n(5,3): error CS1011: Empty character literal\r\n(5,4): error CS1002: ; expected\r\n(7,9): error CS1525: Invalid expression term '['\r\n(7,10): error CS0443: Syntax error; value expected\r\n(7,11): error CS1002: ; expected\r\n(8,7): error CS1003: Syntax error, '(' expected\r\n(8,11): error CS1026: ) expected\r\n(8,11): error CS1525: Invalid expression term ':'\r\n(8,11): error CS1002: ; expected\r\n(8,11): error CS7017: Member definition, statement, or end-of-file expected\r\n(9,45): error CS1002: ; expected\r\n(10,12): error CS1003: Syntax error, '(' expected\r\n(10,26): error CS1026: ) expected\r\n(10,36): error CS1002: ; expected\r\n(10,36): error CS1525: Invalid expression term '=='\r\n(10,42): error CS1002: ; expected\r\n(10,42): error CS7017: Member definition, statement, or end-of-file expected\r\n(11,18): error CS1002: ; expected\r\n(11,18): error CS8641: 'else' cannot start a statement.\r\n(11,18): error CS1003: Syntax error, '(' expected\r\n(11,18): error CS1525: Invalid expression term 'else'\r\n(11,18): error CS1026: ) expected\r\n(11,18): error CS1525: Invalid expression term 'else'\r\n(11,18): error CS1002: ; expected\r\n(12,13): error CS1525: Invalid expression term ':'\r\n(12,13): error CS1002: ; expected\r\n(12,13): error CS7017: Member definition, statement, or end-of-file expected\r\n(13,26): error CS1525: Invalid expression term 'int'\r\n(13,38): error CS1002: ; expected\r\n(14,8): error CS1003: Syntax error, ',' expected",
          "output_type": "error",
          "traceback": [
            "(1,3): error CS1024: Preprocessor directive expected\r\n",
            "(2,1): error CS1011: Empty character literal\r\n",
            "(2,3): error CS1002: ; expected\r\n",
            "(2,3): error CS1010: Newline in constant\r\n",
            "(2,3): error CS1011: Empty character literal\r\n",
            "(2,4): error CS1002: ; expected\r\n",
            "(3,13): error CS1002: ; expected\r\n",
            "(3,22): error CS1002: ; expected\r\n",
            "(3,22): error CS7017: Member definition, statement, or end-of-file expected\r\n",
            "(3,32): error CS1002: ; expected\r\n",
            "(3,56): error CS1002: ; expected\r\n",
            "(3,63): error CS1002: ; expected\r\n",
            "(3,72): error CS1002: ; expected\r\n",
            "(3,72): error CS7017: Member definition, statement, or end-of-file expected\r\n",
            "(3,82): error CS1002: ; expected\r\n",
            "(3,89): error CS1002: ; expected\r\n",
            "(3,94): error CS1002: ; expected\r\n",
            "(3,101): error CS1002: ; expected\r\n",
            "(3,107): error CS1002: ; expected\r\n",
            "(3,111): error CS1002: ; expected\r\n",
            "(3,128): error CS1002: ; expected\r\n",
            "(3,133): error CS1002: ; expected\r\n",
            "(3,145): error CS1002: ; expected\r\n",
            "(3,154): error CS1002: ; expected\r\n",
            "(4,16): error CS1002: ; expected\r\n",
            "(4,31): error CS1002: ; expected\r\n",
            "(4,39): error CS1002: ; expected\r\n",
            "(4,49): error CS1002: ; expected\r\n",
            "(4,57): error CS1002: ; expected\r\n",
            "(4,64): error CS1002: ; expected\r\n",
            "(4,64): error CS7017: Member definition, statement, or end-of-file expected\r\n",
            "(4,78): error CS1002: ; expected\r\n",
            "(4,83): error CS1002: ; expected\r\n",
            "(4,100): error CS1002: ; expected\r\n",
            "(5,1): error CS1011: Empty character literal\r\n",
            "(5,3): error CS1002: ; expected\r\n",
            "(5,3): error CS1010: Newline in constant\r\n",
            "(5,3): error CS1011: Empty character literal\r\n",
            "(5,4): error CS1002: ; expected\r\n",
            "(7,9): error CS1525: Invalid expression term '['\r\n",
            "(7,10): error CS0443: Syntax error; value expected\r\n",
            "(7,11): error CS1002: ; expected\r\n",
            "(8,7): error CS1003: Syntax error, '(' expected\r\n",
            "(8,11): error CS1026: ) expected\r\n",
            "(8,11): error CS1525: Invalid expression term ':'\r\n",
            "(8,11): error CS1002: ; expected\r\n",
            "(8,11): error CS7017: Member definition, statement, or end-of-file expected\r\n",
            "(9,45): error CS1002: ; expected\r\n",
            "(10,12): error CS1003: Syntax error, '(' expected\r\n",
            "(10,26): error CS1026: ) expected\r\n",
            "(10,36): error CS1002: ; expected\r\n",
            "(10,36): error CS1525: Invalid expression term '=='\r\n",
            "(10,42): error CS1002: ; expected\r\n",
            "(10,42): error CS7017: Member definition, statement, or end-of-file expected\r\n",
            "(11,18): error CS1002: ; expected\r\n",
            "(11,18): error CS8641: 'else' cannot start a statement.\r\n",
            "(11,18): error CS1003: Syntax error, '(' expected\r\n",
            "(11,18): error CS1525: Invalid expression term 'else'\r\n",
            "(11,18): error CS1026: ) expected\r\n",
            "(11,18): error CS1525: Invalid expression term 'else'\r\n",
            "(11,18): error CS1002: ; expected\r\n",
            "(12,13): error CS1525: Invalid expression term ':'\r\n",
            "(12,13): error CS1002: ; expected\r\n",
            "(12,13): error CS7017: Member definition, statement, or end-of-file expected\r\n",
            "(13,26): error CS1525: Invalid expression term 'int'\r\n",
            "(13,38): error CS1002: ; expected\r\n",
            "(14,8): error CS1003: Syntax error, ',' expected"
          ]
        }
      ],
      "source": [
        "# kovacsbalazspeter21 Update mindadig_mig_x.py\n",
        "'''\n",
        "Készíts egy programot, amely a felhasználótól számokat kér be mindaddig, amíg az 'X'-et vagy 'x'-et nem üt! A számokat tárolja el a program egy listában! \n",
        "Az adatbekérés befejezte után írja ki a program a lista elemeit, a legkisebb és a legnagyobb számot!\n",
        "'''\n",
        "\n",
        "lista = []\n",
        "while True:\n",
        "        szamok = input(\"Kérek egy számot: \")\n",
        "        if szamok == \"x\" or szamok == \"X\":\n",
        "            break\n",
        "        else:\n",
        "            lista.append(int(szamok))\n",
        "print(f\"Legkissebb: {min(lista)} Legnagyobb: {max(lista)}\")"
      ]
    },
    {
      "cell_type": "markdown",
      "metadata": {
        "dotnet_interactive": {
          "language": "csharp"
        },
        "polyglot_notebook": {
          "kernelName": "csharp"
        }
      },
      "source": [
        "---\n",
        "**Mondatvégi jel**\n",
        "\n",
        "Készíts egy programot, amely a felhasználó által megadott mondatról a mondatvégi jel alapján eldönti milyen fajtájú! \n",
        "(kijelentő, kérdő, felkiáltó/felszólító)\n",
        "```\n",
        "A mondat fajtája: Felkiáltó/Felszólító \n",
        "A mondat fajtája: Kérdő\n",
        "A mondat fajtája: Kijelentő\n",
        "```"
      ]
    },
    {
      "cell_type": "code",
      "execution_count": null,
      "metadata": {
        "id": "GF2Mpmf4KrAy"
      },
      "outputs": [
        {
          "ename": "Error",
          "evalue": "(1,3): error CS1024: Preprocessor directive expected\r\n(2,1): error CS1011: Empty character literal\r\n(2,3): error CS1002: ; expected\r\n(2,3): error CS1010: Newline in constant\r\n(2,3): error CS1011: Empty character literal\r\n(2,4): error CS1002: ; expected\r\n(3,13): error CS1002: ; expected\r\n(3,22): error CS1002: ; expected\r\n(3,22): error CS7017: Member definition, statement, or end-of-file expected\r\n(3,32): error CS1002: ; expected\r\n(3,50): error CS1002: ; expected\r\n(3,69): error CS1002: ; expected\r\n(3,82): error CS1002: ; expected\r\n(3,94): error CS1002: ; expected\r\n(3,109): error CS1002: ; expected\r\n(4,41): error CS1002: ; expected\r\n(5,1): error CS1011: Empty character literal\r\n(5,3): error CS1002: ; expected\r\n(5,3): error CS1010: Newline in constant\r\n(5,3): error CS1011: Empty character literal\r\n(5,4): error CS1002: ; expected\r\n(7,2): error CS1024: Preprocessor directive expected\r\n(9,40): error CS1002: ; expected\r\n(10,18): error CS1002: ; expected\r\n(12,4): error CS1003: Syntax error, '(' expected\r\n(12,15): error CS1026: ) expected\r\n(12,15): error CS1525: Invalid expression term ':'\r\n(12,15): error CS1002: ; expected\r\n(12,15): error CS7017: Member definition, statement, or end-of-file expected\r\n(13,51): error CS1002: ; expected\r\n(14,11): error CS1002: ; expected\r\n(14,11): error CS1525: Invalid expression term '=='\r\n(14,17): error CS1002: ; expected\r\n(14,17): error CS7017: Member definition, statement, or end-of-file expected\r\n(15,35): error CS1002: ; expected\r\n(15,35): error CS8641: 'else' cannot start a statement.\r\n(15,35): error CS1003: Syntax error, '(' expected\r\n(15,35): error CS1525: Invalid expression term 'else'\r\n(15,35): error CS1026: ) expected\r\n(15,35): error CS1525: Invalid expression term 'else'\r\n(15,35): error CS1002: ; expected\r\n(16,5): error CS1525: Invalid expression term ':'\r\n(16,5): error CS1002: ; expected\r\n(16,5): error CS7017: Member definition, statement, or end-of-file expected\r\n(17,14): error CS1002: ; expected",
          "output_type": "error",
          "traceback": [
            "(1,3): error CS1024: Preprocessor directive expected\r\n",
            "(2,1): error CS1011: Empty character literal\r\n",
            "(2,3): error CS1002: ; expected\r\n",
            "(2,3): error CS1010: Newline in constant\r\n",
            "(2,3): error CS1011: Empty character literal\r\n",
            "(2,4): error CS1002: ; expected\r\n",
            "(3,13): error CS1002: ; expected\r\n",
            "(3,22): error CS1002: ; expected\r\n",
            "(3,22): error CS7017: Member definition, statement, or end-of-file expected\r\n",
            "(3,32): error CS1002: ; expected\r\n",
            "(3,50): error CS1002: ; expected\r\n",
            "(3,69): error CS1002: ; expected\r\n",
            "(3,82): error CS1002: ; expected\r\n",
            "(3,94): error CS1002: ; expected\r\n",
            "(3,109): error CS1002: ; expected\r\n",
            "(4,41): error CS1002: ; expected\r\n",
            "(5,1): error CS1011: Empty character literal\r\n",
            "(5,3): error CS1002: ; expected\r\n",
            "(5,3): error CS1010: Newline in constant\r\n",
            "(5,3): error CS1011: Empty character literal\r\n",
            "(5,4): error CS1002: ; expected\r\n",
            "(7,2): error CS1024: Preprocessor directive expected\r\n",
            "(9,40): error CS1002: ; expected\r\n",
            "(10,18): error CS1002: ; expected\r\n",
            "(12,4): error CS1003: Syntax error, '(' expected\r\n",
            "(12,15): error CS1026: ) expected\r\n",
            "(12,15): error CS1525: Invalid expression term ':'\r\n",
            "(12,15): error CS1002: ; expected\r\n",
            "(12,15): error CS7017: Member definition, statement, or end-of-file expected\r\n",
            "(13,51): error CS1002: ; expected\r\n",
            "(14,11): error CS1002: ; expected\r\n",
            "(14,11): error CS1525: Invalid expression term '=='\r\n",
            "(14,17): error CS1002: ; expected\r\n",
            "(14,17): error CS7017: Member definition, statement, or end-of-file expected\r\n",
            "(15,35): error CS1002: ; expected\r\n",
            "(15,35): error CS8641: 'else' cannot start a statement.\r\n",
            "(15,35): error CS1003: Syntax error, '(' expected\r\n",
            "(15,35): error CS1525: Invalid expression term 'else'\r\n",
            "(15,35): error CS1026: ) expected\r\n",
            "(15,35): error CS1525: Invalid expression term 'else'\r\n",
            "(15,35): error CS1002: ; expected\r\n",
            "(16,5): error CS1525: Invalid expression term ':'\r\n",
            "(16,5): error CS1002: ; expected\r\n",
            "(16,5): error CS7017: Member definition, statement, or end-of-file expected\r\n",
            "(17,14): error CS1002: ; expected"
          ]
        }
      ],
      "source": [
        "# violetta2413 Rename p1violetta_005.py to mondatvégi_jel.py\n",
        "'''\n",
        "Készíts egy programot, amely a felhasználó által megadott mondatról a mondatvégi jel alapján eldönti milyen fajtájú! \n",
        "(kijelentő, kérdő, felkiáltó/felszólító)\n",
        "'''\n",
        "\n",
        "#megoldas\n",
        "\n",
        "mondat = input(\"Írj ide egy mondatot:\")\n",
        "mjel = mondat[-1]\n",
        "\n",
        "if mjel == \"!\":\n",
        "  print(\"A mondat fajtája: Felkiáltó/Felszólító \")\n",
        "elif mjel == \"?\":\n",
        "  print(\"A mondat fajtája: Kérdő\")\n",
        "else:\n",
        "  mjel == \".\"\n",
        "  print(\"A mondat fajtája: Kijelentő\")"
      ]
    },
    {
      "cell_type": "markdown",
      "metadata": {
        "dotnet_interactive": {
          "language": "csharp"
        },
        "polyglot_notebook": {
          "kernelName": "csharp"
        }
      },
      "source": [
        "---\n",
        "**E betük**\n",
        "* A program számolja össze, hogy hány darab 'E' vagy 'e' betűt tartalmazó szó van a szavak listában. \n",
        "* A képernyőre írja is ki a feltételnek megfelelő szavakat!\n"
      ]
    },
    {
      "cell_type": "code",
      "execution_count": null,
      "metadata": {
        "id": "cDYZGs4IKxPK"
      },
      "outputs": [
        {
          "ename": "Error",
          "evalue": "(1,3): error CS1024: Preprocessor directive expected\r\n(2,1): error CS1011: Empty character literal\r\n(2,3): error CS1002: ; expected\r\n(2,3): error CS1010: Newline in constant\r\n(2,3): error CS1011: Empty character literal\r\n(2,4): error CS1002: ; expected\r\n(3,11): error CS1002: ; expected\r\n(3,27): error CS1044: Cannot use more than one type in a for, using, fixed, or declaration statement\r\n(3,32): error CS1002: ; expected\r\n(3,43): error CS1002: ; expected\r\n(3,47): error CS1002: ; expected\r\n(3,52): error CS1002: ; expected\r\n(3,56): error CS1002: ; expected\r\n(3,73): error CS1002: ; expected\r\n(3,81): error CS1002: ; expected\r\n(3,90): error CS1002: ; expected\r\n(3,99): error CS1001: Identifier expected\r\n(3,99): error CS1002: ; expected\r\n(4,14): error CS1002: ; expected\r\n(4,27): error CS1002: ; expected\r\n(4,49): error CS1002: ; expected\r\n(4,58): error CS1002: ; expected\r\n(5,1): error CS1011: Empty character literal\r\n(5,3): error CS1002: ; expected\r\n(5,3): error CS1010: Newline in constant\r\n(5,3): error CS1011: Empty character literal\r\n(5,4): error CS1002: ; expected\r\n(7,10): error CS1525: Invalid expression term '['\r\n(7,11): error CS1012: Too many characters in character literal\r\n(7,21): error CS1012: Too many characters in character literal\r\n(7,29): error CS1012: Too many characters in character literal\r\n(7,37): error CS1012: Too many characters in character literal\r\n(7,45): error CS1012: Too many characters in character literal\r\n(7,52): error CS1002: ; expected\r\n(8,11): error CS1525: Invalid expression term '['\r\n(8,12): error CS0443: Syntax error; value expected\r\n(8,13): error CS1002: ; expected\r\n(9,5): error CS1003: Syntax error, '(' expected\r\n(9,12): error CS1003: Syntax error, ',' expected\r\n(9,15): error CS1003: Syntax error, ',' expected\r\n(9,21): error CS1003: Syntax error, ',' expected\r\n(9,22): error CS1002: ; expected\r\n(9,22): error CS1525: Invalid expression term 'if'\r\n(9,22): error CS1002: ; expected\r\n(9,22): error CS1026: ) expected\r\n(10,8): error CS1003: Syntax error, '(' expected\r\n(10,12): error CS1026: ) expected\r\n(10,12): error CS1525: Invalid expression term 'in'\r\n(10,12): error CS1002: ; expected\r\n(10,12): error CS7017: Member definition, statement, or end-of-file expected\r\n(10,25): error CS1002: ; expected\r\n(10,29): error CS1002: ; expected\r\n(10,29): error CS7017: Member definition, statement, or end-of-file expected\r\n(11,31): error CS1002: ; expected\r\n(13,8): error CS1003: Syntax error, ',' expected\r\n(13,8): error CS1012: Too many characters in character literal",
          "output_type": "error",
          "traceback": [
            "(1,3): error CS1024: Preprocessor directive expected\r\n",
            "(2,1): error CS1011: Empty character literal\r\n",
            "(2,3): error CS1002: ; expected\r\n",
            "(2,3): error CS1010: Newline in constant\r\n",
            "(2,3): error CS1011: Empty character literal\r\n",
            "(2,4): error CS1002: ; expected\r\n",
            "(3,11): error CS1002: ; expected\r\n",
            "(3,27): error CS1044: Cannot use more than one type in a for, using, fixed, or declaration statement\r\n",
            "(3,32): error CS1002: ; expected\r\n",
            "(3,43): error CS1002: ; expected\r\n",
            "(3,47): error CS1002: ; expected\r\n",
            "(3,52): error CS1002: ; expected\r\n",
            "(3,56): error CS1002: ; expected\r\n",
            "(3,73): error CS1002: ; expected\r\n",
            "(3,81): error CS1002: ; expected\r\n",
            "(3,90): error CS1002: ; expected\r\n",
            "(3,99): error CS1001: Identifier expected\r\n",
            "(3,99): error CS1002: ; expected\r\n",
            "(4,14): error CS1002: ; expected\r\n",
            "(4,27): error CS1002: ; expected\r\n",
            "(4,49): error CS1002: ; expected\r\n",
            "(4,58): error CS1002: ; expected\r\n",
            "(5,1): error CS1011: Empty character literal\r\n",
            "(5,3): error CS1002: ; expected\r\n",
            "(5,3): error CS1010: Newline in constant\r\n",
            "(5,3): error CS1011: Empty character literal\r\n",
            "(5,4): error CS1002: ; expected\r\n",
            "(7,10): error CS1525: Invalid expression term '['\r\n",
            "(7,11): error CS1012: Too many characters in character literal\r\n",
            "(7,21): error CS1012: Too many characters in character literal\r\n",
            "(7,29): error CS1012: Too many characters in character literal\r\n",
            "(7,37): error CS1012: Too many characters in character literal\r\n",
            "(7,45): error CS1012: Too many characters in character literal\r\n",
            "(7,52): error CS1002: ; expected\r\n",
            "(8,11): error CS1525: Invalid expression term '['\r\n",
            "(8,12): error CS0443: Syntax error; value expected\r\n",
            "(8,13): error CS1002: ; expected\r\n",
            "(9,5): error CS1003: Syntax error, '(' expected\r\n",
            "(9,12): error CS1003: Syntax error, ',' expected\r\n",
            "(9,15): error CS1003: Syntax error, ',' expected\r\n",
            "(9,21): error CS1003: Syntax error, ',' expected\r\n",
            "(9,22): error CS1002: ; expected\r\n",
            "(9,22): error CS1525: Invalid expression term 'if'\r\n",
            "(9,22): error CS1002: ; expected\r\n",
            "(9,22): error CS1026: ) expected\r\n",
            "(10,8): error CS1003: Syntax error, '(' expected\r\n",
            "(10,12): error CS1026: ) expected\r\n",
            "(10,12): error CS1525: Invalid expression term 'in'\r\n",
            "(10,12): error CS1002: ; expected\r\n",
            "(10,12): error CS7017: Member definition, statement, or end-of-file expected\r\n",
            "(10,25): error CS1002: ; expected\r\n",
            "(10,29): error CS1002: ; expected\r\n",
            "(10,29): error CS7017: Member definition, statement, or end-of-file expected\r\n",
            "(11,31): error CS1002: ; expected\r\n",
            "(13,8): error CS1003: Syntax error, ',' expected\r\n",
            "(13,8): error CS1012: Too many characters in character literal"
          ]
        }
      ],
      "source": [
        "# hadaszibalazs205 Create p1.Ebetű.py\n",
        "'''\n",
        "A program számolja össze, hogy hány darab 'E' vagy 'e' betűt tartalmazó szó van a szavak listában. \n",
        "A képernyőre írja is ki a feltételnek megfelelő szavakat!\n",
        "'''\n",
        "\n",
        "szavak = ['Elemér', 'Emma', 'ajtó', 'róka', 'egér']\n",
        "eszavak = []\n",
        "for valami in szavak:\n",
        "    if 'e' in valami or 'E' in valami:\n",
        "        eszavak.append(valami)\n",
        "\n",
        "print(f'a következő szavak tartalmaznak E/e betűt: {eszavak}')"
      ]
    },
    {
      "cell_type": "markdown",
      "metadata": {
        "dotnet_interactive": {
          "language": "csharp"
        },
        "polyglot_notebook": {
          "kernelName": "csharp"
        }
      },
      "source": [
        "---\n",
        "**T betük**\n",
        "* A  ['ajtó','tojás','Ottó','Tamás', 'tép','Tesla','alma','python'] lista elemei közül a program kiírja a \"t\" és \"T\" betűkkel kezdődőeket!"
      ]
    },
    {
      "cell_type": "code",
      "execution_count": null,
      "metadata": {
        "id": "wJlLSY7oK5JJ"
      },
      "outputs": [
        {
          "ename": "Error",
          "evalue": "(1,3): error CS1024: Preprocessor directive expected\r\n(2,1): error CS1011: Empty character literal\r\n(2,3): error CS1002: ; expected\r\n(2,3): error CS1010: Newline in constant\r\n(2,3): error CS1011: Empty character literal\r\n(2,4): error CS1002: ; expected\r\n(3,5): error CS1012: Too many characters in character literal\r\n(3,12): error CS1012: Too many characters in character literal\r\n(3,20): error CS1012: Too many characters in character literal\r\n(3,27): error CS1012: Too many characters in character literal\r\n(3,36): error CS1012: Too many characters in character literal\r\n(3,42): error CS1012: Too many characters in character literal\r\n(3,50): error CS1012: Too many characters in character literal\r\n(3,57): error CS1012: Too many characters in character literal\r\n(3,67): error CS1002: ; expected\r\n(3,80): error CS1002: ; expected\r\n(3,88): error CS1002: ; expected\r\n(3,103): error CS1002: ; expected\r\n(3,105): error CS1002: ; expected\r\n(3,109): error CS1002: ; expected\r\n(3,112): error CS1002: ; expected\r\n(3,116): error CS1002: ; expected\r\n(3,136): error CS1002: ; expected\r\n(4,1): error CS1011: Empty character literal\r\n(4,3): error CS1002: ; expected\r\n(4,3): error CS1010: Newline in constant\r\n(4,3): error CS1011: Empty character literal\r\n(4,4): error CS1002: ; expected\r\n(5,8): error CS1525: Invalid expression term '['\r\n(5,9): error CS0443: Syntax error; value expected\r\n(5,10): error CS1002: ; expected\r\n(6,9): error CS1525: Invalid expression term '['\r\n(6,10): error CS1012: Too many characters in character literal\r\n(6,17): error CS1012: Too many characters in character literal\r\n(6,25): error CS1012: Too many characters in character literal\r\n(6,32): error CS1012: Too many characters in character literal\r\n(6,41): error CS1012: Too many characters in character literal\r\n(6,47): error CS1012: Too many characters in character literal\r\n(6,55): error CS1012: Too many characters in character literal\r\n(6,62): error CS1012: Too many characters in character literal\r\n(6,71): error CS1002: ; expected\r\n(8,5): error CS1003: Syntax error, '(' expected\r\n(8,7): error CS1003: Syntax error, ',' expected\r\n(8,10): error CS1003: Syntax error, ',' expected\r\n(8,15): error CS1003: Syntax error, ',' expected\r\n(8,16): error CS1002: ; expected\r\n(8,16): error CS1525: Invalid expression term 'if'\r\n(8,16): error CS1002: ; expected\r\n(8,16): error CS1026: ) expected\r\n(9,8): error CS1003: Syntax error, '(' expected\r\n(9,20): error CS1026: ) expected\r\n(9,24): error CS0650: Bad array declarator: To declare a managed array the rank specifier precedes the variable's identifier. To declare a fixed size buffer field, use the fixed keyword before the field type.\r\n(9,25): error CS0270: Array size cannot be specified in a variable declaration (try initializing with a 'new' expression)\r\n(9,28): error CS1002: ; expected\r\n(9,28): error CS1525: Invalid expression term '=='\r\n(9,34): error CS1002: ; expected\r\n(9,34): error CS7017: Member definition, statement, or end-of-file expected\r\n(10,25): error CS1002: ; expected",
          "output_type": "error",
          "traceback": [
            "(1,3): error CS1024: Preprocessor directive expected\r\n",
            "(2,1): error CS1011: Empty character literal\r\n",
            "(2,3): error CS1002: ; expected\r\n",
            "(2,3): error CS1010: Newline in constant\r\n",
            "(2,3): error CS1011: Empty character literal\r\n",
            "(2,4): error CS1002: ; expected\r\n",
            "(3,5): error CS1012: Too many characters in character literal\r\n",
            "(3,12): error CS1012: Too many characters in character literal\r\n",
            "(3,20): error CS1012: Too many characters in character literal\r\n",
            "(3,27): error CS1012: Too many characters in character literal\r\n",
            "(3,36): error CS1012: Too many characters in character literal\r\n",
            "(3,42): error CS1012: Too many characters in character literal\r\n",
            "(3,50): error CS1012: Too many characters in character literal\r\n",
            "(3,57): error CS1012: Too many characters in character literal\r\n",
            "(3,67): error CS1002: ; expected\r\n",
            "(3,80): error CS1002: ; expected\r\n",
            "(3,88): error CS1002: ; expected\r\n",
            "(3,103): error CS1002: ; expected\r\n",
            "(3,105): error CS1002: ; expected\r\n",
            "(3,109): error CS1002: ; expected\r\n",
            "(3,112): error CS1002: ; expected\r\n",
            "(3,116): error CS1002: ; expected\r\n",
            "(3,136): error CS1002: ; expected\r\n",
            "(4,1): error CS1011: Empty character literal\r\n",
            "(4,3): error CS1002: ; expected\r\n",
            "(4,3): error CS1010: Newline in constant\r\n",
            "(4,3): error CS1011: Empty character literal\r\n",
            "(4,4): error CS1002: ; expected\r\n",
            "(5,8): error CS1525: Invalid expression term '['\r\n",
            "(5,9): error CS0443: Syntax error; value expected\r\n",
            "(5,10): error CS1002: ; expected\r\n",
            "(6,9): error CS1525: Invalid expression term '['\r\n",
            "(6,10): error CS1012: Too many characters in character literal\r\n",
            "(6,17): error CS1012: Too many characters in character literal\r\n",
            "(6,25): error CS1012: Too many characters in character literal\r\n",
            "(6,32): error CS1012: Too many characters in character literal\r\n",
            "(6,41): error CS1012: Too many characters in character literal\r\n",
            "(6,47): error CS1012: Too many characters in character literal\r\n",
            "(6,55): error CS1012: Too many characters in character literal\r\n",
            "(6,62): error CS1012: Too many characters in character literal\r\n",
            "(6,71): error CS1002: ; expected\r\n",
            "(8,5): error CS1003: Syntax error, '(' expected\r\n",
            "(8,7): error CS1003: Syntax error, ',' expected\r\n",
            "(8,10): error CS1003: Syntax error, ',' expected\r\n",
            "(8,15): error CS1003: Syntax error, ',' expected\r\n",
            "(8,16): error CS1002: ; expected\r\n",
            "(8,16): error CS1525: Invalid expression term 'if'\r\n",
            "(8,16): error CS1002: ; expected\r\n",
            "(8,16): error CS1026: ) expected\r\n",
            "(9,8): error CS1003: Syntax error, '(' expected\r\n",
            "(9,20): error CS1026: ) expected\r\n",
            "(9,24): error CS0650: Bad array declarator: To declare a managed array the rank specifier precedes the variable's identifier. To declare a fixed size buffer field, use the fixed keyword before the field type.\r\n",
            "(9,25): error CS0270: Array size cannot be specified in a variable declaration (try initializing with a 'new' expression)\r\n",
            "(9,28): error CS1002: ; expected\r\n",
            "(9,28): error CS1525: Invalid expression term '=='\r\n",
            "(9,34): error CS1002: ; expected\r\n",
            "(9,34): error CS7017: Member definition, statement, or end-of-file expected\r\n",
            "(10,25): error CS1002: ; expected"
          ]
        }
      ],
      "source": [
        "# ZamArtem Update p1.Tbetű.py\n",
        "'''\n",
        "A  ['ajtó','tojás','Ottó','Tamás', 'tép','Tesla','alma','python'] lista elemei közül a program kiírja a \"t\" és \"T\" betűkkel kezdődőeket!\n",
        "'''\n",
        "t_betu=[]\n",
        "lista = ['ajtó','tojás','Ottó','Tamás', 'tép','Tesla','alma','python']\n",
        "\n",
        "for i in lista:\n",
        "    if i[0] == 't' or i[0] == 'T':\n",
        "        t_betu.append(i)\n",
        "print(t_betu)"
      ]
    },
    {
      "cell_type": "markdown",
      "metadata": {
        "dotnet_interactive": {
          "language": "csharp"
        },
        "polyglot_notebook": {
          "kernelName": "csharp"
        }
      },
      "source": [
        "---\n",
        "**Találd ki a számot a listában**\n",
        "* Írj egy programot, amely 5 darab véletlenszámot generál [1;7] intervallumon,\n",
        "és ezeket eltárolja egy listában. \n",
        "* Kérjen be a felhasználótól egy számot,\n",
        "és vizsgálja meg, hogy ez előfordul-e a listában! \n",
        "* Az eredményről tájékoztassa a felhasználót,\n",
        "* és írja ki a lista elemeit a képernyőre!\n",
        "\n",
        "```\n",
        "Kérek egy számot: 1\n",
        "A megadott szam megtalalhato a listaban, [4, 2, 1, 2, 3]\n",
        "```"
      ]
    },
    {
      "cell_type": "code",
      "execution_count": null,
      "metadata": {
        "id": "hwR4Z9a9LBfO"
      },
      "outputs": [
        {
          "ename": "Error",
          "evalue": "(1,3): error CS1024: Preprocessor directive expected\r\n(2,1): error CS1011: Empty character literal\r\n(2,3): error CS1002: ; expected\r\n(2,3): error CS1010: Newline in constant\r\n(2,3): error CS1011: Empty character literal\r\n(2,4): error CS1002: ; expected\r\n(3,9): error CS1002: ; expected\r\n(3,18): error CS1002: ; expected\r\n(3,18): error CS7017: Member definition, statement, or end-of-file expected\r\n(3,26): error CS1002: ; expected\r\n(3,28): error CS1002: ; expected\r\n(3,49): error CS1002: ; expected\r\n(3,59): error CS1003: Syntax error, ']' expected\r\n(3,61): error CS1002: ; expected\r\n(3,61): error CS7017: Member definition, statement, or end-of-file expected\r\n(3,76): error CS1002: ; expected\r\n(3,76): error CS7017: Member definition, statement, or end-of-file expected\r\n(4,11): error CS1002: ; expected\r\n(4,25): error CS1002: ; expected\r\n(4,45): error CS1002: ; expected\r\n(4,62): error CS1002: ; expected\r\n(5,1): error CS1044: Cannot use more than one type in a for, using, fixed, or declaration statement\r\n(5,4): error CS1002: ; expected\r\n(5,19): error CS1044: Cannot use more than one type in a for, using, fixed, or declaration statement\r\n(5,24): error CS1002: ; expected\r\n(5,36): error CS1002: ; expected\r\n(5,39): error CS1002: ; expected\r\n(5,49): error CS1002: ; expected\r\n(5,54): error CS1002: ; expected\r\n(5,79): error CS1002: ; expected\r\n(6,1): error CS1044: Cannot use more than one type in a for, using, fixed, or declaration statement\r\n(6,4): error CS1002: ; expected\r\n(6,12): error CS1002: ; expected\r\n(6,20): error CS1002: ; expected\r\n(6,30): error CS1002: ; expected\r\n(6,41): error CS1002: ; expected\r\n(8,11): error CS1002: ; expected\r\n(8,20): error CS1002: ; expected\r\n(9,12): error CS1002: ; expected\r\n(9,30): error CS1002: ; expected\r\n(9,42): error CS1001: Identifier expected\r\n(9,42): error CS0650: Bad array declarator: To declare a managed array the rank specifier precedes the variable's identifier. To declare a fixed size buffer field, use the fixed keyword before the field type.\r\n(9,43): error CS0270: Array size cannot be specified in a variable declaration (try initializing with a 'new' expression)\r\n(9,46): error CS0270: Array size cannot be specified in a variable declaration (try initializing with a 'new' expression)\r\n(9,49): error CS0270: Array size cannot be specified in a variable declaration (try initializing with a 'new' expression)\r\n(9,52): error CS0270: Array size cannot be specified in a variable declaration (try initializing with a 'new' expression)\r\n(9,55): error CS0270: Array size cannot be specified in a variable declaration (try initializing with a 'new' expression)\r\n(9,57): error CS1002: ; expected\r\n(10,1): error CS1011: Empty character literal\r\n(10,3): error CS1002: ; expected\r\n(10,3): error CS1010: Newline in constant\r\n(10,3): error CS1011: Empty character literal\r\n(10,4): error CS1002: ; expected\r\n(11,21): error CS1003: Syntax error, 'in' expected\r\n(11,28): error CS0742: A query body must end with a select clause or a group clause\r\n(11,28): error CS1002: ; expected\r\n(12,7): error CS1525: Invalid expression term '['\r\n(12,8): error CS0443: Syntax error; value expected\r\n(12,9): error CS1002: ; expected\r\n(13,5): error CS1003: Syntax error, '(' expected\r\n(13,7): error CS1003: Syntax error, ',' expected\r\n(13,10): error CS1003: Syntax error, ',' expected\r\n(13,18): error CS1003: Syntax error, ',' expected\r\n(13,19): error CS1003: Syntax error, ',' expected\r\n(14,31): error CS1003: Syntax error, ',' expected\r\n(16,9): error CS1525: Invalid expression term 'int'\r\n(16,19): error CS1012: Too many characters in character literal\r\n(16,41): error CS1002: ; expected\r\n(16,41): error CS1525: Invalid expression term 'if'\r\n(16,41): error CS1002: ; expected\r\n(16,41): error CS1026: ) expected\r\n(18,4): error CS1003: Syntax error, '(' expected\r\n(18,10): error CS1026: ) expected\r\n(18,10): error CS1525: Invalid expression term 'in'\r\n(18,10): error CS1002: ; expected\r\n(18,10): error CS7017: Member definition, statement, or end-of-file expected\r\n(19,12): error CS1003: Syntax error, ',' expected\r\n(19,12): error CS1012: Too many characters in character literal\r\n(19,63): error CS1002: ; expected\r\n(19,63): error CS8641: 'else' cannot start a statement.\r\n(19,63): error CS1003: Syntax error, '(' expected\r\n(19,63): error CS1525: Invalid expression term 'else'\r\n(19,63): error CS1026: ) expected\r\n(19,63): error CS1525: Invalid expression term 'else'\r\n(19,63): error CS1002: ; expected\r\n(20,5): error CS1525: Invalid expression term ':'\r\n(20,5): error CS1002: ; expected\r\n(20,5): error CS7017: Member definition, statement, or end-of-file expected",
          "output_type": "error",
          "traceback": [
            "(1,3): error CS1024: Preprocessor directive expected\r\n",
            "(2,1): error CS1011: Empty character literal\r\n",
            "(2,3): error CS1002: ; expected\r\n",
            "(2,3): error CS1010: Newline in constant\r\n",
            "(2,3): error CS1011: Empty character literal\r\n",
            "(2,4): error CS1002: ; expected\r\n",
            "(3,9): error CS1002: ; expected\r\n",
            "(3,18): error CS1002: ; expected\r\n",
            "(3,18): error CS7017: Member definition, statement, or end-of-file expected\r\n",
            "(3,26): error CS1002: ; expected\r\n",
            "(3,28): error CS1002: ; expected\r\n",
            "(3,49): error CS1002: ; expected\r\n",
            "(3,59): error CS1003: Syntax error, ']' expected\r\n",
            "(3,61): error CS1002: ; expected\r\n",
            "(3,61): error CS7017: Member definition, statement, or end-of-file expected\r\n",
            "(3,76): error CS1002: ; expected\r\n",
            "(3,76): error CS7017: Member definition, statement, or end-of-file expected\r\n",
            "(4,11): error CS1002: ; expected\r\n",
            "(4,25): error CS1002: ; expected\r\n",
            "(4,45): error CS1002: ; expected\r\n",
            "(4,62): error CS1002: ; expected\r\n",
            "(5,1): error CS1044: Cannot use more than one type in a for, using, fixed, or declaration statement\r\n",
            "(5,4): error CS1002: ; expected\r\n",
            "(5,19): error CS1044: Cannot use more than one type in a for, using, fixed, or declaration statement\r\n",
            "(5,24): error CS1002: ; expected\r\n",
            "(5,36): error CS1002: ; expected\r\n",
            "(5,39): error CS1002: ; expected\r\n",
            "(5,49): error CS1002: ; expected\r\n",
            "(5,54): error CS1002: ; expected\r\n",
            "(5,79): error CS1002: ; expected\r\n",
            "(6,1): error CS1044: Cannot use more than one type in a for, using, fixed, or declaration statement\r\n",
            "(6,4): error CS1002: ; expected\r\n",
            "(6,12): error CS1002: ; expected\r\n",
            "(6,20): error CS1002: ; expected\r\n",
            "(6,30): error CS1002: ; expected\r\n",
            "(6,41): error CS1002: ; expected\r\n",
            "(8,11): error CS1002: ; expected\r\n",
            "(8,20): error CS1002: ; expected\r\n",
            "(9,12): error CS1002: ; expected\r\n",
            "(9,30): error CS1002: ; expected\r\n",
            "(9,42): error CS1001: Identifier expected\r\n",
            "(9,42): error CS0650: Bad array declarator: To declare a managed array the rank specifier precedes the variable's identifier. To declare a fixed size buffer field, use the fixed keyword before the field type.\r\n",
            "(9,43): error CS0270: Array size cannot be specified in a variable declaration (try initializing with a 'new' expression)\r\n",
            "(9,46): error CS0270: Array size cannot be specified in a variable declaration (try initializing with a 'new' expression)\r\n",
            "(9,49): error CS0270: Array size cannot be specified in a variable declaration (try initializing with a 'new' expression)\r\n",
            "(9,52): error CS0270: Array size cannot be specified in a variable declaration (try initializing with a 'new' expression)\r\n",
            "(9,55): error CS0270: Array size cannot be specified in a variable declaration (try initializing with a 'new' expression)\r\n",
            "(9,57): error CS1002: ; expected\r\n",
            "(10,1): error CS1011: Empty character literal\r\n",
            "(10,3): error CS1002: ; expected\r\n",
            "(10,3): error CS1010: Newline in constant\r\n",
            "(10,3): error CS1011: Empty character literal\r\n",
            "(10,4): error CS1002: ; expected\r\n",
            "(11,21): error CS1003: Syntax error, 'in' expected\r\n",
            "(11,28): error CS0742: A query body must end with a select clause or a group clause\r\n",
            "(11,28): error CS1002: ; expected\r\n",
            "(12,7): error CS1525: Invalid expression term '['\r\n",
            "(12,8): error CS0443: Syntax error; value expected\r\n",
            "(12,9): error CS1002: ; expected\r\n",
            "(13,5): error CS1003: Syntax error, '(' expected\r\n",
            "(13,7): error CS1003: Syntax error, ',' expected\r\n",
            "(13,10): error CS1003: Syntax error, ',' expected\r\n",
            "(13,18): error CS1003: Syntax error, ',' expected\r\n",
            "(13,19): error CS1003: Syntax error, ',' expected\r\n",
            "(14,31): error CS1003: Syntax error, ',' expected\r\n",
            "(16,9): error CS1525: Invalid expression term 'int'\r\n",
            "(16,19): error CS1012: Too many characters in character literal\r\n",
            "(16,41): error CS1002: ; expected\r\n",
            "(16,41): error CS1525: Invalid expression term 'if'\r\n",
            "(16,41): error CS1002: ; expected\r\n",
            "(16,41): error CS1026: ) expected\r\n",
            "(18,4): error CS1003: Syntax error, '(' expected\r\n",
            "(18,10): error CS1026: ) expected\r\n",
            "(18,10): error CS1525: Invalid expression term 'in'\r\n",
            "(18,10): error CS1002: ; expected\r\n",
            "(18,10): error CS7017: Member definition, statement, or end-of-file expected\r\n",
            "(19,12): error CS1003: Syntax error, ',' expected\r\n",
            "(19,12): error CS1012: Too many characters in character literal\r\n",
            "(19,63): error CS1002: ; expected\r\n",
            "(19,63): error CS8641: 'else' cannot start a statement.\r\n",
            "(19,63): error CS1003: Syntax error, '(' expected\r\n",
            "(19,63): error CS1525: Invalid expression term 'else'\r\n",
            "(19,63): error CS1026: ) expected\r\n",
            "(19,63): error CS1525: Invalid expression term 'else'\r\n",
            "(19,63): error CS1002: ; expected\r\n",
            "(20,5): error CS1525: Invalid expression term ':'\r\n",
            "(20,5): error CS1002: ; expected\r\n",
            "(20,5): error CS7017: Member definition, statement, or end-of-file expected"
          ]
        }
      ],
      "source": [
        "# ZamArtem Update p1.eldöntés.py\n",
        "'''\n",
        "Írj egy programot, amely 5 darab véletlenszámot generál [1;7] intervallumon,\n",
        "és ezeket eltárolja egy listában. Kérjen be a felhasználótól egy számot,\n",
        "és vizsgálja meg, hogy ez előfordul-e a listában! Az eredményről tájékoztassa a felhasználót,\n",
        "és írja ki a lista elemeit a képernyőre!\n",
        "Pld:\n",
        "Kérek egy számot: 1\n",
        "A megadott szam megtalalhato a listaban, [4, 2, 1, 2, 3]\n",
        "'''\n",
        "from random  import randint\n",
        "lista=[]\n",
        "for i in range(5):\n",
        "    lista.append(randint(1,7))\n",
        "\n",
        "beker = int(input('Kérek egy számot: '))\n",
        "\n",
        "if beker in lista:\n",
        "    print(f'a megadott szam megtalalhato a listaban, {lista}')\n",
        "else:"
      ]
    },
    {
      "cell_type": "markdown",
      "metadata": {
        "dotnet_interactive": {
          "language": "csharp"
        },
        "polyglot_notebook": {
          "kernelName": "csharp"
        }
      },
      "source": [
        "---\n",
        "**Kisebb - nagyobb - egyenlő**\n",
        "\n",
        "* Készíts egy rövid programot, amely 1 és 3 között generál véletlenszámot, \n",
        "* majd összehasonlítja ezt a felhasználó által megadott, szintén ebbe a tartományba eső számmal! \n",
        "* Az összehasonlítás eredményéről tájékoztassa a felhasználót!"
      ]
    },
    {
      "cell_type": "code",
      "execution_count": null,
      "metadata": {
        "id": "dXL_OekbLHhm"
      },
      "outputs": [
        {
          "ename": "Error",
          "evalue": "(1,3): error CS1024: Preprocessor directive expected\r\n(2,1): error CS1011: Empty character literal\r\n(2,3): error CS1002: ; expected\r\n(2,3): error CS1010: Newline in constant\r\n(2,3): error CS1011: Empty character literal\r\n(2,4): error CS1002: ; expected\r\n(3,13): error CS1002: ; expected\r\n(3,36): error CS1002: ; expected\r\n(3,38): error CS1002: ; expected\r\n(3,41): error CS1002: ; expected\r\n(3,43): error CS1002: ; expected\r\n(3,58): error CS1002: ; expected\r\n(3,72): error CS1002: ; expected\r\n(3,72): error CS7017: Member definition, statement, or end-of-file expected\r\n(4,22): error CS1002: ; expected\r\n(4,28): error CS1002: ; expected\r\n(4,46): error CS1002: ; expected\r\n(4,54): error CS1002: ; expected\r\n(4,54): error CS7017: Member definition, statement, or end-of-file expected\r\n(4,69): error CS1002: ; expected\r\n(4,83): error CS1002: ; expected\r\n(4,94): error CS1002: ; expected\r\n(5,4): error CS1002: ; expected\r\n(5,33): error CS1002: ; expected\r\n(5,48): error CS1002: ; expected\r\n(5,61): error CS1002: ; expected\r\n(6,1): error CS1011: Empty character literal\r\n(6,3): error CS1002: ; expected\r\n(6,3): error CS1010: Newline in constant\r\n(6,3): error CS1011: Empty character literal\r\n(6,4): error CS1002: ; expected\r\n(8,14): error CS1002: ; expected\r\n(10,9): error CS1525: Invalid expression term '['\r\n(10,18): error CS1002: ; expected\r\n(12,14): error CS1525: Invalid expression term 'int'\r\n(12,47): error CS1002: ; expected\r\n(13,28): error CS1002: ; expected\r\n(14,12): error CS1002: ; expected\r\n(16,4): error CS1003: Syntax error, '(' expected\r\n(16,21): error CS1026: ) expected\r\n(16,21): error CS1525: Invalid expression term ':'\r\n(16,21): error CS1002: ; expected\r\n(16,21): error CS7017: Member definition, statement, or end-of-file expected\r\n(17,32): error CS1002: ; expected\r\n(18,4): error CS1003: Syntax error, '(' expected\r\n(18,21): error CS1026: ) expected\r\n(18,21): error CS1525: Invalid expression term ':'\r\n(18,21): error CS1002: ; expected\r\n(18,21): error CS7017: Member definition, statement, or end-of-file expected\r\n(19,33): error CS1002: ; expected\r\n(20,4): error CS1003: Syntax error, '(' expected\r\n(20,22): error CS1026: ) expected\r\n(20,22): error CS1525: Invalid expression term ':'\r\n(20,22): error CS1002: ; expected\r\n(20,22): error CS7017: Member definition, statement, or end-of-file expected",
          "output_type": "error",
          "traceback": [
            "(1,3): error CS1024: Preprocessor directive expected\r\n",
            "(2,1): error CS1011: Empty character literal\r\n",
            "(2,3): error CS1002: ; expected\r\n",
            "(2,3): error CS1010: Newline in constant\r\n",
            "(2,3): error CS1011: Empty character literal\r\n",
            "(2,4): error CS1002: ; expected\r\n",
            "(3,13): error CS1002: ; expected\r\n",
            "(3,36): error CS1002: ; expected\r\n",
            "(3,38): error CS1002: ; expected\r\n",
            "(3,41): error CS1002: ; expected\r\n",
            "(3,43): error CS1002: ; expected\r\n",
            "(3,58): error CS1002: ; expected\r\n",
            "(3,72): error CS1002: ; expected\r\n",
            "(3,72): error CS7017: Member definition, statement, or end-of-file expected\r\n",
            "(4,22): error CS1002: ; expected\r\n",
            "(4,28): error CS1002: ; expected\r\n",
            "(4,46): error CS1002: ; expected\r\n",
            "(4,54): error CS1002: ; expected\r\n",
            "(4,54): error CS7017: Member definition, statement, or end-of-file expected\r\n",
            "(4,69): error CS1002: ; expected\r\n",
            "(4,83): error CS1002: ; expected\r\n",
            "(4,94): error CS1002: ; expected\r\n",
            "(5,4): error CS1002: ; expected\r\n",
            "(5,33): error CS1002: ; expected\r\n",
            "(5,48): error CS1002: ; expected\r\n",
            "(5,61): error CS1002: ; expected\r\n",
            "(6,1): error CS1011: Empty character literal\r\n",
            "(6,3): error CS1002: ; expected\r\n",
            "(6,3): error CS1010: Newline in constant\r\n",
            "(6,3): error CS1011: Empty character literal\r\n",
            "(6,4): error CS1002: ; expected\r\n",
            "(8,14): error CS1002: ; expected\r\n",
            "(10,9): error CS1525: Invalid expression term '['\r\n",
            "(10,18): error CS1002: ; expected\r\n",
            "(12,14): error CS1525: Invalid expression term 'int'\r\n",
            "(12,47): error CS1002: ; expected\r\n",
            "(13,28): error CS1002: ; expected\r\n",
            "(14,12): error CS1002: ; expected\r\n",
            "(16,4): error CS1003: Syntax error, '(' expected\r\n",
            "(16,21): error CS1026: ) expected\r\n",
            "(16,21): error CS1525: Invalid expression term ':'\r\n",
            "(16,21): error CS1002: ; expected\r\n",
            "(16,21): error CS7017: Member definition, statement, or end-of-file expected\r\n",
            "(17,32): error CS1002: ; expected\r\n",
            "(18,4): error CS1003: Syntax error, '(' expected\r\n",
            "(18,21): error CS1026: ) expected\r\n",
            "(18,21): error CS1525: Invalid expression term ':'\r\n",
            "(18,21): error CS1002: ; expected\r\n",
            "(18,21): error CS7017: Member definition, statement, or end-of-file expected\r\n",
            "(19,33): error CS1002: ; expected\r\n",
            "(20,4): error CS1003: Syntax error, '(' expected\r\n",
            "(20,22): error CS1026: ) expected\r\n",
            "(20,22): error CS1525: Invalid expression term ':'\r\n",
            "(20,22): error CS1002: ; expected\r\n",
            "(20,22): error CS7017: Member definition, statement, or end-of-file expected"
          ]
        }
      ],
      "source": [
        "# hadaszibalazs205 Rename p1hadaszi.generál.py to p1.generál.py\n",
        "'''\n",
        "Készíts egy rövid programot, amely 1 és 3 között generál véletlenszámot, \n",
        "majd összehasonlítja ezt a felhasználó által megadott, szintén ebbe a tartományba eső számmal! \n",
        "Az összehasonlítás eredményéről tájékoztassa a felhasználót!\n",
        "'''\n",
        "\n",
        "import random\n",
        "\n",
        "lista = [1, 2, 3]\n",
        "\n",
        "randomszam = int(input(\"Írj be egy számot: \"))\n",
        "szam = random.choice(lista)\n",
        "print(szam)\n",
        "\n",
        "if szam > randomszam:\n",
        "  print(\"A beírt szám kisebb!\")\n",
        "if szam < randomszam:\n",
        "  print(\"A beírt szám nagyobb!\")\n",
        "if szam == randomszam:\n",
        "  print(\"A beírt szám egyenlő!\")"
      ]
    },
    {
      "cell_type": "markdown",
      "metadata": {
        "dotnet_interactive": {
          "language": "csharp"
        },
        "polyglot_notebook": {
          "kernelName": "csharp"
        }
      },
      "source": [
        "---\n",
        "**Páros számok a listában**\n",
        "* Készíts egy programot, amely [1;10] intervallumon generál 5 darab véletlen egész számot \n",
        "* és ezeket tárolja el egy listában! \n",
        "* A program számolja össze, és képernyőre írja ki a listában tárolt páros számok számát, valamint a lista elemeit!"
      ]
    },
    {
      "cell_type": "code",
      "execution_count": null,
      "metadata": {
        "id": "TFj_1t-KLQHu"
      },
      "outputs": [
        {
          "ename": "Error",
          "evalue": "(1,3): error CS1024: Preprocessor directive expected\r\n(2,1): error CS1011: Empty character literal\r\n(2,3): error CS1002: ; expected\r\n(2,3): error CS1010: Newline in constant\r\n(2,3): error CS1011: Empty character literal\r\n(2,4): error CS1002: ; expected\r\n(3,13): error CS1002: ; expected\r\n(3,22): error CS1002: ; expected\r\n(3,22): error CS7017: Member definition, statement, or end-of-file expected\r\n(3,32): error CS1003: Syntax error, ']' expected\r\n(3,35): error CS1002: ; expected\r\n(3,35): error CS7017: Member definition, statement, or end-of-file expected\r\n(3,59): error CS1002: ; expected\r\n(3,61): error CS1002: ; expected\r\n(3,76): error CS1002: ; expected\r\n(3,88): error CS1002: ; expected\r\n(4,11): error CS1002: ; expected\r\n(4,22): error CS1002: ; expected\r\n(4,34): error CS1002: ; expected\r\n(4,38): error CS1002: ; expected\r\n(4,55): error CS1002: ; expected\r\n(4,60): error CS1002: ; expected\r\n(4,60): error CS7017: Member definition, statement, or end-of-file expected\r\n(5,15): error CS1002: ; expected\r\n(5,23): error CS1002: ; expected\r\n(5,34): error CS1002: ; expected\r\n(5,47): error CS1002: ; expected\r\n(5,62): error CS1044: Cannot use more than one type in a for, using, fixed, or declaration statement\r\n(5,71): error CS1002: ; expected\r\n(5,79): error CS1002: ; expected\r\n(5,87): error CS1002: ; expected\r\n(6,1): error CS1011: Empty character literal\r\n(6,3): error CS1002: ; expected\r\n(6,3): error CS1010: Newline in constant\r\n(6,3): error CS1011: Empty character literal\r\n(6,4): error CS1002: ; expected\r\n(8,14): error CS1002: ; expected\r\n(10,9): error CS1525: Invalid expression term '['\r\n(10,10): error CS0443: Syntax error; value expected\r\n(10,11): error CS1002: ; expected\r\n(12,5): error CS1003: Syntax error, '(' expected\r\n(12,7): error CS1003: Syntax error, ',' expected\r\n(12,10): error CS1003: Syntax error, ',' expected\r\n(12,18): error CS1003: Syntax error, ',' expected\r\n(12,19): error CS1003: Syntax error, ',' expected\r\n(13,35): error CS1003: Syntax error, ',' expected\r\n(14,25): error CS1003: Syntax error, ',' expected\r\n(16,14): error CS1525: Invalid expression term '['\r\n(16,15): error CS0443: Syntax error; value expected\r\n(16,16): error CS1002: ; expected\r\n(16,16): error CS1525: Invalid expression term 'for'\r\n(16,16): error CS1002: ; expected\r\n(16,16): error CS1026: ) expected\r\n(18,5): error CS1003: Syntax error, '(' expected\r\n(18,7): error CS1003: Syntax error, ',' expected\r\n(18,10): error CS1003: Syntax error, ',' expected\r\n(18,15): error CS1003: Syntax error, ',' expected\r\n(18,16): error CS1002: ; expected\r\n(18,16): error CS1525: Invalid expression term 'if'\r\n(18,16): error CS1002: ; expected\r\n(18,16): error CS1026: ) expected\r\n(19,6): error CS1003: Syntax error, '(' expected\r\n(19,16): error CS1026: ) expected\r\n(19,16): error CS1525: Invalid expression term ':'\r\n(19,16): error CS1002: ; expected\r\n(19,16): error CS7017: Member definition, statement, or end-of-file expected\r\n(20,25): error CS1002: ; expected\r\n(22,8): error CS1003: Syntax error, ',' expected\r\n(22,50): error CS1002: ; expected",
          "output_type": "error",
          "traceback": [
            "(1,3): error CS1024: Preprocessor directive expected\r\n",
            "(2,1): error CS1011: Empty character literal\r\n",
            "(2,3): error CS1002: ; expected\r\n",
            "(2,3): error CS1010: Newline in constant\r\n",
            "(2,3): error CS1011: Empty character literal\r\n",
            "(2,4): error CS1002: ; expected\r\n",
            "(3,13): error CS1002: ; expected\r\n",
            "(3,22): error CS1002: ; expected\r\n",
            "(3,22): error CS7017: Member definition, statement, or end-of-file expected\r\n",
            "(3,32): error CS1003: Syntax error, ']' expected\r\n",
            "(3,35): error CS1002: ; expected\r\n",
            "(3,35): error CS7017: Member definition, statement, or end-of-file expected\r\n",
            "(3,59): error CS1002: ; expected\r\n",
            "(3,61): error CS1002: ; expected\r\n",
            "(3,76): error CS1002: ; expected\r\n",
            "(3,88): error CS1002: ; expected\r\n",
            "(4,11): error CS1002: ; expected\r\n",
            "(4,22): error CS1002: ; expected\r\n",
            "(4,34): error CS1002: ; expected\r\n",
            "(4,38): error CS1002: ; expected\r\n",
            "(4,55): error CS1002: ; expected\r\n",
            "(4,60): error CS1002: ; expected\r\n",
            "(4,60): error CS7017: Member definition, statement, or end-of-file expected\r\n",
            "(5,15): error CS1002: ; expected\r\n",
            "(5,23): error CS1002: ; expected\r\n",
            "(5,34): error CS1002: ; expected\r\n",
            "(5,47): error CS1002: ; expected\r\n",
            "(5,62): error CS1044: Cannot use more than one type in a for, using, fixed, or declaration statement\r\n",
            "(5,71): error CS1002: ; expected\r\n",
            "(5,79): error CS1002: ; expected\r\n",
            "(5,87): error CS1002: ; expected\r\n",
            "(6,1): error CS1011: Empty character literal\r\n",
            "(6,3): error CS1002: ; expected\r\n",
            "(6,3): error CS1010: Newline in constant\r\n",
            "(6,3): error CS1011: Empty character literal\r\n",
            "(6,4): error CS1002: ; expected\r\n",
            "(8,14): error CS1002: ; expected\r\n",
            "(10,9): error CS1525: Invalid expression term '['\r\n",
            "(10,10): error CS0443: Syntax error; value expected\r\n",
            "(10,11): error CS1002: ; expected\r\n",
            "(12,5): error CS1003: Syntax error, '(' expected\r\n",
            "(12,7): error CS1003: Syntax error, ',' expected\r\n",
            "(12,10): error CS1003: Syntax error, ',' expected\r\n",
            "(12,18): error CS1003: Syntax error, ',' expected\r\n",
            "(12,19): error CS1003: Syntax error, ',' expected\r\n",
            "(13,35): error CS1003: Syntax error, ',' expected\r\n",
            "(14,25): error CS1003: Syntax error, ',' expected\r\n",
            "(16,14): error CS1525: Invalid expression term '['\r\n",
            "(16,15): error CS0443: Syntax error; value expected\r\n",
            "(16,16): error CS1002: ; expected\r\n",
            "(16,16): error CS1525: Invalid expression term 'for'\r\n",
            "(16,16): error CS1002: ; expected\r\n",
            "(16,16): error CS1026: ) expected\r\n",
            "(18,5): error CS1003: Syntax error, '(' expected\r\n",
            "(18,7): error CS1003: Syntax error, ',' expected\r\n",
            "(18,10): error CS1003: Syntax error, ',' expected\r\n",
            "(18,15): error CS1003: Syntax error, ',' expected\r\n",
            "(18,16): error CS1002: ; expected\r\n",
            "(18,16): error CS1525: Invalid expression term 'if'\r\n",
            "(18,16): error CS1002: ; expected\r\n",
            "(18,16): error CS1026: ) expected\r\n",
            "(19,6): error CS1003: Syntax error, '(' expected\r\n",
            "(19,16): error CS1026: ) expected\r\n",
            "(19,16): error CS1525: Invalid expression term ':'\r\n",
            "(19,16): error CS1002: ; expected\r\n",
            "(19,16): error CS7017: Member definition, statement, or end-of-file expected\r\n",
            "(20,25): error CS1002: ; expected\r\n",
            "(22,8): error CS1003: Syntax error, ',' expected\r\n",
            "(22,50): error CS1002: ; expected"
          ]
        }
      ],
      "source": [
        "# hadaszibalazs205 Create p1.intervallum.py\n",
        "'''\n",
        "Készíts egy programot, amely [1;10] intervallumon generál 5 darab véletlen egész számot \n",
        "és ezeket tárolja el egy listában! A program számolja össze, \n",
        "és képernyőre írja ki a listában tárolt páros számok számát, valamint a lista elemeit!\n",
        "'''\n",
        "\n",
        "import random\n",
        "\n",
        "lista = []\n",
        "\n",
        "for i in range(5):\n",
        "  veletlen = random.randint(1, 10)\n",
        "  lista.append(veletlen)\n",
        "\n",
        "paroslista = []\n",
        "\n",
        "for i in lista:\n",
        "  if i % 2 == 0:\n",
        "    paroslista.append(i)\n",
        "\n",
        "print(f\"A páros számok száma: {len(paroslista)}\")\n",
        "print(lista)"
      ]
    },
    {
      "cell_type": "markdown",
      "metadata": {
        "dotnet_interactive": {
          "language": "csharp"
        },
        "polyglot_notebook": {
          "kernelName": "csharp"
        }
      },
      "source": [
        "---\n",
        "**Kutya**\n",
        "\n",
        "* Írj programot, amely a felhasználótól bekéri egy kutya nevét, életkorát, fajtáját, és azt hogy rendelkezik-e érvényes oltással veszettség ellen! \n",
        "* Az adatokat tárolja a program szótárban, és írja ki a képernyőre az adatszerkezetet!"
      ]
    },
    {
      "cell_type": "code",
      "execution_count": null,
      "metadata": {
        "id": "QpDg3h1VLXpE"
      },
      "outputs": [
        {
          "ename": "Error",
          "evalue": "(1,3): error CS1024: Preprocessor directive expected\r\n(2,1): error CS1011: Empty character literal\r\n(2,3): error CS1002: ; expected\r\n(2,3): error CS1010: Newline in constant\r\n(2,3): error CS1011: Empty character literal\r\n(2,4): error CS1002: ; expected\r\n(3,9): error CS1002: ; expected\r\n(3,18): error CS1002: ; expected\r\n(3,18): error CS7017: Member definition, statement, or end-of-file expected\r\n(3,28): error CS1002: ; expected\r\n(3,50): error CS1002: ; expected\r\n(3,60): error CS1002: ; expected\r\n(3,65): error CS1002: ; expected\r\n(3,65): error CS7017: Member definition, statement, or end-of-file expected\r\n(3,76): error CS1002: ; expected\r\n(3,76): error CS7017: Member definition, statement, or end-of-file expected\r\n(3,86): error CS1002: ; expected\r\n(3,86): error CS7017: Member definition, statement, or end-of-file expected\r\n(3,95): error CS1002: ; expected\r\n(3,111): error CS1002: ; expected\r\n(3,114): error CS1002: ; expected\r\n(3,132): error CS1002: ; expected\r\n(3,148): error CS1002: ; expected\r\n(4,4): error CS1002: ; expected\r\n(4,21): error CS1002: ; expected\r\n(4,31): error CS1002: ; expected\r\n(4,40): error CS1002: ; expected\r\n(4,40): error CS7017: Member definition, statement, or end-of-file expected\r\n(4,50): error CS1002: ; expected\r\n(4,55): error CS1002: ; expected\r\n(4,69): error CS1002: ; expected\r\n(4,85): error CS1002: ; expected\r\n(5,1): error CS1011: Empty character literal\r\n(5,3): error CS1002: ; expected\r\n(5,3): error CS1010: Newline in constant\r\n(5,3): error CS1011: Empty character literal\r\n(5,4): error CS1002: ; expected\r\n(6,13): error CS1012: Too many characters in character literal\r\n(6,28): error CS1002: ; expected\r\n(7,13): error CS1012: Too many characters in character literal\r\n(7,31): error CS1002: ; expected\r\n(8,7): error CS1525: Invalid expression term 'int'\r\n(8,17): error CS1012: Too many characters in character literal\r\n(8,33): error CS1002: ; expected\r\n(9,13): error CS1012: Too many characters in character literal\r\n(9,42): error CS1002: ; expected\r\n(11,10): error CS1525: Invalid expression term '{'\r\n(11,10): error CS1002: ; expected\r\n(12,5): error CS1012: Too many characters in character literal\r\n(12,11): error CS1002: ; expected\r\n(12,11): error CS1513: } expected\r\n(12,17): error CS1002: ; expected\r\n(12,17): error CS1513: } expected\r\n(13,5): error CS1012: Too many characters in character literal\r\n(13,11): error CS1002: ; expected\r\n(13,11): error CS1513: } expected\r\n(13,16): error CS1002: ; expected\r\n(13,16): error CS1513: } expected\r\n(14,5): error CS1012: Too many characters in character literal\r\n(14,10): error CS1002: ; expected\r\n(14,10): error CS1513: } expected\r\n(14,15): error CS1002: ; expected\r\n(14,15): error CS1513: } expected\r\n(15,5): error CS1012: Too many characters in character literal\r\n(15,15): error CS1002: ; expected\r\n(15,15): error CS1513: } expected\r\n(15,20): error CS1002: ; expected",
          "output_type": "error",
          "traceback": [
            "(1,3): error CS1024: Preprocessor directive expected\r\n",
            "(2,1): error CS1011: Empty character literal\r\n",
            "(2,3): error CS1002: ; expected\r\n",
            "(2,3): error CS1010: Newline in constant\r\n",
            "(2,3): error CS1011: Empty character literal\r\n",
            "(2,4): error CS1002: ; expected\r\n",
            "(3,9): error CS1002: ; expected\r\n",
            "(3,18): error CS1002: ; expected\r\n",
            "(3,18): error CS7017: Member definition, statement, or end-of-file expected\r\n",
            "(3,28): error CS1002: ; expected\r\n",
            "(3,50): error CS1002: ; expected\r\n",
            "(3,60): error CS1002: ; expected\r\n",
            "(3,65): error CS1002: ; expected\r\n",
            "(3,65): error CS7017: Member definition, statement, or end-of-file expected\r\n",
            "(3,76): error CS1002: ; expected\r\n",
            "(3,76): error CS7017: Member definition, statement, or end-of-file expected\r\n",
            "(3,86): error CS1002: ; expected\r\n",
            "(3,86): error CS7017: Member definition, statement, or end-of-file expected\r\n",
            "(3,95): error CS1002: ; expected\r\n",
            "(3,111): error CS1002: ; expected\r\n",
            "(3,114): error CS1002: ; expected\r\n",
            "(3,132): error CS1002: ; expected\r\n",
            "(3,148): error CS1002: ; expected\r\n",
            "(4,4): error CS1002: ; expected\r\n",
            "(4,21): error CS1002: ; expected\r\n",
            "(4,31): error CS1002: ; expected\r\n",
            "(4,40): error CS1002: ; expected\r\n",
            "(4,40): error CS7017: Member definition, statement, or end-of-file expected\r\n",
            "(4,50): error CS1002: ; expected\r\n",
            "(4,55): error CS1002: ; expected\r\n",
            "(4,69): error CS1002: ; expected\r\n",
            "(4,85): error CS1002: ; expected\r\n",
            "(5,1): error CS1011: Empty character literal\r\n",
            "(5,3): error CS1002: ; expected\r\n",
            "(5,3): error CS1010: Newline in constant\r\n",
            "(5,3): error CS1011: Empty character literal\r\n",
            "(5,4): error CS1002: ; expected\r\n",
            "(6,13): error CS1012: Too many characters in character literal\r\n",
            "(6,28): error CS1002: ; expected\r\n",
            "(7,13): error CS1012: Too many characters in character literal\r\n",
            "(7,31): error CS1002: ; expected\r\n",
            "(8,7): error CS1525: Invalid expression term 'int'\r\n",
            "(8,17): error CS1012: Too many characters in character literal\r\n",
            "(8,33): error CS1002: ; expected\r\n",
            "(9,13): error CS1012: Too many characters in character literal\r\n",
            "(9,42): error CS1002: ; expected\r\n",
            "(11,10): error CS1525: Invalid expression term '{'\r\n",
            "(11,10): error CS1002: ; expected\r\n",
            "(12,5): error CS1012: Too many characters in character literal\r\n",
            "(12,11): error CS1002: ; expected\r\n",
            "(12,11): error CS1513: } expected\r\n",
            "(12,17): error CS1002: ; expected\r\n",
            "(12,17): error CS1513: } expected\r\n",
            "(13,5): error CS1012: Too many characters in character literal\r\n",
            "(13,11): error CS1002: ; expected\r\n",
            "(13,11): error CS1513: } expected\r\n",
            "(13,16): error CS1002: ; expected\r\n",
            "(13,16): error CS1513: } expected\r\n",
            "(14,5): error CS1012: Too many characters in character literal\r\n",
            "(14,10): error CS1002: ; expected\r\n",
            "(14,10): error CS1513: } expected\r\n",
            "(14,15): error CS1002: ; expected\r\n",
            "(14,15): error CS1513: } expected\r\n",
            "(15,5): error CS1012: Too many characters in character literal\r\n",
            "(15,15): error CS1002: ; expected\r\n",
            "(15,15): error CS1513: } expected\r\n",
            "(15,20): error CS1002: ; expected"
          ]
        }
      ],
      "source": [
        "# hadaszibalazs205 Create p1.kutya.py\n",
        "'''\n",
        "Írj egy programot, amely a felhasználótól bekéri egy kutya nevét, életkorát, fajtáját, és azt hogy rendelkezik-e érvényes oltással veszettség ellen! \n",
        "Az adatokat tárolja a program szótárban, és írja ki a képernyőre az adatszerkezetet!\n",
        "'''\n",
        "nev = input('kutya neve: ')\n",
        "faj = input('kutya fajtája: ')\n",
        "kor = int(input('kutya kora: '))\n",
        "olt = input('a kutya oltott-e? (i/n) : ')\n",
        "\n",
        "szotar = {\n",
        "    'nev' : nev ,\n",
        "    'faj' : faj,\n",
        "    'kor': kor,\n",
        "    'oltott_e': olt\n",
        "    }\n",
        "\n",
        "print(szotar)"
      ]
    },
    {
      "cell_type": "markdown",
      "metadata": {
        "dotnet_interactive": {
          "language": "csharp"
        },
        "polyglot_notebook": {
          "kernelName": "csharp"
        }
      },
      "source": [
        "---\n",
        "**Macska**\n",
        "* Írj egy programot, amely szótárban tárolja egy macska nevét, korát. \n",
        "* A felhasználónak legyen lehetősége megváltoztatni az egyik tárolt adatot. \n",
        "* A program írja ki a felhasználó választása alapján az egyik adatot, kérdezze meg, mire módosítsa, \n",
        "* végül írja ki a képernyőre a frissített adatszerkezetet!"
      ]
    },
    {
      "cell_type": "code",
      "execution_count": null,
      "metadata": {
        "id": "GfiW05nLLklr"
      },
      "outputs": [
        {
          "ename": "Error",
          "evalue": "(1,3): error CS1024: Preprocessor directive expected\r\n(2,1): error CS1011: Empty character literal\r\n(2,3): error CS1002: ; expected\r\n(2,3): error CS1010: Newline in constant\r\n(2,3): error CS1011: Empty character literal\r\n(2,4): error CS1002: ; expected\r\n(3,9): error CS1002: ; expected\r\n(3,18): error CS1002: ; expected\r\n(3,18): error CS7017: Member definition, statement, or end-of-file expected\r\n(3,36): error CS1002: ; expected\r\n(3,48): error CS1002: ; expected\r\n(3,67): error CS1003: Syntax error, ',' expected\r\n(3,68): error CS1002: ; expected\r\n(4,18): error CS1002: ; expected\r\n(4,36): error CS1002: ; expected\r\n(4,54): error CS1002: ; expected\r\n(4,67): error CS1002: ; expected\r\n(4,74): error CS1001: Identifier expected\r\n(4,74): error CS1002: ; expected\r\n(5,11): error CS1002: ; expected\r\n(5,19): error CS1002: ; expected\r\n(5,33): error CS1002: ; expected\r\n(5,52): error CS1002: ; expected\r\n(5,61): error CS1002: ; expected\r\n(5,67): error CS1002: ; expected\r\n(5,67): error CS7017: Member definition, statement, or end-of-file expected\r\n(5,83): error CS1044: Cannot use more than one type in a for, using, fixed, or declaration statement\r\n(5,88): error CS1002: ; expected\r\n(5,97): error CS1002: ; expected\r\n(5,97): error CS7017: Member definition, statement, or end-of-file expected\r\n(5,110): error CS1002: ; expected\r\n(5,115): error CS1002: ; expected\r\n(5,128): error CS1002: ; expected\r\n(5,154): error CS1002: ; expected\r\n(6,1): error CS1011: Empty character literal\r\n(6,3): error CS1002: ; expected\r\n(6,3): error CS1010: Newline in constant\r\n(6,3): error CS1011: Empty character literal\r\n(6,4): error CS1002: ; expected\r\n(8,15): error CS1525: Invalid expression term '{'\r\n(8,15): error CS1002: ; expected\r\n(9,5): error CS1012: Too many characters in character literal\r\n(9,10): error CS1002: ; expected\r\n(9,10): error CS1513: } expected\r\n(9,12): error CS1012: Too many characters in character literal\r\n(9,20): error CS1002: ; expected\r\n(9,20): error CS1513: } expected\r\n(10,5): error CS1012: Too many characters in character literal\r\n(10,10): error CS1002: ; expected\r\n(10,10): error CS1513: } expected\r\n(10,13): error CS1002: ; expected\r\n(10,13): error CS1513: } expected\r\n(14,15): error CS1012: Too many characters in character literal\r\n(14,70): error CS1002: ; expected\r\n(15,4): error CS1003: Syntax error, '(' expected\r\n(15,18): error CS1026: ) expected\r\n(15,18): error CS1525: Invalid expression term ':'\r\n(15,18): error CS1002: ; expected\r\n(15,18): error CS7017: Member definition, statement, or end-of-file expected\r\n(16,18): error CS1012: Too many characters in character literal\r\n(16,33): error CS1012: Too many characters in character literal\r\n(16,64): error CS1002: ; expected\r\n(17,22): error CS1012: Too many characters in character literal\r\n(17,28): error CS1002: ; expected\r\n(18,24): error CS1002: ; expected\r\n(22,4): error CS1003: Syntax error, '(' expected\r\n(22,18): error CS1026: ) expected\r\n(22,18): error CS1525: Invalid expression term ':'\r\n(22,18): error CS1002: ; expected\r\n(22,18): error CS7017: Member definition, statement, or end-of-file expected\r\n(23,18): error CS1012: Too many characters in character literal\r\n(23,33): error CS1012: Too many characters in character literal\r\n(23,64): error CS1002: ; expected\r\n(24,22): error CS1012: Too many characters in character literal\r\n(24,28): error CS1002: ; expected",
          "output_type": "error",
          "traceback": [
            "(1,3): error CS1024: Preprocessor directive expected\r\n",
            "(2,1): error CS1011: Empty character literal\r\n",
            "(2,3): error CS1002: ; expected\r\n",
            "(2,3): error CS1010: Newline in constant\r\n",
            "(2,3): error CS1011: Empty character literal\r\n",
            "(2,4): error CS1002: ; expected\r\n",
            "(3,9): error CS1002: ; expected\r\n",
            "(3,18): error CS1002: ; expected\r\n",
            "(3,18): error CS7017: Member definition, statement, or end-of-file expected\r\n",
            "(3,36): error CS1002: ; expected\r\n",
            "(3,48): error CS1002: ; expected\r\n",
            "(3,67): error CS1003: Syntax error, ',' expected\r\n",
            "(3,68): error CS1002: ; expected\r\n",
            "(4,18): error CS1002: ; expected\r\n",
            "(4,36): error CS1002: ; expected\r\n",
            "(4,54): error CS1002: ; expected\r\n",
            "(4,67): error CS1002: ; expected\r\n",
            "(4,74): error CS1001: Identifier expected\r\n",
            "(4,74): error CS1002: ; expected\r\n",
            "(5,11): error CS1002: ; expected\r\n",
            "(5,19): error CS1002: ; expected\r\n",
            "(5,33): error CS1002: ; expected\r\n",
            "(5,52): error CS1002: ; expected\r\n",
            "(5,61): error CS1002: ; expected\r\n",
            "(5,67): error CS1002: ; expected\r\n",
            "(5,67): error CS7017: Member definition, statement, or end-of-file expected\r\n",
            "(5,83): error CS1044: Cannot use more than one type in a for, using, fixed, or declaration statement\r\n",
            "(5,88): error CS1002: ; expected\r\n",
            "(5,97): error CS1002: ; expected\r\n",
            "(5,97): error CS7017: Member definition, statement, or end-of-file expected\r\n",
            "(5,110): error CS1002: ; expected\r\n",
            "(5,115): error CS1002: ; expected\r\n",
            "(5,128): error CS1002: ; expected\r\n",
            "(5,154): error CS1002: ; expected\r\n",
            "(6,1): error CS1011: Empty character literal\r\n",
            "(6,3): error CS1002: ; expected\r\n",
            "(6,3): error CS1010: Newline in constant\r\n",
            "(6,3): error CS1011: Empty character literal\r\n",
            "(6,4): error CS1002: ; expected\r\n",
            "(8,15): error CS1525: Invalid expression term '{'\r\n",
            "(8,15): error CS1002: ; expected\r\n",
            "(9,5): error CS1012: Too many characters in character literal\r\n",
            "(9,10): error CS1002: ; expected\r\n",
            "(9,10): error CS1513: } expected\r\n",
            "(9,12): error CS1012: Too many characters in character literal\r\n",
            "(9,20): error CS1002: ; expected\r\n",
            "(9,20): error CS1513: } expected\r\n",
            "(10,5): error CS1012: Too many characters in character literal\r\n",
            "(10,10): error CS1002: ; expected\r\n",
            "(10,10): error CS1513: } expected\r\n",
            "(10,13): error CS1002: ; expected\r\n",
            "(10,13): error CS1513: } expected\r\n",
            "(14,15): error CS1012: Too many characters in character literal\r\n",
            "(14,70): error CS1002: ; expected\r\n",
            "(15,4): error CS1003: Syntax error, '(' expected\r\n",
            "(15,18): error CS1026: ) expected\r\n",
            "(15,18): error CS1525: Invalid expression term ':'\r\n",
            "(15,18): error CS1002: ; expected\r\n",
            "(15,18): error CS7017: Member definition, statement, or end-of-file expected\r\n",
            "(16,18): error CS1012: Too many characters in character literal\r\n",
            "(16,33): error CS1012: Too many characters in character literal\r\n",
            "(16,64): error CS1002: ; expected\r\n",
            "(17,22): error CS1012: Too many characters in character literal\r\n",
            "(17,28): error CS1002: ; expected\r\n",
            "(18,24): error CS1002: ; expected\r\n",
            "(22,4): error CS1003: Syntax error, '(' expected\r\n",
            "(22,18): error CS1026: ) expected\r\n",
            "(22,18): error CS1525: Invalid expression term ':'\r\n",
            "(22,18): error CS1002: ; expected\r\n",
            "(22,18): error CS7017: Member definition, statement, or end-of-file expected\r\n",
            "(23,18): error CS1012: Too many characters in character literal\r\n",
            "(23,33): error CS1012: Too many characters in character literal\r\n",
            "(23,64): error CS1002: ; expected\r\n",
            "(24,22): error CS1012: Too many characters in character literal\r\n",
            "(24,28): error CS1002: ; expected"
          ]
        }
      ],
      "source": [
        "# hadaszibalazs205 Create p1.macska.py\n",
        "'''\n",
        "Írj egy programot, amely szótárban tárolja egy macska nevét, korát. \n",
        "A felhasználónak legyen lehetősége megváltoztatni az egyik tárolt adatot. \n",
        "A program írja ki a felhasználó választása alapján az egyik adatot, kérdezze meg, mire módosítsa, végül írja ki a képernyőre a frissített adatszerkezetet!\n",
        "'''\n",
        "\n",
        "macskaadatok= {\n",
        "    'név': 'macska',\n",
        "    'kor': 5,\n",
        "}\n",
        "\n",
        "\n",
        "beker = input('Melyik adatot szeretnéd megváltoztatni? (név/kor):  ')\n",
        "if beker == \"név\":\n",
        "    macskaadatok['név'] = input('Mire szeretnéd módosítani?: ')\n",
        "    macskaadatok.get('név')\n",
        "    print(macskaadatok)\n",
        "\n",
        "\n",
        "\n",
        "if beker == \"kor\":\n",
        "    macskaadatok['kor'] = input('Mire szeretnéd módosítani?: ')\n",
        "    macskaadatok.get('kor')\n",
        "    print(macskaadatok)"
      ]
    },
    {
      "cell_type": "markdown",
      "metadata": {
        "dotnet_interactive": {
          "language": "csharp"
        },
        "polyglot_notebook": {
          "kernelName": "csharp"
        }
      },
      "source": [
        "---\n",
        "**Mondat fajtája**\n",
        "* Készíts egy programot, amely a felhasználó által megadott mondatról a mondatvégi jel alapján eldönti milyen fajtájú! (kijelentő, kérdő, felkiáltó / felszólító / óhajtó)"
      ]
    },
    {
      "cell_type": "code",
      "execution_count": null,
      "metadata": {
        "id": "qmZGAx1QLsqV"
      },
      "outputs": [
        {
          "ename": "Error",
          "evalue": "(1,3): error CS1024: Preprocessor directive expected\r\n(2,1): error CS1011: Empty character literal\r\n(2,3): error CS1002: ; expected\r\n(2,3): error CS1010: Newline in constant\r\n(2,3): error CS1011: Empty character literal\r\n(2,4): error CS1002: ; expected\r\n(3,13): error CS1002: ; expected\r\n(3,22): error CS1002: ; expected\r\n(3,22): error CS7017: Member definition, statement, or end-of-file expected\r\n(3,32): error CS1002: ; expected\r\n(3,50): error CS1002: ; expected\r\n(3,69): error CS1002: ; expected\r\n(3,82): error CS1002: ; expected\r\n(3,94): error CS1002: ; expected\r\n(3,109): error CS1002: ; expected\r\n(3,169): error CS1002: ; expected\r\n(4,1): error CS1011: Empty character literal\r\n(4,3): error CS1002: ; expected\r\n(4,3): error CS1010: Newline in constant\r\n(4,3): error CS1011: Empty character literal\r\n(4,4): error CS1002: ; expected\r\n(6,7): error CS1003: Syntax error, '(' expected\r\n(6,11): error CS1026: ) expected\r\n(6,11): error CS1525: Invalid expression term ':'\r\n(6,11): error CS1002: ; expected\r\n(6,11): error CS7017: Member definition, statement, or end-of-file expected\r\n(8,19): error CS1012: Too many characters in character literal\r\n(8,30): error CS1002: ; expected\r\n(9,8): error CS1003: Syntax error, '(' expected\r\n(9,17): error CS1011: Empty character literal\r\n(9,19): error CS1026: ) expected\r\n(9,19): error CS1525: Invalid expression term ':'\r\n(9,19): error CS1002: ; expected\r\n(9,19): error CS7017: Member definition, statement, or end-of-file expected\r\n(10,14): error CS1002: ; expected\r\n(11,15): error CS0650: Bad array declarator: To declare a managed array the rank specifier precedes the variable's identifier. To declare a fixed size buffer field, use the fixed keyword before the field type.\r\n(11,16): error CS0270: Array size cannot be specified in a variable declaration (try initializing with a 'new' expression)\r\n(11,20): error CS1002: ; expected\r\n(11,20): error CS1525: Invalid expression term '=='\r\n(11,26): error CS1002: ; expected\r\n(11,26): error CS7017: Member definition, statement, or end-of-file expected\r\n(12,15): error CS1012: Too many characters in character literal\r\n(12,29): error CS1002: ; expected\r\n(14,15): error CS0650: Bad array declarator: To declare a managed array the rank specifier precedes the variable's identifier. To declare a fixed size buffer field, use the fixed keyword before the field type.\r\n(14,16): error CS0270: Array size cannot be specified in a variable declaration (try initializing with a 'new' expression)\r\n(14,20): error CS1002: ; expected\r\n(14,20): error CS1525: Invalid expression term '=='\r\n(14,26): error CS1002: ; expected\r\n(14,26): error CS7017: Member definition, statement, or end-of-file expected\r\n(15,15): error CS1012: Too many characters in character literal\r\n(15,34): error CS1002: ; expected\r\n(17,15): error CS0650: Bad array declarator: To declare a managed array the rank specifier precedes the variable's identifier. To declare a fixed size buffer field, use the fixed keyword before the field type.\r\n(17,16): error CS0270: Array size cannot be specified in a variable declaration (try initializing with a 'new' expression)\r\n(17,20): error CS1002: ; expected\r\n(17,20): error CS1525: Invalid expression term '=='\r\n(17,27): error CS1002: ; expected\r\n(17,31): error CS1002: ; expected\r\n(17,31): error CS1012: Too many characters in character literal\r\n(17,41): error CS1002: ; expected\r\n(17,41): error CS7017: Member definition, statement, or end-of-file expected\r\n(17,53): error CS1002: ; expected\r\n(17,53): error CS1012: Too many characters in character literal\r\n(17,63): error CS1002: ; expected\r\n(17,63): error CS7017: Member definition, statement, or end-of-file expected\r\n(18,15): error CS1012: Too many characters in character literal\r\n(18,24): error CS1002: ; expected\r\n(20,15): error CS0650: Bad array declarator: To declare a managed array the rank specifier precedes the variable's identifier. To declare a fixed size buffer field, use the fixed keyword before the field type.\r\n(20,16): error CS0270: Array size cannot be specified in a variable declaration (try initializing with a 'new' expression)\r\n(20,20): error CS1002: ; expected\r\n(20,20): error CS1525: Invalid expression term '=='\r\n(20,27): error CS1002: ; expected\r\n(20,31): error CS1002: ; expected\r\n(20,31): error CS1012: Too many characters in character literal\r\n(20,41): error CS1002: ; expected\r\n(20,45): error CS1002: ; expected\r\n(20,45): error CS7017: Member definition, statement, or end-of-file expected\r\n(20,57): error CS1002: ; expected\r\n(20,57): error CS1012: Too many characters in character literal\r\n(20,68): error CS1002: ; expected\r\n(20,72): error CS1002: ; expected\r\n(20,72): error CS7017: Member definition, statement, or end-of-file expected\r\n(21,15): error CS1012: Too many characters in character literal",
          "output_type": "error",
          "traceback": [
            "(1,3): error CS1024: Preprocessor directive expected\r\n",
            "(2,1): error CS1011: Empty character literal\r\n",
            "(2,3): error CS1002: ; expected\r\n",
            "(2,3): error CS1010: Newline in constant\r\n",
            "(2,3): error CS1011: Empty character literal\r\n",
            "(2,4): error CS1002: ; expected\r\n",
            "(3,13): error CS1002: ; expected\r\n",
            "(3,22): error CS1002: ; expected\r\n",
            "(3,22): error CS7017: Member definition, statement, or end-of-file expected\r\n",
            "(3,32): error CS1002: ; expected\r\n",
            "(3,50): error CS1002: ; expected\r\n",
            "(3,69): error CS1002: ; expected\r\n",
            "(3,82): error CS1002: ; expected\r\n",
            "(3,94): error CS1002: ; expected\r\n",
            "(3,109): error CS1002: ; expected\r\n",
            "(3,169): error CS1002: ; expected\r\n",
            "(4,1): error CS1011: Empty character literal\r\n",
            "(4,3): error CS1002: ; expected\r\n",
            "(4,3): error CS1010: Newline in constant\r\n",
            "(4,3): error CS1011: Empty character literal\r\n",
            "(4,4): error CS1002: ; expected\r\n",
            "(6,7): error CS1003: Syntax error, '(' expected\r\n",
            "(6,11): error CS1026: ) expected\r\n",
            "(6,11): error CS1525: Invalid expression term ':'\r\n",
            "(6,11): error CS1002: ; expected\r\n",
            "(6,11): error CS7017: Member definition, statement, or end-of-file expected\r\n",
            "(8,19): error CS1012: Too many characters in character literal\r\n",
            "(8,30): error CS1002: ; expected\r\n",
            "(9,8): error CS1003: Syntax error, '(' expected\r\n",
            "(9,17): error CS1011: Empty character literal\r\n",
            "(9,19): error CS1026: ) expected\r\n",
            "(9,19): error CS1525: Invalid expression term ':'\r\n",
            "(9,19): error CS1002: ; expected\r\n",
            "(9,19): error CS7017: Member definition, statement, or end-of-file expected\r\n",
            "(10,14): error CS1002: ; expected\r\n",
            "(11,15): error CS0650: Bad array declarator: To declare a managed array the rank specifier precedes the variable's identifier. To declare a fixed size buffer field, use the fixed keyword before the field type.\r\n",
            "(11,16): error CS0270: Array size cannot be specified in a variable declaration (try initializing with a 'new' expression)\r\n",
            "(11,20): error CS1002: ; expected\r\n",
            "(11,20): error CS1525: Invalid expression term '=='\r\n",
            "(11,26): error CS1002: ; expected\r\n",
            "(11,26): error CS7017: Member definition, statement, or end-of-file expected\r\n",
            "(12,15): error CS1012: Too many characters in character literal\r\n",
            "(12,29): error CS1002: ; expected\r\n",
            "(14,15): error CS0650: Bad array declarator: To declare a managed array the rank specifier precedes the variable's identifier. To declare a fixed size buffer field, use the fixed keyword before the field type.\r\n",
            "(14,16): error CS0270: Array size cannot be specified in a variable declaration (try initializing with a 'new' expression)\r\n",
            "(14,20): error CS1002: ; expected\r\n",
            "(14,20): error CS1525: Invalid expression term '=='\r\n",
            "(14,26): error CS1002: ; expected\r\n",
            "(14,26): error CS7017: Member definition, statement, or end-of-file expected\r\n",
            "(15,15): error CS1012: Too many characters in character literal\r\n",
            "(15,34): error CS1002: ; expected\r\n",
            "(17,15): error CS0650: Bad array declarator: To declare a managed array the rank specifier precedes the variable's identifier. To declare a fixed size buffer field, use the fixed keyword before the field type.\r\n",
            "(17,16): error CS0270: Array size cannot be specified in a variable declaration (try initializing with a 'new' expression)\r\n",
            "(17,20): error CS1002: ; expected\r\n",
            "(17,20): error CS1525: Invalid expression term '=='\r\n",
            "(17,27): error CS1002: ; expected\r\n",
            "(17,31): error CS1002: ; expected\r\n",
            "(17,31): error CS1012: Too many characters in character literal\r\n",
            "(17,41): error CS1002: ; expected\r\n",
            "(17,41): error CS7017: Member definition, statement, or end-of-file expected\r\n",
            "(17,53): error CS1002: ; expected\r\n",
            "(17,53): error CS1012: Too many characters in character literal\r\n",
            "(17,63): error CS1002: ; expected\r\n",
            "(17,63): error CS7017: Member definition, statement, or end-of-file expected\r\n",
            "(18,15): error CS1012: Too many characters in character literal\r\n",
            "(18,24): error CS1002: ; expected\r\n",
            "(20,15): error CS0650: Bad array declarator: To declare a managed array the rank specifier precedes the variable's identifier. To declare a fixed size buffer field, use the fixed keyword before the field type.\r\n",
            "(20,16): error CS0270: Array size cannot be specified in a variable declaration (try initializing with a 'new' expression)\r\n",
            "(20,20): error CS1002: ; expected\r\n",
            "(20,20): error CS1525: Invalid expression term '=='\r\n",
            "(20,27): error CS1002: ; expected\r\n",
            "(20,31): error CS1002: ; expected\r\n",
            "(20,31): error CS1012: Too many characters in character literal\r\n",
            "(20,41): error CS1002: ; expected\r\n",
            "(20,45): error CS1002: ; expected\r\n",
            "(20,45): error CS7017: Member definition, statement, or end-of-file expected\r\n",
            "(20,57): error CS1002: ; expected\r\n",
            "(20,57): error CS1012: Too many characters in character literal\r\n",
            "(20,68): error CS1002: ; expected\r\n",
            "(20,72): error CS1002: ; expected\r\n",
            "(20,72): error CS7017: Member definition, statement, or end-of-file expected\r\n",
            "(21,15): error CS1012: Too many characters in character literal"
          ]
        }
      ],
      "source": [
        "# hadaszibalazs205 Update p1.mondatvége.py\n",
        "'''\n",
        "Készíts egy programot, amely a felhasználó által megadott mondatról a mondatvégi jel alapján eldönti milyen fajtájú! (kijelentő, kérdő, felkiáltó / felszólító / óhajtó)\n",
        "'''\n",
        "\n",
        "while True:\n",
        "        \n",
        "    beker = input('mondat: ')\n",
        "    if beker == '':\n",
        "        break\n",
        "    elif beker[-1] == '?':\n",
        "        print('kérdőmondat')\n",
        "\n",
        "    elif beker[-1] == '.':\n",
        "        print('kijelentő mondat')\n",
        "\n",
        "    elif beker[-1] == '!' and 'Bárcsak' in beker or 'bárcsak' in beker:\n",
        "        print('óhajtó')\n",
        "\n",
        "    elif beker[-1] == '!' and 'Bárcsak' not in beker or 'bárcsak'  not in  beker :\n",
        "        print('Felkialto mondat')"
      ]
    },
    {
      "cell_type": "markdown",
      "metadata": {
        "dotnet_interactive": {
          "language": "csharp"
        },
        "polyglot_notebook": {
          "kernelName": "csharp"
        }
      },
      "source": [
        "---\n",
        "**Lista legkisebb eleme függvény**\n",
        "* Írj egy programot, ami addig kér be egész pozitív számokat, amíg a felhasználó negtív számot nem ír! \n",
        "* A megadott számokat tárolja a program egy listában, és ezt adja át paraméterként egy függvények, amely a lista legkisebb elemével tér vissza. \n",
        "* A program írja ki, hogy melyik volt a megadott legkisebb szám!"
      ]
    },
    {
      "cell_type": "code",
      "execution_count": null,
      "metadata": {
        "id": "yDKWFg-PLzoK"
      },
      "outputs": [
        {
          "ename": "Error",
          "evalue": "(1,3): error CS1024: Preprocessor directive expected\r\n(2,1): error CS1011: Empty character literal\r\n(2,3): error CS1002: ; expected\r\n(2,3): error CS1010: Newline in constant\r\n(2,3): error CS1011: Empty character literal\r\n(2,4): error CS1002: ; expected\r\n(3,9): error CS1002: ; expected\r\n(3,18): error CS1002: ; expected\r\n(3,18): error CS7017: Member definition, statement, or end-of-file expected\r\n(3,30): error CS1002: ; expected\r\n(3,37): error CS1002: ; expected\r\n(3,51): error CS1002: ; expected\r\n(3,59): error CS1002: ; expected\r\n(3,59): error CS7017: Member definition, statement, or end-of-file expected\r\n(3,68): error CS1002: ; expected\r\n(3,87): error CS1002: ; expected\r\n(3,98): error CS1002: ; expected\r\n(3,101): error CS1002: ; expected\r\n(4,12): error CS1002: ; expected\r\n(4,29): error CS1002: ; expected\r\n(4,39): error CS1002: ; expected\r\n(4,53): error CS1044: Cannot use more than one type in a for, using, fixed, or declaration statement\r\n(4,56): error CS1002: ; expected\r\n(4,65): error CS1002: ; expected\r\n(4,82): error CS1002: ; expected\r\n(4,98): error CS1044: Cannot use more than one type in a for, using, fixed, or declaration statement\r\n(4,104): error CS1002: ; expected\r\n(4,112): error CS1002: ; expected\r\n(4,131): error CS1002: ; expected\r\n(5,3): error CS1003: Syntax error, '(' expected\r\n(5,16): error CS1003: Syntax error, ',' expected\r\n(5,18): error CS1001: Identifier expected\r\n(5,32): error CS1003: Syntax error, ',' expected\r\n(5,39): error CS1003: Syntax error, ',' expected\r\n(5,58): error CS1003: Syntax error, ',' expected\r\n(5,62): error CS1001: Identifier expected\r\n(5,62): error CS8989: The 'parameter null-checking' feature is not supported.\r\n(6,1): error CS1011: Empty character literal\r\n(6,3): error CS1010: Newline in constant\r\n(6,3): error CS1011: Empty character literal\r\n(6,4): error CS1003: Syntax error, ',' expected\r\n(7,8): error CS1001: Identifier expected\r\n(7,10): error CS1525: Invalid expression term '['\r\n(7,11): error CS0443: Syntax error; value expected\r\n(7,12): error CS1003: Syntax error, ',' expected\r\n(8,7): error CS1003: Syntax error, ',' expected\r\n(8,11): error CS1001: Identifier expected\r\n(8,11): error CS1003: Syntax error, ',' expected\r\n(8,12): error CS1003: Syntax error, ',' expected\r\n(9,11): error CS1001: Identifier expected\r\n(9,13): error CS1525: Invalid expression term 'int'\r\n(9,23): error CS1012: Too many characters in character literal\r\n(9,72): error CS1003: Syntax error, ',' expected\r\n(10,8): error CS1003: Syntax error, ',' expected\r\n(10,14): error CS1001: Identifier expected\r\n(10,14): error CS1003: Syntax error, ',' expected\r\n(10,18): error CS1003: Syntax error, ',' expected\r\n(11,22): error CS1001: Identifier expected\r\n(11,22): error CS1003: Syntax error, ',' expected\r\n(11,28): error CS8124: Tuple must contain at least two elements.\r\n(11,29): error CS1001: Identifier expected\r\n(11,29): error CS1003: Syntax error, ',' expected\r\n(13,14): error CS1003: Syntax error, ',' expected\r\n(15,12): error CS1003: Syntax error, ',' expected\r\n(15,19): error CS8124: Tuple must contain at least two elements.\r\n(15,20): error CS1001: Identifier expected\r\n(15,20): error CS1003: Syntax error, ',' expected\r\n(16,12): error CS1003: Syntax error, ',' expected\r\n(16,13): error CS1001: Identifier expected\r\n(16,13): error CS1012: Too many characters in character literal\r\n(16,46): error CS1003: Syntax error, ',' expected\r\n(18,6): error CS1001: Identifier expected\r\n(18,6): error CS1003: Syntax error, ',' expected\r\n(18,14): error CS8124: Tuple must contain at least two elements.\r\n(18,14): error CS1026: ) expected\r\n(18,14): error CS1001: Identifier expected\r\n(18,14): error CS1003: Syntax error, ',' expected\r\n(18,21): error CS8124: Tuple must contain at least two elements.\r\n(18,22): error CS1001: Identifier expected\r\n(18,23): error CS1002: ; expected",
          "output_type": "error",
          "traceback": [
            "(1,3): error CS1024: Preprocessor directive expected\r\n",
            "(2,1): error CS1011: Empty character literal\r\n",
            "(2,3): error CS1002: ; expected\r\n",
            "(2,3): error CS1010: Newline in constant\r\n",
            "(2,3): error CS1011: Empty character literal\r\n",
            "(2,4): error CS1002: ; expected\r\n",
            "(3,9): error CS1002: ; expected\r\n",
            "(3,18): error CS1002: ; expected\r\n",
            "(3,18): error CS7017: Member definition, statement, or end-of-file expected\r\n",
            "(3,30): error CS1002: ; expected\r\n",
            "(3,37): error CS1002: ; expected\r\n",
            "(3,51): error CS1002: ; expected\r\n",
            "(3,59): error CS1002: ; expected\r\n",
            "(3,59): error CS7017: Member definition, statement, or end-of-file expected\r\n",
            "(3,68): error CS1002: ; expected\r\n",
            "(3,87): error CS1002: ; expected\r\n",
            "(3,98): error CS1002: ; expected\r\n",
            "(3,101): error CS1002: ; expected\r\n",
            "(4,12): error CS1002: ; expected\r\n",
            "(4,29): error CS1002: ; expected\r\n",
            "(4,39): error CS1002: ; expected\r\n",
            "(4,53): error CS1044: Cannot use more than one type in a for, using, fixed, or declaration statement\r\n",
            "(4,56): error CS1002: ; expected\r\n",
            "(4,65): error CS1002: ; expected\r\n",
            "(4,82): error CS1002: ; expected\r\n",
            "(4,98): error CS1044: Cannot use more than one type in a for, using, fixed, or declaration statement\r\n",
            "(4,104): error CS1002: ; expected\r\n",
            "(4,112): error CS1002: ; expected\r\n",
            "(4,131): error CS1002: ; expected\r\n",
            "(5,3): error CS1003: Syntax error, '(' expected\r\n",
            "(5,16): error CS1003: Syntax error, ',' expected\r\n",
            "(5,18): error CS1001: Identifier expected\r\n",
            "(5,32): error CS1003: Syntax error, ',' expected\r\n",
            "(5,39): error CS1003: Syntax error, ',' expected\r\n",
            "(5,58): error CS1003: Syntax error, ',' expected\r\n",
            "(5,62): error CS1001: Identifier expected\r\n",
            "(5,62): error CS8989: The 'parameter null-checking' feature is not supported.\r\n",
            "(6,1): error CS1011: Empty character literal\r\n",
            "(6,3): error CS1010: Newline in constant\r\n",
            "(6,3): error CS1011: Empty character literal\r\n",
            "(6,4): error CS1003: Syntax error, ',' expected\r\n",
            "(7,8): error CS1001: Identifier expected\r\n",
            "(7,10): error CS1525: Invalid expression term '['\r\n",
            "(7,11): error CS0443: Syntax error; value expected\r\n",
            "(7,12): error CS1003: Syntax error, ',' expected\r\n",
            "(8,7): error CS1003: Syntax error, ',' expected\r\n",
            "(8,11): error CS1001: Identifier expected\r\n",
            "(8,11): error CS1003: Syntax error, ',' expected\r\n",
            "(8,12): error CS1003: Syntax error, ',' expected\r\n",
            "(9,11): error CS1001: Identifier expected\r\n",
            "(9,13): error CS1525: Invalid expression term 'int'\r\n",
            "(9,23): error CS1012: Too many characters in character literal\r\n",
            "(9,72): error CS1003: Syntax error, ',' expected\r\n",
            "(10,8): error CS1003: Syntax error, ',' expected\r\n",
            "(10,14): error CS1001: Identifier expected\r\n",
            "(10,14): error CS1003: Syntax error, ',' expected\r\n",
            "(10,18): error CS1003: Syntax error, ',' expected\r\n",
            "(11,22): error CS1001: Identifier expected\r\n",
            "(11,22): error CS1003: Syntax error, ',' expected\r\n",
            "(11,28): error CS8124: Tuple must contain at least two elements.\r\n",
            "(11,29): error CS1001: Identifier expected\r\n",
            "(11,29): error CS1003: Syntax error, ',' expected\r\n",
            "(13,14): error CS1003: Syntax error, ',' expected\r\n",
            "(15,12): error CS1003: Syntax error, ',' expected\r\n",
            "(15,19): error CS8124: Tuple must contain at least two elements.\r\n",
            "(15,20): error CS1001: Identifier expected\r\n",
            "(15,20): error CS1003: Syntax error, ',' expected\r\n",
            "(16,12): error CS1003: Syntax error, ',' expected\r\n",
            "(16,13): error CS1001: Identifier expected\r\n",
            "(16,13): error CS1012: Too many characters in character literal\r\n",
            "(16,46): error CS1003: Syntax error, ',' expected\r\n",
            "(18,6): error CS1001: Identifier expected\r\n",
            "(18,6): error CS1003: Syntax error, ',' expected\r\n",
            "(18,14): error CS8124: Tuple must contain at least two elements.\r\n",
            "(18,14): error CS1026: ) expected\r\n",
            "(18,14): error CS1001: Identifier expected\r\n",
            "(18,14): error CS1003: Syntax error, ',' expected\r\n",
            "(18,21): error CS8124: Tuple must contain at least two elements.\r\n",
            "(18,22): error CS1001: Identifier expected\r\n",
            "(18,23): error CS1002: ; expected"
          ]
        }
      ],
      "source": [
        "# hadaszibalazs205 Create p1.pozitív&negatív.py\n",
        "'''\n",
        "Írj egy programot, ami addig kér be egész pozitív számokat, amíg a felhasználó negtív számot nem ír! \n",
        "A megadott számokat tárolja a program egy listában, és ezt adja át paraméterként egy függvények, amely a lista legkisebb elemével tér vissza. \n",
        "A program írja ki, hogy melyik volt a megadott legkisebb szám!\n",
        "'''\n",
        "szamok = []\n",
        "while True:\n",
        "    beker = int(input('adj egy szamot (negatívat a megszakitashoz): '))\n",
        "    if beker > 0:\n",
        "        szamok.append(beker) \n",
        "    else:\n",
        "        break\n",
        "\n",
        "def kissebb(szamok):\n",
        "    return f'a legkissebb szam {min(szamok)}'\n",
        "\n",
        "print(kissebb(szamok))\n"
      ]
    },
    {
      "cell_type": "markdown",
      "metadata": {
        "dotnet_interactive": {
          "language": "csharp"
        },
        "polyglot_notebook": {
          "kernelName": "csharp"
        }
      },
      "source": [
        "---\n",
        "**Fej vagy írás**\n",
        "\n",
        "* A program a pénzfeldobást modellezi. \n",
        "* Kérdezze meg a felhasználótól a választását (fej vagy írás), \n",
        "* majd adjon tájékoztatást, hogy eltalálta-e!"
      ]
    },
    {
      "cell_type": "code",
      "execution_count": null,
      "metadata": {
        "id": "_JTMXGUoL9cx"
      },
      "outputs": [
        {
          "ename": "Error",
          "evalue": "(1,3): error CS1024: Preprocessor directive expected\r\n(2,1): error CS1011: Empty character literal\r\n(2,3): error CS1002: ; expected\r\n(2,3): error CS1010: Newline in constant\r\n(2,3): error CS1011: Empty character literal\r\n(2,4): error CS1002: ; expected\r\n(3,11): error CS1002: ; expected\r\n(3,27): error CS1002: ; expected\r\n(3,51): error CS1002: ; expected\r\n(3,68): error CS1002: ; expected\r\n(3,92): error CS1003: Syntax error, ',' expected\r\n(3,96): error CS1001: Identifier expected\r\n(3,97): error CS1002: ; expected\r\n(3,97): error CS7017: Member definition, statement, or end-of-file expected\r\n(3,110): error CS1002: ; expected\r\n(3,123): error CS1002: ; expected\r\n(3,123): error CS7017: Member definition, statement, or end-of-file expected\r\n(3,139): error CS1002: ; expected\r\n(3,142): error CS1002: ; expected\r\n(4,1): error CS1011: Empty character literal\r\n(4,3): error CS1002: ; expected\r\n(4,3): error CS1010: Newline in constant\r\n(4,3): error CS1011: Empty character literal\r\n(4,4): error CS1002: ; expected\r\n(6,14): error CS1002: ; expected\r\n(8,14): error CS1002: ; expected\r\n(10,8): error CS1001: Identifier expected\r\n(10,10): error CS1018: Keyword 'this' or 'base' expected\r\n(10,10): error CS1002: ; expected\r\n(11,29): error CS1002: ; expected\r\n(13,16): error CS1018: Keyword 'this' or 'base' expected\r\n(13,16): error CS1002: ; expected\r\n(14,26): error CS1012: Too many characters in character literal\r\n(14,31): error CS1002: ; expected\r\n(16,14): error CS1012: Too many characters in character literal\r\n(16,35): error CS1002: ; expected\r\n(17,17): error CS1002: ; expected\r\n(18,7): error CS1012: Too many characters in character literal\r\n(18,61): error CS1002: ; expected\r\n(19,7): error CS1012: Too many characters in character literal\r\n(19,23): error CS1026: ) expected\r\n(19,23): error CS1002: ; expected\r\n(19,26): error CS1003: Syntax error, '(' expected\r\n(19,38): error CS1026: ) expected\r\n(19,38): error CS8641: 'else' cannot start a statement.\r\n(19,38): error CS1003: Syntax error, '(' expected\r\n(19,38): error CS1525: Invalid expression term 'else'\r\n(19,38): error CS1026: ) expected\r\n(19,38): error CS1525: Invalid expression term 'else'\r\n(19,38): error CS1002: ; expected\r\n(19,43): error CS1012: Too many characters in character literal\r\n(19,63): error CS1002: ; expected\r\n(19,63): error CS7017: Member definition, statement, or end-of-file expected",
          "output_type": "error",
          "traceback": [
            "(1,3): error CS1024: Preprocessor directive expected\r\n",
            "(2,1): error CS1011: Empty character literal\r\n",
            "(2,3): error CS1002: ; expected\r\n",
            "(2,3): error CS1010: Newline in constant\r\n",
            "(2,3): error CS1011: Empty character literal\r\n",
            "(2,4): error CS1002: ; expected\r\n",
            "(3,11): error CS1002: ; expected\r\n",
            "(3,27): error CS1002: ; expected\r\n",
            "(3,51): error CS1002: ; expected\r\n",
            "(3,68): error CS1002: ; expected\r\n",
            "(3,92): error CS1003: Syntax error, ',' expected\r\n",
            "(3,96): error CS1001: Identifier expected\r\n",
            "(3,97): error CS1002: ; expected\r\n",
            "(3,97): error CS7017: Member definition, statement, or end-of-file expected\r\n",
            "(3,110): error CS1002: ; expected\r\n",
            "(3,123): error CS1002: ; expected\r\n",
            "(3,123): error CS7017: Member definition, statement, or end-of-file expected\r\n",
            "(3,139): error CS1002: ; expected\r\n",
            "(3,142): error CS1002: ; expected\r\n",
            "(4,1): error CS1011: Empty character literal\r\n",
            "(4,3): error CS1002: ; expected\r\n",
            "(4,3): error CS1010: Newline in constant\r\n",
            "(4,3): error CS1011: Empty character literal\r\n",
            "(4,4): error CS1002: ; expected\r\n",
            "(6,14): error CS1002: ; expected\r\n",
            "(8,14): error CS1002: ; expected\r\n",
            "(10,8): error CS1001: Identifier expected\r\n",
            "(10,10): error CS1018: Keyword 'this' or 'base' expected\r\n",
            "(10,10): error CS1002: ; expected\r\n",
            "(11,29): error CS1002: ; expected\r\n",
            "(13,16): error CS1018: Keyword 'this' or 'base' expected\r\n",
            "(13,16): error CS1002: ; expected\r\n",
            "(14,26): error CS1012: Too many characters in character literal\r\n",
            "(14,31): error CS1002: ; expected\r\n",
            "(16,14): error CS1012: Too many characters in character literal\r\n",
            "(16,35): error CS1002: ; expected\r\n",
            "(17,17): error CS1002: ; expected\r\n",
            "(18,7): error CS1012: Too many characters in character literal\r\n",
            "(18,61): error CS1002: ; expected\r\n",
            "(19,7): error CS1012: Too many characters in character literal\r\n",
            "(19,23): error CS1026: ) expected\r\n",
            "(19,23): error CS1002: ; expected\r\n",
            "(19,26): error CS1003: Syntax error, '(' expected\r\n",
            "(19,38): error CS1026: ) expected\r\n",
            "(19,38): error CS8641: 'else' cannot start a statement.\r\n",
            "(19,38): error CS1003: Syntax error, '(' expected\r\n",
            "(19,38): error CS1525: Invalid expression term 'else'\r\n",
            "(19,38): error CS1026: ) expected\r\n",
            "(19,38): error CS1525: Invalid expression term 'else'\r\n",
            "(19,38): error CS1002: ; expected\r\n",
            "(19,43): error CS1012: Too many characters in character literal\r\n",
            "(19,63): error CS1002: ; expected\r\n",
            "(19,63): error CS7017: Member definition, statement, or end-of-file expected"
          ]
        }
      ],
      "source": [
        "# hadaszibalazs205 Rename p1hadaszi.pénzfeldobás.py to p1.pénzfeldobás.py\n",
        "'''\n",
        "A program a pénzfeldobást modellezi. Kérdezze meg a felhasználótól a választását (fej vagy írás), majd adjon tájékoztatást, hogy eltalálta-e!\n",
        "'''\n",
        "\n",
        "import random\n",
        "\n",
        "random.seed()\n",
        "\n",
        "def f(i):\n",
        "    print(\"%d. feladat\" % i)\n",
        "\n",
        "def egydobas():\n",
        "    return random.choice('FI')\n",
        "    \n",
        "tipp = input('Tippeljen! (F/I)= ')\n",
        "dob = egydobas()\n",
        "print('A tipp %s, a dobás eredménye %s volt.' % (tipp, dob))\n",
        "print('Ön eltalálta.' if tipp == dob else 'Ön nem találta el.')"
      ]
    },
    {
      "cell_type": "markdown",
      "metadata": {
        "dotnet_interactive": {
          "language": "csharp"
        },
        "polyglot_notebook": {
          "kernelName": "csharp"
        }
      },
      "source": [
        "---\n",
        "**Találd ki a számot**\n",
        "\n",
        "* Készíts egy rövid programot, amely 1 és 10 között generál véletlenszámot, \n",
        "* majd összehasonlítja ezt a felhasználó által megadott, szintén ebbe a tartományba eső számmal! \n",
        "* A bekérés addig folytatódjon ameddig a felhasználó nem ad meg negatív számot! * Az összehasonlítás eredményéről tájékoztassa a felhasználót!"
      ]
    },
    {
      "cell_type": "code",
      "execution_count": null,
      "metadata": {
        "id": "Nd_bZywtMCbQ"
      },
      "outputs": [
        {
          "ename": "Error",
          "evalue": "(1,3): error CS1024: Preprocessor directive expected\r\n(2,1): error CS1011: Empty character literal\r\n(2,3): error CS1002: ; expected\r\n(2,3): error CS1010: Newline in constant\r\n(2,3): error CS1011: Empty character literal\r\n(2,4): error CS1002: ; expected\r\n(3,13): error CS1002: ; expected\r\n(3,36): error CS1002: ; expected\r\n(3,38): error CS1002: ; expected\r\n(3,41): error CS1002: ; expected\r\n(3,44): error CS1002: ; expected\r\n(3,59): error CS1002: ; expected\r\n(3,73): error CS1002: ; expected\r\n(3,73): error CS7017: Member definition, statement, or end-of-file expected\r\n(3,96): error CS1002: ; expected\r\n(3,102): error CS1002: ; expected\r\n(3,120): error CS1002: ; expected\r\n(3,128): error CS1002: ; expected\r\n(3,128): error CS7017: Member definition, statement, or end-of-file expected\r\n(3,143): error CS1002: ; expected\r\n(3,157): error CS1002: ; expected\r\n(3,168): error CS1002: ; expected\r\n(3,172): error CS1002: ; expected\r\n(3,186): error CS1002: ; expected\r\n(3,207): error CS1002: ; expected\r\n(3,221): error CS1002: ; expected\r\n(3,228): error CS1002: ; expected\r\n(3,240): error CS1002: ; expected\r\n(3,248): error CS1002: ; expected\r\n(3,267): error CS1002: ; expected\r\n(3,293): error CS1002: ; expected\r\n(3,307): error CS1002: ; expected\r\n(4,1): error CS1011: Empty character literal\r\n(4,3): error CS1002: ; expected\r\n(4,3): error CS1010: Newline in constant\r\n(4,3): error CS1011: Empty character literal\r\n(4,4): error CS1002: ; expected\r\n(6,14): error CS1002: ; expected\r\n(8,32): error CS1002: ; expected\r\n(10,7): error CS1003: Syntax error, '(' expected\r\n(10,11): error CS1026: ) expected\r\n(10,11): error CS1525: Invalid expression term ':'\r\n(10,11): error CS1002: ; expected\r\n(10,11): error CS7017: Member definition, statement, or end-of-file expected\r\n(11,13): error CS1525: Invalid expression term 'int'\r\n(11,24): error CS1003: Syntax error, ',' expected\r\n(11,24): error CS1012: Too many characters in character literal\r\n(11,46): error CS1002: ; expected\r\n(12,8): error CS1003: Syntax error, '(' expected\r\n(12,24): error CS1026: ) expected\r\n(12,24): error CS1525: Invalid expression term ':'\r\n(12,24): error CS1002: ; expected\r\n(12,24): error CS7017: Member definition, statement, or end-of-file expected\r\n(13,16): error CS1003: Syntax error, ',' expected\r\n(13,16): error CS1012: Too many characters in character literal\r\n(13,29): error CS1002: ; expected\r\n(14,14): error CS1002: ; expected\r\n(14,14): error CS8641: 'else' cannot start a statement.\r\n(14,14): error CS1003: Syntax error, '(' expected\r\n(14,14): error CS1525: Invalid expression term 'else'\r\n(14,14): error CS1026: ) expected\r\n(14,14): error CS1525: Invalid expression term 'else'\r\n(14,14): error CS1002: ; expected\r\n(15,9): error CS1525: Invalid expression term ':'\r\n(15,9): error CS1002: ; expected\r\n(15,9): error CS7017: Member definition, statement, or end-of-file expected\r\n(16,14): error CS1003: Syntax error, ',' expected\r\n(16,14): error CS1012: Too many characters in character literal",
          "output_type": "error",
          "traceback": [
            "(1,3): error CS1024: Preprocessor directive expected\r\n",
            "(2,1): error CS1011: Empty character literal\r\n",
            "(2,3): error CS1002: ; expected\r\n",
            "(2,3): error CS1010: Newline in constant\r\n",
            "(2,3): error CS1011: Empty character literal\r\n",
            "(2,4): error CS1002: ; expected\r\n",
            "(3,13): error CS1002: ; expected\r\n",
            "(3,36): error CS1002: ; expected\r\n",
            "(3,38): error CS1002: ; expected\r\n",
            "(3,41): error CS1002: ; expected\r\n",
            "(3,44): error CS1002: ; expected\r\n",
            "(3,59): error CS1002: ; expected\r\n",
            "(3,73): error CS1002: ; expected\r\n",
            "(3,73): error CS7017: Member definition, statement, or end-of-file expected\r\n",
            "(3,96): error CS1002: ; expected\r\n",
            "(3,102): error CS1002: ; expected\r\n",
            "(3,120): error CS1002: ; expected\r\n",
            "(3,128): error CS1002: ; expected\r\n",
            "(3,128): error CS7017: Member definition, statement, or end-of-file expected\r\n",
            "(3,143): error CS1002: ; expected\r\n",
            "(3,157): error CS1002: ; expected\r\n",
            "(3,168): error CS1002: ; expected\r\n",
            "(3,172): error CS1002: ; expected\r\n",
            "(3,186): error CS1002: ; expected\r\n",
            "(3,207): error CS1002: ; expected\r\n",
            "(3,221): error CS1002: ; expected\r\n",
            "(3,228): error CS1002: ; expected\r\n",
            "(3,240): error CS1002: ; expected\r\n",
            "(3,248): error CS1002: ; expected\r\n",
            "(3,267): error CS1002: ; expected\r\n",
            "(3,293): error CS1002: ; expected\r\n",
            "(3,307): error CS1002: ; expected\r\n",
            "(4,1): error CS1011: Empty character literal\r\n",
            "(4,3): error CS1002: ; expected\r\n",
            "(4,3): error CS1010: Newline in constant\r\n",
            "(4,3): error CS1011: Empty character literal\r\n",
            "(4,4): error CS1002: ; expected\r\n",
            "(6,14): error CS1002: ; expected\r\n",
            "(8,32): error CS1002: ; expected\r\n",
            "(10,7): error CS1003: Syntax error, '(' expected\r\n",
            "(10,11): error CS1026: ) expected\r\n",
            "(10,11): error CS1525: Invalid expression term ':'\r\n",
            "(10,11): error CS1002: ; expected\r\n",
            "(10,11): error CS7017: Member definition, statement, or end-of-file expected\r\n",
            "(11,13): error CS1525: Invalid expression term 'int'\r\n",
            "(11,24): error CS1003: Syntax error, ',' expected\r\n",
            "(11,24): error CS1012: Too many characters in character literal\r\n",
            "(11,46): error CS1002: ; expected\r\n",
            "(12,8): error CS1003: Syntax error, '(' expected\r\n",
            "(12,24): error CS1026: ) expected\r\n",
            "(12,24): error CS1525: Invalid expression term ':'\r\n",
            "(12,24): error CS1002: ; expected\r\n",
            "(12,24): error CS7017: Member definition, statement, or end-of-file expected\r\n",
            "(13,16): error CS1003: Syntax error, ',' expected\r\n",
            "(13,16): error CS1012: Too many characters in character literal\r\n",
            "(13,29): error CS1002: ; expected\r\n",
            "(14,14): error CS1002: ; expected\r\n",
            "(14,14): error CS8641: 'else' cannot start a statement.\r\n",
            "(14,14): error CS1003: Syntax error, '(' expected\r\n",
            "(14,14): error CS1525: Invalid expression term 'else'\r\n",
            "(14,14): error CS1026: ) expected\r\n",
            "(14,14): error CS1525: Invalid expression term 'else'\r\n",
            "(14,14): error CS1002: ; expected\r\n",
            "(15,9): error CS1525: Invalid expression term ':'\r\n",
            "(15,9): error CS1002: ; expected\r\n",
            "(15,9): error CS7017: Member definition, statement, or end-of-file expected\r\n",
            "(16,14): error CS1003: Syntax error, ',' expected\r\n",
            "(16,14): error CS1012: Too many characters in character literal"
          ]
        }
      ],
      "source": [
        "# hadaszibalazs205 Create p1.véletlenszam.py\n",
        "'''\n",
        "Készíts egy rövid programot, amely 1 és 10 között generál véletlenszámot, majd összehasonlítja ezt a felhasználó által megadott, szintén ebbe a tartományba eső számmal! A bekérés addig folytatódjon ameddig a felhasználó nem ad meg negatív számot! Az összehasonlítás eredményéről tájékoztassa a felhasználót!\n",
        "'''\n",
        "\n",
        "import random\n",
        "\n",
        "general = random.randint(1, 10)\n",
        "\n",
        "while True:\n",
        "    beker = int(input(f'Kérek egy számot: '))\n",
        "    if beker == general:\n",
        "        print(f'Eltaláltad')\n",
        "        break    \n",
        "    else:\n",
        "      print(f'Nem találtad el')"
      ]
    },
    {
      "cell_type": "markdown",
      "metadata": {
        "dotnet_interactive": {
          "language": "csharp"
        },
        "polyglot_notebook": {
          "kernelName": "csharp"
        }
      },
      "source": [
        "---\n",
        "**FizzBuzz**\n",
        "\n",
        "* Hozzon létre egy számsorozatot 0-tól 100-ig,\n",
        "* ami 3-mal osztható annál írja ki, hogy 'Fizz'\n",
        "* ami 5-tel osztható annál írja ki, hogy 'Buzz'\n",
        "* ami 3-mal és 5-tel is osztható annál írja li, hogy 'FizzBuzz'\n",
        "* Ami se 3-mal se 5-tel nem osztható annál írjuk ki a magát a számot!\n",
        "\n",
        "```\n",
        "Minta: (az első 10 sor)\n",
        "FizzBuzz\n",
        "1\n",
        "2\n",
        "Fizz\n",
        "4\n",
        "Buzz\n",
        "Fizz\n",
        "7\n",
        "8\n",
        "Fizz\n",
        "Buzz\n",
        "```"
      ]
    },
    {
      "cell_type": "code",
      "execution_count": null,
      "metadata": {
        "id": "-tvMI6ygMJGQ"
      },
      "outputs": [
        {
          "ename": "Error",
          "evalue": "(1,3): error CS1024: Preprocessor directive expected\r\n(8,4): error CS1002: ; expected\r\n(10,34): error CS8997: Unterminated raw string literal.\r\n(10,34): error CS1002: ; expected\r\n(11,9): error CS1002: ; expected\r\n(12,2): error CS1002: ; expected\r\n(13,2): error CS1002: ; expected\r\n(14,5): error CS1002: ; expected\r\n(15,2): error CS1002: ; expected\r\n(17,5): error CS1002: ; expected\r\n(18,2): error CS1002: ; expected\r\n(19,2): error CS1002: ; expected\r\n(21,5): error CS1002: ; expected\r\n(38,1): error CS8997: Unterminated raw string literal.",
          "output_type": "error",
          "traceback": [
            "(1,3): error CS1024: Preprocessor directive expected\r\n",
            "(8,4): error CS1002: ; expected\r\n",
            "(10,34): error CS8997: Unterminated raw string literal.\r\n",
            "(10,34): error CS1002: ; expected\r\n",
            "(11,9): error CS1002: ; expected\r\n",
            "(12,2): error CS1002: ; expected\r\n",
            "(13,2): error CS1002: ; expected\r\n",
            "(14,5): error CS1002: ; expected\r\n",
            "(15,2): error CS1002: ; expected\r\n",
            "(17,5): error CS1002: ; expected\r\n",
            "(18,2): error CS1002: ; expected\r\n",
            "(19,2): error CS1002: ; expected\r\n",
            "(21,5): error CS1002: ; expected\r\n",
            "(38,1): error CS8997: Unterminated raw string literal."
          ]
        }
      ],
      "source": [
        "# loczylevi Create p1_fizzbuzz.py\n",
        "\"\"\"\n",
        "Hozzon létre egy számsorozatot 0-tól 100-ig,\n",
        "ami 3-mal osztható annál írja ki, hogy 'Fizz'\n",
        "ami 5-tel osztható annál írja ki, hogy 'Buzz'\n",
        "ami 3-mal és 5-tel is osztható annál írja li, hogy 'FizzBuzz'\n",
        "Ami se 3-mal se 5-tel nem osztható annál írjuk ki a magát a számot!\n",
        "\"\"\"\n",
        "\n",
        "\"\"\"Minta: (az első 10 sor output)\n",
        "FizzBuzz\n",
        "1\n",
        "2\n",
        "Fizz\n",
        "4\n",
        "Buzz\n",
        "Fizz\n",
        "7\n",
        "8\n",
        "Fizz\n",
        "Buzz\n",
        "\"\"\"\n",
        "\n",
        "\n",
        "#lehetséges megoldás\n",
        "\n",
        "for szam in range(101):\n",
        "  if szam % 3 == 0 and szam % 5 == 0:\n",
        "    print(\"FizzBuzz\")\n",
        "  elif szam % 3 == 0:\n",
        "    print(\"Fizz\")\n",
        "  elif szam % 5 == 0:\n",
        "    print(\"Buzz\")\n",
        "  else:\n",
        "    print(szam)\n",
        "© 2022 GitHub, Inc.\n",
        "Terms\n"
      ]
    },
    {
      "cell_type": "markdown",
      "metadata": {
        "dotnet_interactive": {
          "language": "csharp"
        },
        "polyglot_notebook": {
          "kernelName": "csharp"
        }
      },
      "source": [
        "---\n",
        "**Kisebb - nagyobb**\n",
        "\n",
        "* Kérjen be a felhasználotol két egész számot (int) és tárolja el őket. \n",
        "* írja ki, hogy melyik a nagyobb és melyik a kisebb szám! \n",
        "* Ha két szám egyenlő, akkor azt is jelezze!\n",
        "```\n",
        "Minta:\n",
        "Kérem az első számot: 12\n",
        "Kérem az második számot: 3\n",
        "A nagyobb szám 12, a kisebb 3.\n",
        "\n",
        "Kérem az első számot: -1\n",
        "Kérem az második számot: 16\n",
        "A nagyobb szám 16, a kisebb -1.\n",
        "\n",
        "Kérem az első számot: 8\n",
        "Kérem az második számot: 8\n",
        "A két szám egyenlő.\n",
        "```"
      ]
    },
    {
      "cell_type": "code",
      "execution_count": null,
      "metadata": {
        "id": "KtGrky-BMQM9"
      },
      "outputs": [
        {
          "ename": "Error",
          "evalue": "(1,3): error CS1024: Preprocessor directive expected\r\n(17,4): error CS1002: ; expected\r\n(19,3): error CS1024: Preprocessor directive expected\r\n(21,5): error CS1525: Invalid expression term 'int'\r\n(21,15): error CS1012: Too many characters in character literal\r\n(21,41): error CS1002: ; expected\r\n(22,5): error CS1525: Invalid expression term 'int'\r\n(22,15): error CS1012: Too many characters in character literal\r\n(22,44): error CS1002: ; expected\r\n(23,4): error CS1003: Syntax error, '(' expected\r\n(23,9): error CS1026: ) expected\r\n(23,9): error CS1525: Invalid expression term ':'\r\n(23,9): error CS1002: ; expected\r\n(23,9): error CS7017: Member definition, statement, or end-of-file expected\r\n(24,12): error CS1003: Syntax error, ',' expected\r\n(24,47): error CS1002: ; expected\r\n(25,8): error CS1002: ; expected\r\n(25,8): error CS1525: Invalid expression term '>'\r\n(25,11): error CS1002: ; expected\r\n(25,11): error CS7017: Member definition, statement, or end-of-file expected\r\n(26,12): error CS1003: Syntax error, ',' expected\r\n(26,47): error CS1002: ; expected\r\n(26,47): error CS8641: 'else' cannot start a statement.\r\n(26,47): error CS1003: Syntax error, '(' expected\r\n(26,47): error CS1525: Invalid expression term 'else'\r\n(26,47): error CS1026: ) expected\r\n(26,47): error CS1525: Invalid expression term 'else'\r\n(26,47): error CS1002: ; expected\r\n(27,5): error CS1525: Invalid expression term ':'\r\n(27,5): error CS1002: ; expected\r\n(27,5): error CS7017: Member definition, statement, or end-of-file expected\r\n(28,11): error CS1012: Too many characters in character literal",
          "output_type": "error",
          "traceback": [
            "(1,3): error CS1024: Preprocessor directive expected\r\n",
            "(17,4): error CS1002: ; expected\r\n",
            "(19,3): error CS1024: Preprocessor directive expected\r\n",
            "(21,5): error CS1525: Invalid expression term 'int'\r\n",
            "(21,15): error CS1012: Too many characters in character literal\r\n",
            "(21,41): error CS1002: ; expected\r\n",
            "(22,5): error CS1525: Invalid expression term 'int'\r\n",
            "(22,15): error CS1012: Too many characters in character literal\r\n",
            "(22,44): error CS1002: ; expected\r\n",
            "(23,4): error CS1003: Syntax error, '(' expected\r\n",
            "(23,9): error CS1026: ) expected\r\n",
            "(23,9): error CS1525: Invalid expression term ':'\r\n",
            "(23,9): error CS1002: ; expected\r\n",
            "(23,9): error CS7017: Member definition, statement, or end-of-file expected\r\n",
            "(24,12): error CS1003: Syntax error, ',' expected\r\n",
            "(24,47): error CS1002: ; expected\r\n",
            "(25,8): error CS1002: ; expected\r\n",
            "(25,8): error CS1525: Invalid expression term '>'\r\n",
            "(25,11): error CS1002: ; expected\r\n",
            "(25,11): error CS7017: Member definition, statement, or end-of-file expected\r\n",
            "(26,12): error CS1003: Syntax error, ',' expected\r\n",
            "(26,47): error CS1002: ; expected\r\n",
            "(26,47): error CS8641: 'else' cannot start a statement.\r\n",
            "(26,47): error CS1003: Syntax error, '(' expected\r\n",
            "(26,47): error CS1525: Invalid expression term 'else'\r\n",
            "(26,47): error CS1026: ) expected\r\n",
            "(26,47): error CS1525: Invalid expression term 'else'\r\n",
            "(26,47): error CS1002: ; expected\r\n",
            "(27,5): error CS1525: Invalid expression term ':'\r\n",
            "(27,5): error CS1002: ; expected\r\n",
            "(27,5): error CS7017: Member definition, statement, or end-of-file expected\r\n",
            "(28,11): error CS1012: Too many characters in character literal"
          ]
        }
      ],
      "source": [
        "# loczylevi Create p1_kisebb_nagyobb.py\n",
        "\"\"\"\n",
        "Kérjen be a felhasználotol két egész számot (int) és tárolja el őket. írja ki, hogy melyik a nagyobb és melyik a kisebb szám! Ha két szám egyenlő, akkor azt is jelezze!\n",
        "Minta:\n",
        "Kisebb-nagyobb meghatározása\n",
        "Kérem az első számot: 12\n",
        "Kérem az második számot: 3\n",
        "A nagyobb szám 12, a kisebb 3.\n",
        "\n",
        "Kérem az első számot: -1\n",
        "Kérem az második számot: 16\n",
        "A nagyobb szám 16, a kisebb -1.\n",
        "\n",
        "Kérem az első számot: 8\n",
        "Kérem az második számot: 8\n",
        "A két szám egyenlő.\n",
        "\"\"\"\n",
        "\n",
        "# lehetséges megoldás\n",
        "\n",
        "a = int(input('Kérem az első számot: '))\n",
        "b = int(input('Kérem az második számot: '))\n",
        "if a > b:\n",
        "    print(f\"A nagyobb szám {a}, a kisebb {b}\")\n",
        "elif b > a:\n",
        "    print(f\"A nagyobb szám {b}, a kisebb {a}\")\n",
        "else:\n",
        "    print('A két szám egyenlő.')"
      ]
    },
    {
      "cell_type": "markdown",
      "metadata": {
        "dotnet_interactive": {
          "language": "csharp"
        },
        "polyglot_notebook": {
          "kernelName": "csharp"
        }
      },
      "source": [
        "---\n",
        "**A páros számok száma**\n",
        "\n",
        "* Készíts egy programot, amely [1;10] intervallumon generál 5 darab véletlen egész számot \n",
        "* és ezeket tárolja el egy listában! \n",
        "* A program számolja össze és írja ki a képernyőre a \n",
        "listában tárolt páros számok számát, \n",
        "* valamint a lista elemeit! "
      ]
    },
    {
      "cell_type": "code",
      "execution_count": null,
      "metadata": {
        "id": "qmzH_C1dMYXH"
      },
      "outputs": [
        {
          "ename": "Error",
          "evalue": "(1,3): error CS1024: Preprocessor directive expected\r\n(2,1): error CS1011: Empty character literal\r\n(2,3): error CS1002: ; expected\r\n(2,3): error CS1010: Newline in constant\r\n(2,5): error CS1002: ; expected\r\n(3,13): error CS1002: ; expected\r\n(3,22): error CS1002: ; expected\r\n(3,22): error CS7017: Member definition, statement, or end-of-file expected\r\n(3,32): error CS1003: Syntax error, ']' expected\r\n(3,35): error CS1002: ; expected\r\n(3,35): error CS7017: Member definition, statement, or end-of-file expected\r\n(3,59): error CS1002: ; expected\r\n(3,61): error CS1002: ; expected\r\n(3,76): error CS1002: ; expected\r\n(3,88): error CS1002: ; expected\r\n(4,11): error CS1002: ; expected\r\n(4,22): error CS1002: ; expected\r\n(4,34): error CS1002: ; expected\r\n(5,3): error CS1002: ; expected\r\n(5,20): error CS1002: ; expected\r\n(5,29): error CS1002: ; expected\r\n(5,37): error CS1002: ; expected\r\n(5,50): error CS1002: ; expected\r\n(6,10): error CS1002: ; expected\r\n(6,23): error CS1002: ; expected\r\n(6,38): error CS1044: Cannot use more than one type in a for, using, fixed, or declaration statement\r\n(6,47): error CS1002: ; expected\r\n(6,55): error CS1002: ; expected\r\n(6,63): error CS1002: ; expected\r\n(7,1): error CS1011: Empty character literal\r\n(7,3): error CS1002: ; expected\r\n(7,3): error CS1010: Newline in constant\r\n(7,3): error CS1011: Empty character literal\r\n(7,4): error CS1002: ; expected\r\n(9,2): error CS1024: Preprocessor directive expected\r\n(11,14): error CS1002: ; expected\r\n(13,9): error CS1525: Invalid expression term '['\r\n(13,31): error CS1003: Syntax error, ']' expected\r\n(13,31): error CS1002: ; expected\r\n(13,35): error CS1003: Syntax error, '(' expected\r\n(13,37): error CS1003: Syntax error, ',' expected\r\n(13,40): error CS1003: Syntax error, ',' expected\r\n(13,48): error CS1003: Syntax error, ',' expected\r\n(13,49): error CS1003: Syntax error, ',' expected\r\n(15,14): error CS1525: Invalid expression term '['\r\n(15,17): error CS1003: Syntax error, ']' expected\r\n(15,17): error CS1002: ; expected\r\n(15,17): error CS1525: Invalid expression term 'for'\r\n(15,17): error CS1002: ; expected\r\n(15,17): error CS1026: ) expected\r\n(15,21): error CS1003: Syntax error, '(' expected\r\n(15,23): error CS1003: Syntax error, ',' expected\r\n(15,26): error CS1003: Syntax error, ',' expected\r\n(15,32): error CS1002: ; expected\r\n(15,32): error CS1525: Invalid expression term 'if'\r\n(15,32): error CS1002: ; expected\r\n(15,32): error CS1026: ) expected\r\n(15,35): error CS1003: Syntax error, '(' expected\r\n(15,45): error CS1026: ) expected\r\n(15,45): error CS1525: Invalid expression term ']'\r\n(15,45): error CS1002: ; expected\r\n(15,45): error CS7017: Member definition, statement, or end-of-file expected\r\n(17,13): error CS1002: ; expected\r\n(18,8): error CS1003: Syntax error, ',' expected\r\n(18,49): error CS1002: ; expected",
          "output_type": "error",
          "traceback": [
            "(1,3): error CS1024: Preprocessor directive expected\r\n",
            "(2,1): error CS1011: Empty character literal\r\n",
            "(2,3): error CS1002: ; expected\r\n",
            "(2,3): error CS1010: Newline in constant\r\n",
            "(2,5): error CS1002: ; expected\r\n",
            "(3,13): error CS1002: ; expected\r\n",
            "(3,22): error CS1002: ; expected\r\n",
            "(3,22): error CS7017: Member definition, statement, or end-of-file expected\r\n",
            "(3,32): error CS1003: Syntax error, ']' expected\r\n",
            "(3,35): error CS1002: ; expected\r\n",
            "(3,35): error CS7017: Member definition, statement, or end-of-file expected\r\n",
            "(3,59): error CS1002: ; expected\r\n",
            "(3,61): error CS1002: ; expected\r\n",
            "(3,76): error CS1002: ; expected\r\n",
            "(3,88): error CS1002: ; expected\r\n",
            "(4,11): error CS1002: ; expected\r\n",
            "(4,22): error CS1002: ; expected\r\n",
            "(4,34): error CS1002: ; expected\r\n",
            "(5,3): error CS1002: ; expected\r\n",
            "(5,20): error CS1002: ; expected\r\n",
            "(5,29): error CS1002: ; expected\r\n",
            "(5,37): error CS1002: ; expected\r\n",
            "(5,50): error CS1002: ; expected\r\n",
            "(6,10): error CS1002: ; expected\r\n",
            "(6,23): error CS1002: ; expected\r\n",
            "(6,38): error CS1044: Cannot use more than one type in a for, using, fixed, or declaration statement\r\n",
            "(6,47): error CS1002: ; expected\r\n",
            "(6,55): error CS1002: ; expected\r\n",
            "(6,63): error CS1002: ; expected\r\n",
            "(7,1): error CS1011: Empty character literal\r\n",
            "(7,3): error CS1002: ; expected\r\n",
            "(7,3): error CS1010: Newline in constant\r\n",
            "(7,3): error CS1011: Empty character literal\r\n",
            "(7,4): error CS1002: ; expected\r\n",
            "(9,2): error CS1024: Preprocessor directive expected\r\n",
            "(11,14): error CS1002: ; expected\r\n",
            "(13,9): error CS1525: Invalid expression term '['\r\n",
            "(13,31): error CS1003: Syntax error, ']' expected\r\n",
            "(13,31): error CS1002: ; expected\r\n",
            "(13,35): error CS1003: Syntax error, '(' expected\r\n",
            "(13,37): error CS1003: Syntax error, ',' expected\r\n",
            "(13,40): error CS1003: Syntax error, ',' expected\r\n",
            "(13,48): error CS1003: Syntax error, ',' expected\r\n",
            "(13,49): error CS1003: Syntax error, ',' expected\r\n",
            "(15,14): error CS1525: Invalid expression term '['\r\n",
            "(15,17): error CS1003: Syntax error, ']' expected\r\n",
            "(15,17): error CS1002: ; expected\r\n",
            "(15,17): error CS1525: Invalid expression term 'for'\r\n",
            "(15,17): error CS1002: ; expected\r\n",
            "(15,17): error CS1026: ) expected\r\n",
            "(15,21): error CS1003: Syntax error, '(' expected\r\n",
            "(15,23): error CS1003: Syntax error, ',' expected\r\n",
            "(15,26): error CS1003: Syntax error, ',' expected\r\n",
            "(15,32): error CS1002: ; expected\r\n",
            "(15,32): error CS1525: Invalid expression term 'if'\r\n",
            "(15,32): error CS1002: ; expected\r\n",
            "(15,32): error CS1026: ) expected\r\n",
            "(15,35): error CS1003: Syntax error, '(' expected\r\n",
            "(15,45): error CS1026: ) expected\r\n",
            "(15,45): error CS1525: Invalid expression term ']'\r\n",
            "(15,45): error CS1002: ; expected\r\n",
            "(15,45): error CS7017: Member definition, statement, or end-of-file expected\r\n",
            "(17,13): error CS1002: ; expected\r\n",
            "(18,8): error CS1003: Syntax error, ',' expected\r\n",
            "(18,49): error CS1002: ; expected"
          ]
        }
      ],
      "source": [
        "# violetta2413 Rename p1violetta_002.py to paros_szamok.py\n",
        "''' \n",
        "Készíts egy programot, amely [1;10] intervallumon generál 5 darab véletlen egész számot \n",
        "és ezeket tárolja el egy listában! \n",
        "A program számolja össze és írja ki a képernyőre a \n",
        "listában tárolt páros számok számát, valamint a lista elemeit! \n",
        "'''\n",
        "\n",
        "#megoldás\n",
        "\n",
        "import random\n",
        "\n",
        "lista = [random.randint(1,10) for i in range(5)]\n",
        "\n",
        "paroslista = [i for i in lista if i % 2 == 0]\n",
        "\n",
        "print(lista)\n",
        "print(f\"A páros számok száma:{len(paroslista)}\")\n",
        "print(paroslista)"
      ]
    },
    {
      "cell_type": "markdown",
      "metadata": {
        "dotnet_interactive": {
          "language": "csharp"
        },
        "polyglot_notebook": {
          "kernelName": "csharp"
        }
      },
      "source": [
        "---\n",
        "**A páros számok száma**\n",
        "\n",
        "* Készíts egy programot, amely [1;10] intervallumon generál 5 darab véletlen egész számot \n",
        "* és ezeket tárolja el egy listában! \n",
        "* A program számolja össze és írja ki a képernyőre a \n",
        "listában tárolt páros számok számát, \n",
        "* valamint a lista elemeit! "
      ]
    },
    {
      "cell_type": "code",
      "execution_count": null,
      "metadata": {
        "id": "eBGM3v2sMfA-"
      },
      "outputs": [
        {
          "ename": "Error",
          "evalue": "(1,3): error CS1024: Preprocessor directive expected\r\n(2,1): error CS1011: Empty character literal\r\n(2,3): error CS1002: ; expected\r\n(2,3): error CS1010: Newline in constant\r\n(2,3): error CS1011: Empty character literal\r\n(2,4): error CS1002: ; expected\r\n(3,13): error CS1002: ; expected\r\n(3,22): error CS1002: ; expected\r\n(3,22): error CS7017: Member definition, statement, or end-of-file expected\r\n(3,32): error CS1003: Syntax error, ']' expected\r\n(3,35): error CS1002: ; expected\r\n(3,35): error CS7017: Member definition, statement, or end-of-file expected\r\n(3,59): error CS1002: ; expected\r\n(3,61): error CS1002: ; expected\r\n(3,76): error CS1002: ; expected\r\n(3,88): error CS1002: ; expected\r\n(4,11): error CS1002: ; expected\r\n(4,22): error CS1002: ; expected\r\n(4,34): error CS1002: ; expected\r\n(5,3): error CS1002: ; expected\r\n(5,20): error CS1002: ; expected\r\n(5,25): error CS1002: ; expected\r\n(5,25): error CS7017: Member definition, statement, or end-of-file expected\r\n(5,41): error CS1002: ; expected\r\n(5,49): error CS1002: ; expected\r\n(5,60): error CS1002: ; expected\r\n(5,73): error CS1002: ; expected\r\n(5,88): error CS1044: Cannot use more than one type in a for, using, fixed, or declaration statement\r\n(5,97): error CS1002: ; expected\r\n(5,105): error CS1002: ; expected\r\n(5,113): error CS1002: ; expected\r\n(6,1): error CS1011: Empty character literal\r\n(6,3): error CS1002: ; expected\r\n(6,3): error CS1010: Newline in constant\r\n(6,3): error CS1011: Empty character literal\r\n(6,4): error CS1002: ; expected\r\n(7,14): error CS1002: ; expected\r\n(8,9): error CS1525: Invalid expression term '['\r\n(8,10): error CS0443: Syntax error; value expected\r\n(8,11): error CS1002: ; expected\r\n(9,9): error CS1525: Invalid expression term '['\r\n(9,10): error CS0443: Syntax error; value expected\r\n(9,11): error CS1002: ; expected\r\n(11,5): error CS1003: Syntax error, '(' expected\r\n(11,7): error CS1003: Syntax error, ',' expected\r\n(11,10): error CS1003: Syntax error, ',' expected\r\n(11,18): error CS1003: Syntax error, ',' expected\r\n(11,19): error CS1003: Syntax error, ',' expected\r\n(12,28): error CS1003: Syntax error, ',' expected\r\n(13,18): error CS1002: ; expected\r\n(13,18): error CS1525: Invalid expression term 'for'\r\n(13,18): error CS1002: ; expected\r\n(13,18): error CS1026: ) expected\r\n(15,5): error CS1003: Syntax error, '(' expected\r\n(15,10): error CS1003: Syntax error, ',' expected\r\n(15,13): error CS1003: Syntax error, ',' expected\r\n(15,18): error CS1003: Syntax error, ',' expected\r\n(15,19): error CS1002: ; expected\r\n(15,19): error CS1525: Invalid expression term 'if'\r\n(15,19): error CS1002: ; expected\r\n(15,19): error CS1026: ) expected\r\n(16,6): error CS1003: Syntax error, '(' expected\r\n(16,19): error CS1026: ) expected\r\n(16,19): error CS1525: Invalid expression term ':'\r\n(16,19): error CS1002: ; expected\r\n(16,19): error CS7017: Member definition, statement, or end-of-file expected\r\n(17,23): error CS1002: ; expected\r\n(19,8): error CS1003: Syntax error, ',' expected\r\n(19,43): error CS1002: ; expected\r\n(20,8): error CS1003: Syntax error, ',' expected",
          "output_type": "error",
          "traceback": [
            "(1,3): error CS1024: Preprocessor directive expected\r\n",
            "(2,1): error CS1011: Empty character literal\r\n",
            "(2,3): error CS1002: ; expected\r\n",
            "(2,3): error CS1010: Newline in constant\r\n",
            "(2,3): error CS1011: Empty character literal\r\n",
            "(2,4): error CS1002: ; expected\r\n",
            "(3,13): error CS1002: ; expected\r\n",
            "(3,22): error CS1002: ; expected\r\n",
            "(3,22): error CS7017: Member definition, statement, or end-of-file expected\r\n",
            "(3,32): error CS1003: Syntax error, ']' expected\r\n",
            "(3,35): error CS1002: ; expected\r\n",
            "(3,35): error CS7017: Member definition, statement, or end-of-file expected\r\n",
            "(3,59): error CS1002: ; expected\r\n",
            "(3,61): error CS1002: ; expected\r\n",
            "(3,76): error CS1002: ; expected\r\n",
            "(3,88): error CS1002: ; expected\r\n",
            "(4,11): error CS1002: ; expected\r\n",
            "(4,22): error CS1002: ; expected\r\n",
            "(4,34): error CS1002: ; expected\r\n",
            "(5,3): error CS1002: ; expected\r\n",
            "(5,20): error CS1002: ; expected\r\n",
            "(5,25): error CS1002: ; expected\r\n",
            "(5,25): error CS7017: Member definition, statement, or end-of-file expected\r\n",
            "(5,41): error CS1002: ; expected\r\n",
            "(5,49): error CS1002: ; expected\r\n",
            "(5,60): error CS1002: ; expected\r\n",
            "(5,73): error CS1002: ; expected\r\n",
            "(5,88): error CS1044: Cannot use more than one type in a for, using, fixed, or declaration statement\r\n",
            "(5,97): error CS1002: ; expected\r\n",
            "(5,105): error CS1002: ; expected\r\n",
            "(5,113): error CS1002: ; expected\r\n",
            "(6,1): error CS1011: Empty character literal\r\n",
            "(6,3): error CS1002: ; expected\r\n",
            "(6,3): error CS1010: Newline in constant\r\n",
            "(6,3): error CS1011: Empty character literal\r\n",
            "(6,4): error CS1002: ; expected\r\n",
            "(7,14): error CS1002: ; expected\r\n",
            "(8,9): error CS1525: Invalid expression term '['\r\n",
            "(8,10): error CS0443: Syntax error; value expected\r\n",
            "(8,11): error CS1002: ; expected\r\n",
            "(9,9): error CS1525: Invalid expression term '['\r\n",
            "(9,10): error CS0443: Syntax error; value expected\r\n",
            "(9,11): error CS1002: ; expected\r\n",
            "(11,5): error CS1003: Syntax error, '(' expected\r\n",
            "(11,7): error CS1003: Syntax error, ',' expected\r\n",
            "(11,10): error CS1003: Syntax error, ',' expected\r\n",
            "(11,18): error CS1003: Syntax error, ',' expected\r\n",
            "(11,19): error CS1003: Syntax error, ',' expected\r\n",
            "(12,28): error CS1003: Syntax error, ',' expected\r\n",
            "(13,18): error CS1002: ; expected\r\n",
            "(13,18): error CS1525: Invalid expression term 'for'\r\n",
            "(13,18): error CS1002: ; expected\r\n",
            "(13,18): error CS1026: ) expected\r\n",
            "(15,5): error CS1003: Syntax error, '(' expected\r\n",
            "(15,10): error CS1003: Syntax error, ',' expected\r\n",
            "(15,13): error CS1003: Syntax error, ',' expected\r\n",
            "(15,18): error CS1003: Syntax error, ',' expected\r\n",
            "(15,19): error CS1002: ; expected\r\n",
            "(15,19): error CS1525: Invalid expression term 'if'\r\n",
            "(15,19): error CS1002: ; expected\r\n",
            "(15,19): error CS1026: ) expected\r\n",
            "(16,6): error CS1003: Syntax error, '(' expected\r\n",
            "(16,19): error CS1026: ) expected\r\n",
            "(16,19): error CS1525: Invalid expression term ':'\r\n",
            "(16,19): error CS1002: ; expected\r\n",
            "(16,19): error CS7017: Member definition, statement, or end-of-file expected\r\n",
            "(17,23): error CS1002: ; expected\r\n",
            "(19,8): error CS1003: Syntax error, ',' expected\r\n",
            "(19,43): error CS1002: ; expected\r\n",
            "(20,8): error CS1003: Syntax error, ',' expected"
          ]
        }
      ],
      "source": [
        "# loczylevi Rename p1noel_005 to paros_szamok2.py\n",
        "'''\n",
        "Készíts egy programot, amely [1;10] intervallumon generál 5 darab véletlen egész számot \n",
        "és ezeket tárolja el egy listában!\n",
        "A program számolja össze, és képernyőre írja ki a listában tárolt páros számok számát, valamint a lista elemeit!\n",
        "'''\n",
        "import random\n",
        "lista = []\n",
        "paros = []\n",
        "\n",
        "for i in range(5):\n",
        "  a = random.randint(1, 10)\n",
        "  lista.append(a)\n",
        "\n",
        "for szam in lista:\n",
        "  if szam % 2 == 0:\n",
        "    paros.append(szam)\n",
        "\n",
        "print(f\"Páros számok száma: {len(paros)}\")\n",
        "print(f\"A lista elemei: {lista}\")"
      ]
    },
    {
      "cell_type": "markdown",
      "metadata": {
        "dotnet_interactive": {
          "language": "csharp"
        },
        "polyglot_notebook": {
          "kernelName": "csharp"
        }
      },
      "source": [
        "---\n",
        "**A lista hárommal oszható számai**\n",
        "\n",
        "* A lista [120, 9, 5, 24, 6, 17, -45, 92, 15, 48, 57] elemei közül a program kiírja a 3-mal osztható páros számokat!\n"
      ]
    },
    {
      "cell_type": "code",
      "execution_count": null,
      "metadata": {
        "id": "PfJbnQXCMmoc"
      },
      "outputs": [
        {
          "ename": "Error",
          "evalue": "(1,3): error CS1024: Preprocessor directive expected\r\n(2,1): error CS1011: Empty character literal\r\n(2,3): error CS1002: ; expected\r\n(2,3): error CS1010: Newline in constant\r\n(2,3): error CS1011: Empty character literal\r\n(2,4): error CS1002: ; expected\r\n(3,9): error CS0650: Bad array declarator: To declare a managed array the rank specifier precedes the variable's identifier. To declare a fixed size buffer field, use the fixed keyword before the field type.\r\n(3,10): error CS0270: Array size cannot be specified in a variable declaration (try initializing with a 'new' expression)\r\n(3,15): error CS0270: Array size cannot be specified in a variable declaration (try initializing with a 'new' expression)\r\n(3,18): error CS0270: Array size cannot be specified in a variable declaration (try initializing with a 'new' expression)\r\n(3,21): error CS0270: Array size cannot be specified in a variable declaration (try initializing with a 'new' expression)\r\n(3,25): error CS0270: Array size cannot be specified in a variable declaration (try initializing with a 'new' expression)\r\n(3,28): error CS0270: Array size cannot be specified in a variable declaration (try initializing with a 'new' expression)\r\n(3,32): error CS0270: Array size cannot be specified in a variable declaration (try initializing with a 'new' expression)\r\n(3,37): error CS0270: Array size cannot be specified in a variable declaration (try initializing with a 'new' expression)\r\n(3,41): error CS0270: Array size cannot be specified in a variable declaration (try initializing with a 'new' expression)\r\n(3,45): error CS0270: Array size cannot be specified in a variable declaration (try initializing with a 'new' expression)\r\n(3,49): error CS0270: Array size cannot be specified in a variable declaration (try initializing with a 'new' expression)\r\n(3,53): error CS1002: ; expected\r\n(3,66): error CS1002: ; expected\r\n(3,76): error CS1002: ; expected\r\n(3,85): error CS1002: ; expected\r\n(3,91): error CS1002: ; expected\r\n(3,106): error CS1002: ; expected\r\n(3,115): error CS1002: ; expected\r\n(4,1): error CS1011: Empty character literal\r\n(4,3): error CS1002: ; expected\r\n(4,3): error CS1010: Newline in constant\r\n(4,3): error CS1011: Empty character literal\r\n(4,4): error CS1002: ; expected\r\n(7,10): error CS1525: Invalid expression term '['\r\n(7,53): error CS1002: ; expected\r\n(9,5): error CS1003: Syntax error, '(' expected\r\n(9,10): error CS1003: Syntax error, ',' expected\r\n(9,13): error CS1003: Syntax error, ',' expected\r\n(9,19): error CS1003: Syntax error, ',' expected\r\n(9,20): error CS1002: ; expected\r\n(9,20): error CS1525: Invalid expression term 'if'\r\n(9,20): error CS1002: ; expected\r\n(9,20): error CS1026: ) expected\r\n(10,8): error CS1003: Syntax error, '(' expected\r\n(10,22): error CS1026: ) expected\r\n(10,31): error CS1002: ; expected\r\n(10,31): error CS1525: Invalid expression term '>'\r\n(10,34): error CS1002: ; expected\r\n(10,34): error CS7017: Member definition, statement, or end-of-file expected",
          "output_type": "error",
          "traceback": [
            "(1,3): error CS1024: Preprocessor directive expected\r\n",
            "(2,1): error CS1011: Empty character literal\r\n",
            "(2,3): error CS1002: ; expected\r\n",
            "(2,3): error CS1010: Newline in constant\r\n",
            "(2,3): error CS1011: Empty character literal\r\n",
            "(2,4): error CS1002: ; expected\r\n",
            "(3,9): error CS0650: Bad array declarator: To declare a managed array the rank specifier precedes the variable's identifier. To declare a fixed size buffer field, use the fixed keyword before the field type.\r\n",
            "(3,10): error CS0270: Array size cannot be specified in a variable declaration (try initializing with a 'new' expression)\r\n",
            "(3,15): error CS0270: Array size cannot be specified in a variable declaration (try initializing with a 'new' expression)\r\n",
            "(3,18): error CS0270: Array size cannot be specified in a variable declaration (try initializing with a 'new' expression)\r\n",
            "(3,21): error CS0270: Array size cannot be specified in a variable declaration (try initializing with a 'new' expression)\r\n",
            "(3,25): error CS0270: Array size cannot be specified in a variable declaration (try initializing with a 'new' expression)\r\n",
            "(3,28): error CS0270: Array size cannot be specified in a variable declaration (try initializing with a 'new' expression)\r\n",
            "(3,32): error CS0270: Array size cannot be specified in a variable declaration (try initializing with a 'new' expression)\r\n",
            "(3,37): error CS0270: Array size cannot be specified in a variable declaration (try initializing with a 'new' expression)\r\n",
            "(3,41): error CS0270: Array size cannot be specified in a variable declaration (try initializing with a 'new' expression)\r\n",
            "(3,45): error CS0270: Array size cannot be specified in a variable declaration (try initializing with a 'new' expression)\r\n",
            "(3,49): error CS0270: Array size cannot be specified in a variable declaration (try initializing with a 'new' expression)\r\n",
            "(3,53): error CS1002: ; expected\r\n",
            "(3,66): error CS1002: ; expected\r\n",
            "(3,76): error CS1002: ; expected\r\n",
            "(3,85): error CS1002: ; expected\r\n",
            "(3,91): error CS1002: ; expected\r\n",
            "(3,106): error CS1002: ; expected\r\n",
            "(3,115): error CS1002: ; expected\r\n",
            "(4,1): error CS1011: Empty character literal\r\n",
            "(4,3): error CS1002: ; expected\r\n",
            "(4,3): error CS1010: Newline in constant\r\n",
            "(4,3): error CS1011: Empty character literal\r\n",
            "(4,4): error CS1002: ; expected\r\n",
            "(7,10): error CS1525: Invalid expression term '['\r\n",
            "(7,53): error CS1002: ; expected\r\n",
            "(9,5): error CS1003: Syntax error, '(' expected\r\n",
            "(9,10): error CS1003: Syntax error, ',' expected\r\n",
            "(9,13): error CS1003: Syntax error, ',' expected\r\n",
            "(9,19): error CS1003: Syntax error, ',' expected\r\n",
            "(9,20): error CS1002: ; expected\r\n",
            "(9,20): error CS1525: Invalid expression term 'if'\r\n",
            "(9,20): error CS1002: ; expected\r\n",
            "(9,20): error CS1026: ) expected\r\n",
            "(10,8): error CS1003: Syntax error, '(' expected\r\n",
            "(10,22): error CS1026: ) expected\r\n",
            "(10,31): error CS1002: ; expected\r\n",
            "(10,31): error CS1525: Invalid expression term '>'\r\n",
            "(10,34): error CS1002: ; expected\r\n",
            "(10,34): error CS7017: Member definition, statement, or end-of-file expected"
          ]
        }
      ],
      "source": [
        "# ZamArtem Rename p1.feladatk.attila2 to parosharom.py\n",
        "'''\n",
        "A lista [120, 9, 5, 24, 6, 17, -45, 92, 15, 48, 57] elemei közül a program kiírja a 3-mal osztható páros számokat!\n",
        "'''\n",
        "megoldás:\n",
        "\n",
        "szamok = [120, 9, 5, 24, 6, 17, -45, 92, 15, 48, 57]\n",
        "\n",
        "for szam in szamok:\n",
        "    if szam % 6 == 0 and szam > 0:\n",
        "        print(szam)"
      ]
    },
    {
      "cell_type": "markdown",
      "metadata": {
        "dotnet_interactive": {
          "language": "csharp"
        },
        "polyglot_notebook": {
          "kernelName": "csharp"
        }
      },
      "source": [
        "---\n",
        "**A lista legkisebb és legnagyobb eleme**\n",
        "\n",
        "* A lista [120, 9, 5, 24, 6, 17, -45, 92, 15, 48, 57] elemei közül a program kiírja a 3-mal osztható páros számokat!\n"
      ]
    },
    {
      "cell_type": "code",
      "execution_count": null,
      "metadata": {
        "id": "hOhfa5WVMtVT"
      },
      "outputs": [
        {
          "ename": "Error",
          "evalue": "(1,3): error CS1024: Preprocessor directive expected\r\n(2,1): error CS1011: Empty character literal\r\n(2,3): error CS1002: ; expected\r\n(2,3): error CS1010: Newline in constant\r\n(2,3): error CS1011: Empty character literal\r\n(2,4): error CS1002: ; expected\r\n(3,13): error CS1002: ; expected\r\n(3,22): error CS1002: ; expected\r\n(3,22): error CS7017: Member definition, statement, or end-of-file expected\r\n(3,32): error CS1002: ; expected\r\n(3,56): error CS1002: ; expected\r\n(3,63): error CS1002: ; expected\r\n(3,72): error CS1002: ; expected\r\n(3,72): error CS7017: Member definition, statement, or end-of-file expected\r\n(3,82): error CS1002: ; expected\r\n(3,94): error CS1002: ; expected\r\n(3,97): error CS1002: ; expected\r\n(3,103): error CS1002: ; expected\r\n(4,3): error CS1002: ; expected\r\n(4,20): error CS1002: ; expected\r\n(4,25): error CS1002: ; expected\r\n(4,37): error CS1002: ; expected\r\n(4,47): error CS1002: ; expected\r\n(4,62): error CS1002: ; expected\r\n(4,77): error CS1002: ; expected\r\n(4,85): error CS1002: ; expected\r\n(4,95): error CS1002: ; expected\r\n(4,103): error CS1002: ; expected\r\n(4,110): error CS1002: ; expected\r\n(4,110): error CS7017: Member definition, statement, or end-of-file expected\r\n(4,124): error CS1002: ; expected\r\n(4,129): error CS1002: ; expected\r\n(4,146): error CS1002: ; expected\r\n(5,1): error CS1011: Empty character literal\r\n(5,3): error CS1002: ; expected\r\n(5,3): error CS1010: Newline in constant\r\n(5,3): error CS1011: Empty character literal\r\n(5,4): error CS1002: ; expected\r\n(6,13): error CS1525: Invalid expression term '['\r\n(6,14): error CS0443: Syntax error; value expected\r\n(6,15): error CS1002: ; expected\r\n(8,7): error CS1003: Syntax error, '(' expected\r\n(8,11): error CS1026: ) expected\r\n(8,11): error CS1525: Invalid expression term ':'\r\n(8,11): error CS1002: ; expected\r\n(8,11): error CS7017: Member definition, statement, or end-of-file expected\r\n(9,38): error CS1002: ; expected\r\n(10,6): error CS1003: Syntax error, '(' expected\r\n(10,18): error CS1026: ) expected\r\n(10,18): error CS1525: Invalid expression term ':'\r\n(10,18): error CS1002: ; expected\r\n(10,18): error CS7017: Member definition, statement, or end-of-file expected\r\n(11,29): error CS1002: ; expected\r\n(11,29): error CS8641: 'else' cannot start a statement.\r\n(11,29): error CS1003: Syntax error, '(' expected\r\n(11,29): error CS1525: Invalid expression term 'else'\r\n(11,29): error CS1026: ) expected\r\n(11,29): error CS1525: Invalid expression term 'else'\r\n(11,29): error CS1002: ; expected\r\n(12,7): error CS1525: Invalid expression term ':'\r\n(12,7): error CS1002: ; expected\r\n(12,7): error CS7017: Member definition, statement, or end-of-file expected\r\n(13,26): error CS1525: Invalid expression term 'int'\r\n(13,30): error CS1002: ; expected\r\n(14,21): error CS1002: ; expected\r\n(15,10): error CS1002: ; expected",
          "output_type": "error",
          "traceback": [
            "(1,3): error CS1024: Preprocessor directive expected\r\n",
            "(2,1): error CS1011: Empty character literal\r\n",
            "(2,3): error CS1002: ; expected\r\n",
            "(2,3): error CS1010: Newline in constant\r\n",
            "(2,3): error CS1011: Empty character literal\r\n",
            "(2,4): error CS1002: ; expected\r\n",
            "(3,13): error CS1002: ; expected\r\n",
            "(3,22): error CS1002: ; expected\r\n",
            "(3,22): error CS7017: Member definition, statement, or end-of-file expected\r\n",
            "(3,32): error CS1002: ; expected\r\n",
            "(3,56): error CS1002: ; expected\r\n",
            "(3,63): error CS1002: ; expected\r\n",
            "(3,72): error CS1002: ; expected\r\n",
            "(3,72): error CS7017: Member definition, statement, or end-of-file expected\r\n",
            "(3,82): error CS1002: ; expected\r\n",
            "(3,94): error CS1002: ; expected\r\n",
            "(3,97): error CS1002: ; expected\r\n",
            "(3,103): error CS1002: ; expected\r\n",
            "(4,3): error CS1002: ; expected\r\n",
            "(4,20): error CS1002: ; expected\r\n",
            "(4,25): error CS1002: ; expected\r\n",
            "(4,37): error CS1002: ; expected\r\n",
            "(4,47): error CS1002: ; expected\r\n",
            "(4,62): error CS1002: ; expected\r\n",
            "(4,77): error CS1002: ; expected\r\n",
            "(4,85): error CS1002: ; expected\r\n",
            "(4,95): error CS1002: ; expected\r\n",
            "(4,103): error CS1002: ; expected\r\n",
            "(4,110): error CS1002: ; expected\r\n",
            "(4,110): error CS7017: Member definition, statement, or end-of-file expected\r\n",
            "(4,124): error CS1002: ; expected\r\n",
            "(4,129): error CS1002: ; expected\r\n",
            "(4,146): error CS1002: ; expected\r\n",
            "(5,1): error CS1011: Empty character literal\r\n",
            "(5,3): error CS1002: ; expected\r\n",
            "(5,3): error CS1010: Newline in constant\r\n",
            "(5,3): error CS1011: Empty character literal\r\n",
            "(5,4): error CS1002: ; expected\r\n",
            "(6,13): error CS1525: Invalid expression term '['\r\n",
            "(6,14): error CS0443: Syntax error; value expected\r\n",
            "(6,15): error CS1002: ; expected\r\n",
            "(8,7): error CS1003: Syntax error, '(' expected\r\n",
            "(8,11): error CS1026: ) expected\r\n",
            "(8,11): error CS1525: Invalid expression term ':'\r\n",
            "(8,11): error CS1002: ; expected\r\n",
            "(8,11): error CS7017: Member definition, statement, or end-of-file expected\r\n",
            "(9,38): error CS1002: ; expected\r\n",
            "(10,6): error CS1003: Syntax error, '(' expected\r\n",
            "(10,18): error CS1026: ) expected\r\n",
            "(10,18): error CS1525: Invalid expression term ':'\r\n",
            "(10,18): error CS1002: ; expected\r\n",
            "(10,18): error CS7017: Member definition, statement, or end-of-file expected\r\n",
            "(11,29): error CS1002: ; expected\r\n",
            "(11,29): error CS8641: 'else' cannot start a statement.\r\n",
            "(11,29): error CS1003: Syntax error, '(' expected\r\n",
            "(11,29): error CS1525: Invalid expression term 'else'\r\n",
            "(11,29): error CS1026: ) expected\r\n",
            "(11,29): error CS1525: Invalid expression term 'else'\r\n",
            "(11,29): error CS1002: ; expected\r\n",
            "(12,7): error CS1525: Invalid expression term ':'\r\n",
            "(12,7): error CS1002: ; expected\r\n",
            "(12,7): error CS7017: Member definition, statement, or end-of-file expected\r\n",
            "(13,26): error CS1525: Invalid expression term 'int'\r\n",
            "(13,30): error CS1002: ; expected\r\n",
            "(14,21): error CS1002: ; expected\r\n",
            "(15,10): error CS1002: ; expected"
          ]
        }
      ],
      "source": [
        "# ZamArtem Update and rename p1.feladatk.attila3 to szamokenter.py\n",
        "'''\n",
        "Készíts egy programot, amely a felhasználótól számokat kér be mindaddig, amíg az csupán ENTER-t nem üt! \n",
        "A számokat tárolja el a program egy listában! Az adatbekérés befejezte után írja ki a program a lista elemeit, a legkisebb és a legnagyobb számot!\n",
        "'''\n",
        "szamlista = []\n",
        "\n",
        "while True:\n",
        "  szamok = input(\"kérek egy számot:\")\n",
        "  if szamok != \"\":\n",
        "    szamlista.append(szamok)\n",
        "  else:\n",
        "    szamlista.sort(key = int)\n",
        "    print(szamlista)\n",
        "    break"
      ]
    },
    {
      "cell_type": "markdown",
      "metadata": {
        "dotnet_interactive": {
          "language": "csharp"
        },
        "polyglot_notebook": {
          "kernelName": "csharp"
        }
      },
      "source": [
        "---\n",
        "**Számsorozat összege**\n",
        "\n",
        "* A felhasználátol kérjen be egy számot, és az ebből készített számsorozatot adja össze, majd írja ki."
      ]
    },
    {
      "cell_type": "code",
      "execution_count": null,
      "metadata": {
        "id": "gH6rOB68M1Ri"
      },
      "outputs": [
        {
          "ename": "Error",
          "evalue": "(1,3): error CS1024: Preprocessor directive expected\r\n(2,2): error CS1024: Preprocessor directive expected\r\n(4,2): error CS1024: Preprocessor directive expected\r\n(5,1): error CS1011: Empty character literal\r\n(5,3): error CS1002: ; expected\r\n(5,3): error CS1010: Newline in constant\r\n(5,3): error CS1011: Empty character literal\r\n(5,4): error CS1002: ; expected\r\n(6,11): error CS1002: ; expected\r\n(6,21): error CS1002: ; expected\r\n(7,3): error CS1002: ; expected\r\n(8,1): error CS1011: Empty character literal\r\n(8,3): error CS1002: ; expected\r\n(8,3): error CS1010: Newline in constant\r\n(8,3): error CS1011: Empty character literal\r\n(8,4): error CS1002: ; expected\r\n(10,2): error CS1024: Preprocessor directive expected\r\n(11,8): error CS1525: Invalid expression term 'int'\r\n(11,40): error CS1002: ; expected\r\n(12,13): error CS1002: ; expected\r\n(13,5): error CS1003: Syntax error, '(' expected\r\n(13,7): error CS1003: Syntax error, ',' expected\r\n(13,10): error CS1003: Syntax error, ',' expected\r\n(13,25): error CS1003: Syntax error, ',' expected\r\n(13,26): error CS1003: Syntax error, ',' expected\r\n(14,19): error CS1040: Preprocessor directives must appear as the first non-whitespace character on a line\r\n(15,1): error CS1003: Syntax error, ',' expected\r\n(15,16): error CS1002: ; expected\r\n(15,16): error CS1733: Expected expression\r\n(15,16): error CS1002: ; expected\r\n(15,16): error CS1026: ) expected\r\n(15,16): error CS1733: Expected expression\r\n(15,16): error CS1002: ; expected",
          "output_type": "error",
          "traceback": [
            "(1,3): error CS1024: Preprocessor directive expected\r\n",
            "(2,2): error CS1024: Preprocessor directive expected\r\n",
            "(4,2): error CS1024: Preprocessor directive expected\r\n",
            "(5,1): error CS1011: Empty character literal\r\n",
            "(5,3): error CS1002: ; expected\r\n",
            "(5,3): error CS1010: Newline in constant\r\n",
            "(5,3): error CS1011: Empty character literal\r\n",
            "(5,4): error CS1002: ; expected\r\n",
            "(6,11): error CS1002: ; expected\r\n",
            "(6,21): error CS1002: ; expected\r\n",
            "(7,3): error CS1002: ; expected\r\n",
            "(8,1): error CS1011: Empty character literal\r\n",
            "(8,3): error CS1002: ; expected\r\n",
            "(8,3): error CS1010: Newline in constant\r\n",
            "(8,3): error CS1011: Empty character literal\r\n",
            "(8,4): error CS1002: ; expected\r\n",
            "(10,2): error CS1024: Preprocessor directive expected\r\n",
            "(11,8): error CS1525: Invalid expression term 'int'\r\n",
            "(11,40): error CS1002: ; expected\r\n",
            "(12,13): error CS1002: ; expected\r\n",
            "(13,5): error CS1003: Syntax error, '(' expected\r\n",
            "(13,7): error CS1003: Syntax error, ',' expected\r\n",
            "(13,10): error CS1003: Syntax error, ',' expected\r\n",
            "(13,25): error CS1003: Syntax error, ',' expected\r\n",
            "(13,26): error CS1003: Syntax error, ',' expected\r\n",
            "(14,19): error CS1040: Preprocessor directives must appear as the first non-whitespace character on a line\r\n",
            "(15,1): error CS1003: Syntax error, ',' expected\r\n",
            "(15,16): error CS1002: ; expected\r\n",
            "(15,16): error CS1733: Expected expression\r\n",
            "(15,16): error CS1002: ; expected\r\n",
            "(15,16): error CS1026: ) expected\r\n",
            "(15,16): error CS1733: Expected expression\r\n",
            "(15,16): error CS1002: ; expected"
          ]
        }
      ],
      "source": [
        "# kovacsbalazspeter21 Update and rename osszead.py to szamsorozat.py\n",
        "#A felhasználátol kérjen be egy számot, és az ebből készített számsorozatot adja össze, majd írja ki.\n",
        "\n",
        "#példa\n",
        "'''\n",
        "kérek egy számot: 10\n",
        "55\n",
        "'''\n",
        "\n",
        "#megoldás:\n",
        "szam = int(input(\"kérek egy számot: \"))\n",
        "szamlalo = 0\n",
        "for i in range(szam + 1):\n",
        "    szamlalo += i #vagy szamlalo = szamlalo + i \n",
        "print(szamlalo)    \n"
      ]
    },
    {
      "cell_type": "markdown",
      "metadata": {
        "dotnet_interactive": {
          "language": "csharp"
        },
        "polyglot_notebook": {
          "kernelName": "csharp"
        }
      },
      "source": [
        "---\n",
        "**Két szám töbszörösei függvény**\n",
        "\n",
        "* Hozzon létre egy függvényt, amely két számot vesz argumentumként (szám, hossz)\n",
        "* és a szám többszöröseinek listáját adja vissza, amíg a lista hossza el nem éri a hosszúságot.\n",
        "\n",
        "```\n",
        "példa: list_of_multiples(7, 5) ➞ [7, 14, 21, 28, 35]\n",
        "```"
      ]
    },
    {
      "cell_type": "code",
      "execution_count": null,
      "metadata": {
        "id": "g3dQzMwaM9gx"
      },
      "outputs": [
        {
          "ename": "Error",
          "evalue": "(1,3): error CS1024: Preprocessor directive expected\r\n(2,1): error CS1011: Empty character literal\r\n(2,3): error CS1002: ; expected\r\n(2,3): error CS1010: Newline in constant\r\n(2,3): error CS1011: Empty character literal\r\n(2,4): error CS1002: ; expected\r\n(3,14): error CS1002: ; expected\r\n(3,29): error CS1044: Cannot use more than one type in a for, using, fixed, or declaration statement\r\n(3,35): error CS1002: ; expected\r\n(3,46): error CS1002: ; expected\r\n(3,71): error CS1001: Identifier expected\r\n(3,78): error CS1001: Identifier expected\r\n(3,79): error CS1002: ; expected\r\n(3,79): error CS7017: Member definition, statement, or end-of-file expected\r\n(4,6): error CS1002: ; expected\r\n(4,27): error CS1002: ; expected\r\n(4,41): error CS1002: ; expected\r\n(4,47): error CS1002: ; expected\r\n(4,47): error CS7017: Member definition, statement, or end-of-file expected\r\n(4,56): error CS1002: ; expected\r\n(4,69): error CS1002: ; expected\r\n(4,76): error CS1002: ; expected\r\n(4,82): error CS1002: ; expected\r\n(6,6): error CS1002: ; expected\r\n(6,6): error CS7017: Member definition, statement, or end-of-file expected\r\n(6,32): error CS1002: ; expected\r\n(6,32): error CS1056: Unexpected character '➞'\r\n(6,35): error CS1001: Identifier expected\r\n(6,35): error CS1001: Identifier expected\r\n(6,38): error CS1001: Identifier expected\r\n(6,38): error CS1001: Identifier expected\r\n(6,42): error CS1001: Identifier expected\r\n(6,42): error CS1001: Identifier expected\r\n(6,46): error CS1001: Identifier expected\r\n(6,46): error CS1001: Identifier expected\r\n(6,50): error CS1001: Identifier expected\r\n(6,50): error CS1001: Identifier expected\r\n(7,1): error CS1011: Empty character literal\r\n(7,3): error CS1002: ; expected\r\n(7,3): error CS1010: Newline in constant\r\n(7,3): error CS1011: Empty character literal\r\n(7,4): error CS1002: ; expected\r\n(8,2): error CS1024: Preprocessor directive expected\r\n(10,13): error CS1001: Identifier expected\r\n(10,20): error CS1001: Identifier expected\r\n(10,22): error CS1018: Keyword 'this' or 'base' expected\r\n(10,22): error CS1002: ; expected\r\n(11,11): error CS1525: Invalid expression term '['\r\n(11,12): error CS0443: Syntax error; value expected\r\n(11,13): error CS1002: ; expected\r\n(12,15): error CS1002: ; expected\r\n(13,9): error CS1003: Syntax error, '(' expected\r\n(13,19): error CS1026: ) expected\r\n(13,19): error CS1525: Invalid expression term ':'\r\n(13,19): error CS1002: ; expected\r\n(13,19): error CS7017: Member definition, statement, or end-of-file expected\r\n(14,24): error CS1002: ; expected\r\n(15,18): error CS1002: ; expected\r\n(16,15): error CS1002: ; expected\r\n(17,15): error CS1002: ; expected",
          "output_type": "error",
          "traceback": [
            "(1,3): error CS1024: Preprocessor directive expected\r\n",
            "(2,1): error CS1011: Empty character literal\r\n",
            "(2,3): error CS1002: ; expected\r\n",
            "(2,3): error CS1010: Newline in constant\r\n",
            "(2,3): error CS1011: Empty character literal\r\n",
            "(2,4): error CS1002: ; expected\r\n",
            "(3,14): error CS1002: ; expected\r\n",
            "(3,29): error CS1044: Cannot use more than one type in a for, using, fixed, or declaration statement\r\n",
            "(3,35): error CS1002: ; expected\r\n",
            "(3,46): error CS1002: ; expected\r\n",
            "(3,71): error CS1001: Identifier expected\r\n",
            "(3,78): error CS1001: Identifier expected\r\n",
            "(3,79): error CS1002: ; expected\r\n",
            "(3,79): error CS7017: Member definition, statement, or end-of-file expected\r\n",
            "(4,6): error CS1002: ; expected\r\n",
            "(4,27): error CS1002: ; expected\r\n",
            "(4,41): error CS1002: ; expected\r\n",
            "(4,47): error CS1002: ; expected\r\n",
            "(4,47): error CS7017: Member definition, statement, or end-of-file expected\r\n",
            "(4,56): error CS1002: ; expected\r\n",
            "(4,69): error CS1002: ; expected\r\n",
            "(4,76): error CS1002: ; expected\r\n",
            "(4,82): error CS1002: ; expected\r\n",
            "(6,6): error CS1002: ; expected\r\n",
            "(6,6): error CS7017: Member definition, statement, or end-of-file expected\r\n",
            "(6,32): error CS1002: ; expected\r\n",
            "(6,32): error CS1056: Unexpected character '➞'\r\n",
            "(6,35): error CS1001: Identifier expected\r\n",
            "(6,35): error CS1001: Identifier expected\r\n",
            "(6,38): error CS1001: Identifier expected\r\n",
            "(6,38): error CS1001: Identifier expected\r\n",
            "(6,42): error CS1001: Identifier expected\r\n",
            "(6,42): error CS1001: Identifier expected\r\n",
            "(6,46): error CS1001: Identifier expected\r\n",
            "(6,46): error CS1001: Identifier expected\r\n",
            "(6,50): error CS1001: Identifier expected\r\n",
            "(6,50): error CS1001: Identifier expected\r\n",
            "(7,1): error CS1011: Empty character literal\r\n",
            "(7,3): error CS1002: ; expected\r\n",
            "(7,3): error CS1010: Newline in constant\r\n",
            "(7,3): error CS1011: Empty character literal\r\n",
            "(7,4): error CS1002: ; expected\r\n",
            "(8,2): error CS1024: Preprocessor directive expected\r\n",
            "(10,13): error CS1001: Identifier expected\r\n",
            "(10,20): error CS1001: Identifier expected\r\n",
            "(10,22): error CS1018: Keyword 'this' or 'base' expected\r\n",
            "(10,22): error CS1002: ; expected\r\n",
            "(11,11): error CS1525: Invalid expression term '['\r\n",
            "(11,12): error CS0443: Syntax error; value expected\r\n",
            "(11,13): error CS1002: ; expected\r\n",
            "(12,15): error CS1002: ; expected\r\n",
            "(13,9): error CS1003: Syntax error, '(' expected\r\n",
            "(13,19): error CS1026: ) expected\r\n",
            "(13,19): error CS1525: Invalid expression term ':'\r\n",
            "(13,19): error CS1002: ; expected\r\n",
            "(13,19): error CS7017: Member definition, statement, or end-of-file expected\r\n",
            "(14,24): error CS1002: ; expected\r\n",
            "(15,18): error CS1002: ; expected\r\n",
            "(16,15): error CS1002: ; expected\r\n",
            "(17,15): error CS1002: ; expected"
          ]
        }
      ],
      "source": [
        "# loczylevi Rename p1noel_004 to szorzotabla.py\n",
        "'''\n",
        "Hozzon létre egy függvényt, amely két számot vesz argumentumként (szám, hossz),\n",
        "és a szám többszöröseinek listáját adja vissza, amíg a lista hossza el nem éri a hosszúságot.\n",
        "\n",
        "példa: list_of_multiples(7, 5) ➞ [7, 14, 21, 28, 35]\n",
        "'''\n",
        "#Lehetséges Megoldás\n",
        "\n",
        "def asd(szam, hossz):\n",
        "  lista = []\n",
        "  szamm = szam\n",
        "  while hossz != 0:\n",
        "    lista.append(szamm)\n",
        "    szamm += szam\n",
        "    hossz -= 1\n",
        "  return lista"
      ]
    },
    {
      "cell_type": "markdown",
      "metadata": {
        "dotnet_interactive": {
          "language": "csharp"
        },
        "polyglot_notebook": {
          "kernelName": "csharp"
        }
      },
      "source": [
        "---\n",
        "**Utolsó számjegy**\n",
        "* Készíts egy programot, ami bekér egy számot a felhasználótól \n",
        "* és kiírja a képernyőre az utolsó számjegyét!"
      ]
    },
    {
      "cell_type": "code",
      "execution_count": null,
      "metadata": {
        "id": "3MQfHMSPNEKZ"
      },
      "outputs": [
        {
          "ename": "Error",
          "evalue": "(1,3): error CS1024: Preprocessor directive expected\r\n(2,1): error CS1011: Empty character literal\r\n(2,3): error CS1002: ; expected\r\n(2,3): error CS1010: Newline in constant\r\n(2,3): error CS1011: Empty character literal\r\n(2,4): error CS1002: ; expected\r\n(3,13): error CS1002: ; expected\r\n(3,22): error CS1002: ; expected\r\n(3,22): error CS7017: Member definition, statement, or end-of-file expected\r\n(3,34): error CS1002: ; expected\r\n(3,45): error CS1002: ; expected\r\n(3,61): error CS1002: ; expected\r\n(4,11): error CS1002: ; expected\r\n(4,24): error CS1002: ; expected\r\n(4,34): error CS1002: ; expected\r\n(4,45): error CS1002: ; expected\r\n(5,1): error CS1011: Empty character literal\r\n(5,3): error CS1002: ; expected\r\n(5,3): error CS1010: Newline in constant\r\n(5,3): error CS1011: Empty character literal\r\n(5,4): error CS1002: ; expected\r\n(7,2): error CS1024: Preprocessor directive expected\r\n(9,8): error CS1525: Invalid expression term 'int'\r\n(9,41): error CS1002: ; expected",
          "output_type": "error",
          "traceback": [
            "(1,3): error CS1024: Preprocessor directive expected\r\n",
            "(2,1): error CS1011: Empty character literal\r\n",
            "(2,3): error CS1002: ; expected\r\n",
            "(2,3): error CS1010: Newline in constant\r\n",
            "(2,3): error CS1011: Empty character literal\r\n",
            "(2,4): error CS1002: ; expected\r\n",
            "(3,13): error CS1002: ; expected\r\n",
            "(3,22): error CS1002: ; expected\r\n",
            "(3,22): error CS7017: Member definition, statement, or end-of-file expected\r\n",
            "(3,34): error CS1002: ; expected\r\n",
            "(3,45): error CS1002: ; expected\r\n",
            "(3,61): error CS1002: ; expected\r\n",
            "(4,11): error CS1002: ; expected\r\n",
            "(4,24): error CS1002: ; expected\r\n",
            "(4,34): error CS1002: ; expected\r\n",
            "(4,45): error CS1002: ; expected\r\n",
            "(5,1): error CS1011: Empty character literal\r\n",
            "(5,3): error CS1002: ; expected\r\n",
            "(5,3): error CS1010: Newline in constant\r\n",
            "(5,3): error CS1011: Empty character literal\r\n",
            "(5,4): error CS1002: ; expected\r\n",
            "(7,2): error CS1024: Preprocessor directive expected\r\n",
            "(9,8): error CS1525: Invalid expression term 'int'\r\n",
            "(9,41): error CS1002: ; expected"
          ]
        }
      ],
      "source": [
        "# violetta2413 Rename p1violetta_004.py to utolso_szamjegy.py\n",
        "'''\n",
        "Készíts egy programot, ami bekér egy számot a felhasználótól \n",
        "és kiírja a képernyőre az utolsó számjegyét!\n",
        "'''\n",
        "\n",
        "#megoldás\n",
        "\n",
        "szam = int(input(\"Adj meg egy számot:\"))\n",
        "print(szam % 10)"
      ]
    },
    {
      "cell_type": "markdown",
      "metadata": {
        "dotnet_interactive": {
          "language": "csharp"
        },
        "polyglot_notebook": {
          "kernelName": "csharp"
        }
      },
      "source": [
        "---\n",
        "**Számkitaláló**\n",
        "* Készíts egy rövid programot, amely 1 és 3 között generál véletlenszámot, \n",
        "* majd összehasonlítja ezt a felhasználó által megadott, szintén ebbe a tartományba eső számmal! \n",
        "* Az összehasonlítás eredményéről tájékoztassa a felhasználót!"
      ]
    },
    {
      "cell_type": "code",
      "execution_count": null,
      "metadata": {
        "id": "pE0Pvaw3NK2P"
      },
      "outputs": [
        {
          "ename": "Error",
          "evalue": "(1,3): error CS1024: Preprocessor directive expected\r\n(6,4): error CS1002: ; expected\r\n(8,14): error CS1002: ; expected\r\n(9,37): error CS1002: ; expected\r\n(10,2): error CS1024: Preprocessor directive expected\r\n(11,10): error CS1525: Invalid expression term 'int'\r\n(11,39): error CS1002: ; expected\r\n(12,4): error CS1003: Syntax error, '(' expected\r\n(12,27): error CS1026: ) expected\r\n(12,27): error CS1525: Invalid expression term ':'\r\n(12,27): error CS1002: ; expected\r\n(12,27): error CS7017: Member definition, statement, or end-of-file expected\r\n(13,25): error CS1002: ; expected\r\n(13,25): error CS8641: 'else' cannot start a statement.\r\n(13,25): error CS1003: Syntax error, '(' expected\r\n(13,25): error CS1525: Invalid expression term 'else'\r\n(13,25): error CS1026: ) expected\r\n(13,25): error CS1525: Invalid expression term 'else'\r\n(13,25): error CS1002: ; expected\r\n(14,5): error CS1525: Invalid expression term ':'\r\n(14,5): error CS1002: ; expected\r\n(14,5): error CS7017: Member definition, statement, or end-of-file expected",
          "output_type": "error",
          "traceback": [
            "(1,3): error CS1024: Preprocessor directive expected\r\n",
            "(6,4): error CS1002: ; expected\r\n",
            "(8,14): error CS1002: ; expected\r\n",
            "(9,37): error CS1002: ; expected\r\n",
            "(10,2): error CS1024: Preprocessor directive expected\r\n",
            "(11,10): error CS1525: Invalid expression term 'int'\r\n",
            "(11,39): error CS1002: ; expected\r\n",
            "(12,4): error CS1003: Syntax error, '(' expected\r\n",
            "(12,27): error CS1026: ) expected\r\n",
            "(12,27): error CS1525: Invalid expression term ':'\r\n",
            "(12,27): error CS1002: ; expected\r\n",
            "(12,27): error CS7017: Member definition, statement, or end-of-file expected\r\n",
            "(13,25): error CS1002: ; expected\r\n",
            "(13,25): error CS8641: 'else' cannot start a statement.\r\n",
            "(13,25): error CS1003: Syntax error, '(' expected\r\n",
            "(13,25): error CS1525: Invalid expression term 'else'\r\n",
            "(13,25): error CS1026: ) expected\r\n",
            "(13,25): error CS1525: Invalid expression term 'else'\r\n",
            "(13,25): error CS1002: ; expected\r\n",
            "(14,5): error CS1525: Invalid expression term ':'\r\n",
            "(14,5): error CS1002: ; expected\r\n",
            "(14,5): error CS7017: Member definition, statement, or end-of-file expected"
          ]
        }
      ],
      "source": [
        "# kovacsbalazspeter21 Add files via upload veletlen.py \n",
        "\"\"\"\n",
        "Készíts programot, amely 1 és 3 között generál véletlenszámot, \n",
        "majd összehasonlítja ezt a felhasználó által megadott, szintén ebbe a tartományba eső számmal! \n",
        "Az összehasonlítás eredményéről tájékoztassa a felhasználót!\n",
        "\"\"\"\n",
        "\n",
        "import random\n",
        "veletlen_szam = random.randint(1, 3)\n",
        "#print(veletlen_szam)\n",
        "bekert = int(input(\"Kérem a számot!\"))\n",
        "if veletlen_szam == bekert:\n",
        "    print(\"Megegyezik!\")\n",
        "else:\n",
        "  print(\"Nem egyezik!\")"
      ]
    },
    {
      "cell_type": "markdown",
      "metadata": {
        "dotnet_interactive": {
          "language": "csharp"
        },
        "polyglot_notebook": {
          "kernelName": "csharp"
        }
      },
      "source": [
        "---\n",
        "**Páros számok 1 és 10 között**\n",
        "\n",
        "Írj egy programot while ciklussal amely kiírja a páros számokat 1 és 10 között!"
      ]
    },
    {
      "cell_type": "code",
      "execution_count": null,
      "metadata": {
        "id": "9WRy9umoNV7m"
      },
      "outputs": [
        {
          "ename": "Error",
          "evalue": "(1,3): error CS1024: Preprocessor directive expected\r\n(2,1): error CS1011: Empty character literal\r\n(2,3): error CS1002: ; expected\r\n(2,3): error CS1010: Newline in constant\r\n(2,3): error CS1011: Empty character literal\r\n(2,4): error CS1002: ; expected\r\n(3,15): error CS1002: ; expected\r\n(3,21): error CS1003: Syntax error, '(' expected\r\n(3,31): error CS1026: ) expected\r\n(3,44): error CS1002: ; expected\r\n(3,52): error CS1002: ; expected\r\n(3,61): error CS1002: ; expected\r\n(3,63): error CS1002: ; expected\r\n(3,66): error CS1002: ; expected\r\n(3,69): error CS1002: ; expected\r\n(3,76): error CS1002: ; expected\r\n(4,1): error CS1011: Empty character literal\r\n(4,3): error CS1002: ; expected\r\n(4,3): error CS1010: Newline in constant\r\n(4,3): error CS1011: Empty character literal\r\n(4,4): error CS1002: ; expected\r\n(6,9): error CS1002: ; expected\r\n(7,7): error CS1003: Syntax error, '(' expected\r\n(7,16): error CS1026: ) expected\r\n(7,16): error CS1525: Invalid expression term ':'\r\n(7,16): error CS1002: ; expected\r\n(7,16): error CS7017: Member definition, statement, or end-of-file expected\r\n(8,18): error CS1002: ; expected",
          "output_type": "error",
          "traceback": [
            "(1,3): error CS1024: Preprocessor directive expected\r\n",
            "(2,1): error CS1011: Empty character literal\r\n",
            "(2,3): error CS1002: ; expected\r\n",
            "(2,3): error CS1010: Newline in constant\r\n",
            "(2,3): error CS1011: Empty character literal\r\n",
            "(2,4): error CS1002: ; expected\r\n",
            "(3,15): error CS1002: ; expected\r\n",
            "(3,21): error CS1003: Syntax error, '(' expected\r\n",
            "(3,31): error CS1026: ) expected\r\n",
            "(3,44): error CS1002: ; expected\r\n",
            "(3,52): error CS1002: ; expected\r\n",
            "(3,61): error CS1002: ; expected\r\n",
            "(3,63): error CS1002: ; expected\r\n",
            "(3,66): error CS1002: ; expected\r\n",
            "(3,69): error CS1002: ; expected\r\n",
            "(3,76): error CS1002: ; expected\r\n",
            "(4,1): error CS1011: Empty character literal\r\n",
            "(4,3): error CS1002: ; expected\r\n",
            "(4,3): error CS1010: Newline in constant\r\n",
            "(4,3): error CS1011: Empty character literal\r\n",
            "(4,4): error CS1002: ; expected\r\n",
            "(6,9): error CS1002: ; expected\r\n",
            "(7,7): error CS1003: Syntax error, '(' expected\r\n",
            "(7,16): error CS1026: ) expected\r\n",
            "(7,16): error CS1525: Invalid expression term ':'\r\n",
            "(7,16): error CS1002: ; expected\r\n",
            "(7,16): error CS7017: Member definition, statement, or end-of-file expected\r\n",
            "(8,18): error CS1002: ; expected"
          ]
        }
      ],
      "source": [
        "# kovacsbalazspeter21 Add files via upload while.py \n",
        "'''\n",
        "Írj programot while ciklussal amely kiírja a páros számokat 1 és 10 között!\n",
        "'''\n",
        "\n",
        "szam = 0\n",
        "while szam < 10:\n",
        "  szam = szam + 2\n",
        "  print(szam)"
      ]
    }
  ],
  "metadata": {
    "colab": {
      "authorship_tag": "ABX9TyN/PhWWtUnqOmSAItED2ni2",
      "collapsed_sections": [],
      "include_colab_link": true,
      "name": "p1alapvizsga.ipynb",
      "private_outputs": true,
      "provenance": []
    },
    "kernelspec": {
      "display_name": "Python 3",
      "language": "python",
      "name": "python3"
    },
    "language_info": {
      "codemirror_mode": {
        "name": "ipython",
        "version": 3
      },
      "file_extension": ".py",
      "mimetype": "text/x-python",
      "name": "python",
      "nbconvert_exporter": "python",
      "pygments_lexer": "ipython3",
      "version": "3.10.7"
    },
    "polyglot_notebook": {
      "kernelInfo": {
        "defaultKernelName": "csharp",
        "items": [
          {
            "aliases": [],
            "name": "csharp"
          }
        ]
      }
    }
  },
  "nbformat": 4,
  "nbformat_minor": 0
}
